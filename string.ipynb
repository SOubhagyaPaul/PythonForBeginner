{
 "cells": [
  {
   "cell_type": "code",
   "execution_count": 1,
   "id": "ea26cb06",
   "metadata": {},
   "outputs": [],
   "source": [
    "# Strings : ordered, immutable, specified with double quotes or single quotes"
   ]
  },
  {
   "cell_type": "code",
   "execution_count": 2,
   "id": "f2b0cf27",
   "metadata": {},
   "outputs": [
    {
     "name": "stdout",
     "output_type": "stream",
     "text": [
      "MCA HITK\n"
     ]
    }
   ],
   "source": [
    "# display a string literal with print()\n",
    "\n",
    "print(\"MCA HITK\")"
   ]
  },
  {
   "cell_type": "code",
   "execution_count": 3,
   "id": "fea6f7d3",
   "metadata": {},
   "outputs": [
    {
     "name": "stdout",
     "output_type": "stream",
     "text": [
      "MCA HITK\n"
     ]
    }
   ],
   "source": [
    "print('MCA HITK')"
   ]
  },
  {
   "cell_type": "code",
   "execution_count": 4,
   "id": "a1c10893",
   "metadata": {},
   "outputs": [
    {
     "name": "stdout",
     "output_type": "stream",
     "text": [
      "MCA's are excellent\n"
     ]
    }
   ],
   "source": [
    "print(\"MCA's are excellent\")"
   ]
  },
  {
   "cell_type": "code",
   "execution_count": 5,
   "id": "cf494293",
   "metadata": {},
   "outputs": [
    {
     "name": "stdout",
     "output_type": "stream",
     "text": [
      "MCA's are \"excellent\"\n"
     ]
    }
   ],
   "source": [
    "print(\"MCA's are \\\"excellent\\\"\")"
   ]
  },
  {
   "cell_type": "code",
   "execution_count": 6,
   "id": "b32fa8ad",
   "metadata": {},
   "outputs": [
    {
     "name": "stdout",
     "output_type": "stream",
     "text": [
      "MCA HITK\n",
      "Kol\n"
     ]
    }
   ],
   "source": [
    "#multiline string \n",
    "#'''string literal''' or \"\"\"string literal\"\"\"\n",
    "\n",
    "students = \"\"\"MCA HITK\n",
    "Kol\"\"\"\n",
    "print(students)"
   ]
  },
  {
   "cell_type": "code",
   "execution_count": 7,
   "id": "cf243a46",
   "metadata": {},
   "outputs": [
    {
     "name": "stdout",
     "output_type": "stream",
     "text": [
      "MCA HITK, Kolkata\n",
      "MCA HITK, Kolkata\n",
      "MCA HITK, Kolkata\n"
     ]
    }
   ],
   "source": [
    "#to concatenate, or combine, two strings the + operator can be used\n",
    "\n",
    "students = \"MCA HITK\"\n",
    "place = \"Kolkata\"\n",
    "txt = students + \",\" + \" \" + place\n",
    "print(students + \", \" + place)\n",
    "print(students + \",\" + \" \" + place)\n",
    "print(txt)"
   ]
  },
  {
   "cell_type": "code",
   "execution_count": 8,
   "id": "3f460c5a",
   "metadata": {},
   "outputs": [
    {
     "name": "stdout",
     "output_type": "stream",
     "text": [
      "MCA HITK, KolkataKolkataKolkata\n"
     ]
    }
   ],
   "source": [
    "# the * operator can be used to repeat the string for a given number of times\n",
    "\n",
    "students = \"MCA HITK\"\n",
    "place = \"Kolkata\" * 3\n",
    "print(students + \", \" + place)"
   ]
  },
  {
   "cell_type": "code",
   "execution_count": 9,
   "id": "038616dd",
   "metadata": {},
   "outputs": [
    {
     "name": "stdout",
     "output_type": "stream",
     "text": [
      "M A 8\n"
     ]
    }
   ],
   "source": [
    "# indexing, length\n",
    "# square brackets can be used to access elements of the string\n",
    "# 0  1  2  3  4  5  6  7\n",
    "# M  C  A     H  I  T  K\n",
    "#-8 -7 -6 -5 -4 -3 -2 -1\n",
    "\n",
    "students = \"MCA HITK\"\n",
    "print(students[0],students[-6], len(students))"
   ]
  },
  {
   "cell_type": "code",
   "execution_count": 10,
   "id": "8fb9de3f",
   "metadata": {},
   "outputs": [
    {
     "name": "stdout",
     "output_type": "stream",
     "text": [
      "M\n",
      "C\n",
      "A\n",
      " \n",
      "H\n",
      "I\n",
      "T\n",
      "K\n"
     ]
    }
   ],
   "source": [
    "# iterating through a string\n",
    "\n",
    "students = \"MCA HITK\"\n",
    "for x in students:\n",
    "    print(x)"
   ]
  },
  {
   "cell_type": "code",
   "execution_count": 11,
   "id": "1ed1c2de",
   "metadata": {},
   "outputs": [
    {
     "data": {
      "text/plain": [
       "True"
      ]
     },
     "execution_count": 11,
     "metadata": {},
     "output_type": "execute_result"
    }
   ],
   "source": [
    "#to check if a certain phrase or character is present in a string, we can use the keyword in\n",
    "'M' in \"MCA\""
   ]
  },
  {
   "cell_type": "code",
   "execution_count": 12,
   "id": "49832806",
   "metadata": {},
   "outputs": [
    {
     "data": {
      "text/plain": [
       "True"
      ]
     },
     "execution_count": 12,
     "metadata": {},
     "output_type": "execute_result"
    }
   ],
   "source": [
    "\"MC\" in \"MCA\""
   ]
  },
  {
   "cell_type": "code",
   "execution_count": 13,
   "id": "2e29ae81",
   "metadata": {},
   "outputs": [
    {
     "data": {
      "text/plain": [
       "False"
      ]
     },
     "execution_count": 13,
     "metadata": {},
     "output_type": "execute_result"
    }
   ],
   "source": [
    "'B' in \"MCA\""
   ]
  },
  {
   "cell_type": "code",
   "execution_count": 14,
   "id": "4dac2e81",
   "metadata": {},
   "outputs": [
    {
     "data": {
      "text/plain": [
       "False"
      ]
     },
     "execution_count": 14,
     "metadata": {},
     "output_type": "execute_result"
    }
   ],
   "source": [
    "'MB' in \"MCA\""
   ]
  },
  {
   "cell_type": "code",
   "execution_count": 15,
   "id": "6c0fd32d",
   "metadata": {},
   "outputs": [
    {
     "data": {
      "text/plain": [
       "True"
      ]
     },
     "execution_count": 15,
     "metadata": {},
     "output_type": "execute_result"
    }
   ],
   "source": [
    "#to check if a certain phrase or character is NOT present in a string, use not in\n",
    "'B' not in \"MCA\""
   ]
  },
  {
   "cell_type": "code",
   "execution_count": 16,
   "id": "0d26b1f5",
   "metadata": {},
   "outputs": [
    {
     "name": "stdout",
     "output_type": "stream",
     "text": [
      "HITK\n",
      "MCA HIT\n",
      "A HITK\n"
     ]
    }
   ],
   "source": [
    "#slicing strName[startindex : endindex], start index to end index (not included)\n",
    "# 0  1  2  3  4  5  6  7\n",
    "# M  C  A     H  I  T  K\n",
    "#-8 -7 -6 -5 -4 -3 -2 -1\n",
    "\n",
    "students = \"MCA HITK\"\n",
    "print(students[4:8])\n",
    "\n",
    "#leaving out the start index, will start at the first character\n",
    "\n",
    "print(students[:7])\n",
    "\n",
    "#leaving out the end index, will go upto the end\n",
    "\n",
    "print(students[2:])"
   ]
  },
  {
   "cell_type": "code",
   "execution_count": 17,
   "id": "fc4084fe",
   "metadata": {},
   "outputs": [
    {
     "name": "stdout",
     "output_type": "stream",
     "text": [
      "MCA HITK\n"
     ]
    }
   ],
   "source": [
    "students = \"MCA HITK\"\n",
    "print(students[:])"
   ]
  },
  {
   "cell_type": "code",
   "execution_count": 18,
   "id": "b83fc267",
   "metadata": {},
   "outputs": [
    {
     "name": "stdout",
     "output_type": "stream",
     "text": [
      "TK\n",
      "CA H\n",
      "MCA HI\n"
     ]
    }
   ],
   "source": [
    "#using negative indexes \n",
    "# M  C  A     H  I  T  K\n",
    "#-8 -7 -6 -5 -4 -3 -2 -1\n",
    "\n",
    "students = \"MCA HITK\"\n",
    "print(students[-2:])\n",
    "print(students[-7:-3])\n",
    "print(students[:-2])"
   ]
  },
  {
   "cell_type": "code",
   "execution_count": 19,
   "id": "2f8a5daf",
   "metadata": {},
   "outputs": [
    {
     "name": "stdout",
     "output_type": "stream",
     "text": [
      "['__add__', '__class__', '__contains__', '__delattr__', '__dir__', '__doc__', '__eq__', '__format__', '__ge__', '__getattribute__', '__getitem__', '__getnewargs__', '__gt__', '__hash__', '__init__', '__init_subclass__', '__iter__', '__le__', '__len__', '__lt__', '__mod__', '__mul__', '__ne__', '__new__', '__reduce__', '__reduce_ex__', '__repr__', '__rmod__', '__rmul__', '__setattr__', '__sizeof__', '__str__', '__subclasshook__', 'capitalize', 'casefold', 'center', 'count', 'encode', 'endswith', 'expandtabs', 'find', 'format', 'format_map', 'index', 'isalnum', 'isalpha', 'isascii', 'isdecimal', 'isdigit', 'isidentifier', 'islower', 'isnumeric', 'isprintable', 'isspace', 'istitle', 'isupper', 'join', 'ljust', 'lower', 'lstrip', 'maketrans', 'partition', 'removeprefix', 'removesuffix', 'replace', 'rfind', 'rindex', 'rjust', 'rpartition', 'rsplit', 'rstrip', 'split', 'splitlines', 'startswith', 'strip', 'swapcase', 'title', 'translate', 'upper', 'zfill']\n"
     ]
    }
   ],
   "source": [
    "print(dir(str))"
   ]
  },
  {
   "cell_type": "code",
   "execution_count": 20,
   "id": "937cacf6",
   "metadata": {},
   "outputs": [],
   "source": [
    "# Python has a set of built-in methods that can be used on strings\n",
    "# All string methods return new values. They do not change the original string"
   ]
  },
  {
   "cell_type": "code",
   "execution_count": 20,
   "id": "d96bd212",
   "metadata": {},
   "outputs": [
    {
     "name": "stdout",
     "output_type": "stream",
     "text": [
      "Help on method_descriptor:\n",
      "\n",
      "lower(self, /)\n",
      "    Return a copy of the string converted to lowercase.\n",
      "\n",
      "Help on method_descriptor:\n",
      "\n",
      "upper(self, /)\n",
      "    Return a copy of the string converted to uppercase.\n",
      "\n"
     ]
    }
   ],
   "source": [
    "help(str.lower)\n",
    "help(str.upper)"
   ]
  },
  {
   "cell_type": "code",
   "execution_count": 21,
   "id": "a8ffdcb4",
   "metadata": {},
   "outputs": [
    {
     "name": "stdout",
     "output_type": "stream",
     "text": [
      "class of mca\n",
      "CLASS OF MCA\n"
     ]
    }
   ],
   "source": [
    "# lower() method returns the string in lower case\n",
    "# upper() method returns the string in upper case\n",
    "\n",
    "students = 'class of MCA'\n",
    "print(students.lower())\n",
    "print(students.upper())"
   ]
  },
  {
   "cell_type": "code",
   "execution_count": 22,
   "id": "699b5bcb",
   "metadata": {},
   "outputs": [
    {
     "ename": "TypeError",
     "evalue": "'str' object does not support item assignment",
     "output_type": "error",
     "traceback": [
      "\u001b[1;31m---------------------------------------------------------------------------\u001b[0m",
      "\u001b[1;31mTypeError\u001b[0m                                 Traceback (most recent call last)",
      "\u001b[1;32m~\\AppData\\Local\\Temp\\ipykernel_20352\\3967881319.py\u001b[0m in \u001b[0;36m<module>\u001b[1;34m\u001b[0m\n\u001b[0;32m      2\u001b[0m \u001b[1;33m\u001b[0m\u001b[0m\n\u001b[0;32m      3\u001b[0m \u001b[0mstudents\u001b[0m \u001b[1;33m=\u001b[0m \u001b[1;34m\"MCA HITK\"\u001b[0m\u001b[1;33m\u001b[0m\u001b[1;33m\u001b[0m\u001b[0m\n\u001b[1;32m----> 4\u001b[1;33m \u001b[0mstudents\u001b[0m\u001b[1;33m[\u001b[0m\u001b[1;36m1\u001b[0m\u001b[1;33m]\u001b[0m \u001b[1;33m=\u001b[0m \u001b[1;34m\"B\"\u001b[0m\u001b[1;33m\u001b[0m\u001b[1;33m\u001b[0m\u001b[0m\n\u001b[0m",
      "\u001b[1;31mTypeError\u001b[0m: 'str' object does not support item assignment"
     ]
    }
   ],
   "source": [
    "#'str' object does not support item assignment\n",
    "\n",
    "students = \"MCA HITK\"\n",
    "students[1] = \"B\""
   ]
  },
  {
   "cell_type": "code",
   "execution_count": 23,
   "id": "0e418b2f",
   "metadata": {},
   "outputs": [
    {
     "name": "stdout",
     "output_type": "stream",
     "text": [
      "MCA HITK\n",
      "MAHT\n",
      "M T\n",
      "KTIH ACM\n",
      "KI C\n",
      "KHC\n"
     ]
    }
   ],
   "source": [
    "#using the third optional argument 'step' in slicing\n",
    "# 0  1  2  3  4  5  6  7\n",
    "# M  C  A     H  I  T  K\n",
    "#-8 -7 -6 -5 -4 -3 -2 -1\n",
    "\n",
    "students = \"MCA HITK\"\n",
    "print(students[:])\n",
    "print(students[::2])\n",
    "print(students[::3])\n",
    "print(students[::-1])\n",
    "print(students[::-2])\n",
    "print(students[::-3])\n"
   ]
  },
  {
   "cell_type": "code",
   "execution_count": 24,
   "id": "ea4e9cc9",
   "metadata": {},
   "outputs": [
    {
     "name": "stdout",
     "output_type": "stream",
     "text": [
      "0.171875\n",
      "KTIH ACM\n",
      "0.125\n",
      "KTIH ACM\n",
      "0.015625\n",
      "KTIH ACM\n"
     ]
    }
   ],
   "source": [
    "# reversing a string\n",
    "import time\n",
    "students = \"MCA HITK\"\n",
    "\n",
    "# Method 1:\n",
    "\n",
    "length = len(students)\n",
    "start = time.process_time()\n",
    "for i in range(100000):\n",
    "    revStudents = \"\"\n",
    "    for x in range(1, length + 1):\n",
    "        revStudents += students[-x]\n",
    "end = time.process_time()\n",
    "print(end - start)\n",
    "print(revStudents)\n",
    "\n",
    "# Method 2:\n",
    "start = time.process_time()\n",
    "for i in range(100000):\n",
    "    revStudents = \"\"\n",
    "    for x in students:\n",
    "        revStudents = x + revStudents\n",
    "end = time.process_time()\n",
    "print(end - start)\n",
    "print(revStudents)\n",
    "\n",
    "\n",
    "# Method 3:\n",
    "start = time.process_time()\n",
    "for i in range(100000):\n",
    "    revStudents = students[::-1]\n",
    "end = time.process_time()\n",
    "print(end - start)\n",
    "print(revStudents)"
   ]
  },
  {
   "cell_type": "code",
   "execution_count": 25,
   "id": "59f426de",
   "metadata": {},
   "outputs": [
    {
     "name": "stdout",
     "output_type": "stream",
     "text": [
      "Help on method_descriptor:\n",
      "\n",
      "capitalize(self, /)\n",
      "    Return a capitalized version of the string.\n",
      "    \n",
      "    More specifically, make the first character have upper case and the rest lower\n",
      "    case.\n",
      "\n",
      "Help on method_descriptor:\n",
      "\n",
      "title(self, /)\n",
      "    Return a version of the string where each word is titlecased.\n",
      "    \n",
      "    More specifically, words start with uppercased characters and all remaining\n",
      "    cased characters have lower case.\n",
      "\n"
     ]
    }
   ],
   "source": [
    "help(str.capitalize)\n",
    "help(str.title)"
   ]
  },
  {
   "cell_type": "code",
   "execution_count": 26,
   "id": "222bd258",
   "metadata": {},
   "outputs": [
    {
     "name": "stdout",
     "output_type": "stream",
     "text": [
      "Students of mca 1st year\n",
      "Students Of Mca 1St Year\n"
     ]
    }
   ],
   "source": [
    "# capitalize()\n",
    "# returns a string where the first character is upper case, and the rest is lower case\n",
    "\n",
    "students = \"students of MCA 1st year\"\n",
    "print(students.capitalize())\n",
    "\n",
    "# title() \n",
    "# returns a string where the first character in every word is upper case\n",
    "# if the word contains a number or a symbol, the first letter after that will be converted to upper case.\n",
    "\n",
    "print(students.title())"
   ]
  },
  {
   "cell_type": "code",
   "execution_count": 27,
   "id": "93561079",
   "metadata": {},
   "outputs": [
    {
     "name": "stdout",
     "output_type": "stream",
     "text": [
      "Help on method_descriptor:\n",
      "\n",
      "count(...)\n",
      "    S.count(sub[, start[, end]]) -> int\n",
      "    \n",
      "    Return the number of non-overlapping occurrences of substring sub in\n",
      "    string S[start:end].  Optional arguments start and end are\n",
      "    interpreted as in slice notation.\n",
      "\n"
     ]
    }
   ],
   "source": [
    "help(str.count)"
   ]
  },
  {
   "cell_type": "code",
   "execution_count": 28,
   "id": "c12e48a4",
   "metadata": {},
   "outputs": [
    {
     "name": "stdout",
     "output_type": "stream",
     "text": [
      "3\n",
      "2\n",
      "1\n"
     ]
    }
   ],
   "source": [
    "# count()\n",
    "# string.count(value, start, end)\n",
    "# returns the number of times a specified value appears in the string\n",
    "# the start position and end position are optional, defaults are 0 and end of string respectively\n",
    "\n",
    "msg = \"we forget soon the things we thought we could never forget\"\n",
    "print(msg.count(\"we\"))\n",
    "print(msg.count(\"we\",10))\n",
    "print(msg.count(\"we\",10,30))"
   ]
  },
  {
   "cell_type": "code",
   "execution_count": 29,
   "id": "6b20a745",
   "metadata": {},
   "outputs": [
    {
     "name": "stdout",
     "output_type": "stream",
     "text": [
      "Help on method_descriptor:\n",
      "\n",
      "find(...)\n",
      "    S.find(sub[, start[, end]]) -> int\n",
      "    \n",
      "    Return the lowest index in S where substring sub is found,\n",
      "    such that sub is contained within S[start:end].  Optional\n",
      "    arguments start and end are interpreted as in slice notation.\n",
      "    \n",
      "    Return -1 on failure.\n",
      "\n"
     ]
    }
   ],
   "source": [
    "help(str.find)"
   ]
  },
  {
   "cell_type": "code",
   "execution_count": 19,
   "id": "c0d1b5e0",
   "metadata": {},
   "outputs": [
    {
     "name": "stdout",
     "output_type": "stream",
     "text": [
      "find()\n",
      "0\n",
      "26\n",
      "-1\n",
      "index()\n",
      "0\n",
      "26\n"
     ]
    },
    {
     "ename": "ValueError",
     "evalue": "substring not found",
     "output_type": "error",
     "traceback": [
      "\u001b[1;31m---------------------------------------------------------------------------\u001b[0m",
      "\u001b[1;31mValueError\u001b[0m                                Traceback (most recent call last)",
      "Input \u001b[1;32mIn [19]\u001b[0m, in \u001b[0;36m<cell line: 19>\u001b[1;34m()\u001b[0m\n\u001b[0;32m     17\u001b[0m \u001b[38;5;28mprint\u001b[39m(msg\u001b[38;5;241m.\u001b[39mindex(\u001b[38;5;124m\"\u001b[39m\u001b[38;5;124mwe\u001b[39m\u001b[38;5;124m\"\u001b[39m))\n\u001b[0;32m     18\u001b[0m \u001b[38;5;28mprint\u001b[39m(msg\u001b[38;5;241m.\u001b[39mindex(\u001b[38;5;124m\"\u001b[39m\u001b[38;5;124mwe\u001b[39m\u001b[38;5;124m\"\u001b[39m,\u001b[38;5;241m10\u001b[39m,\u001b[38;5;241m30\u001b[39m))\n\u001b[1;32m---> 19\u001b[0m \u001b[38;5;28mprint\u001b[39m(\u001b[43mmsg\u001b[49m\u001b[38;5;241;43m.\u001b[39;49m\u001b[43mindex\u001b[49m\u001b[43m(\u001b[49m\u001b[38;5;124;43m\"\u001b[39;49m\u001b[38;5;124;43mus\u001b[39;49m\u001b[38;5;124;43m\"\u001b[39;49m\u001b[43m)\u001b[49m)\n",
      "\u001b[1;31mValueError\u001b[0m: substring not found"
     ]
    }
   ],
   "source": [
    "# find() \n",
    "# string.find(value, start, end)\n",
    "# finds the first occurrence (index) of the specified value, returns -1 if the value is not found\n",
    "# the start position and end position are optional, defaults are 0 and end of string respectively\n",
    "\n",
    "msg = \"we forget soon the things we thought we could never forget\"\n",
    "print('find()')\n",
    "print(msg.find(\"we\"))\n",
    "\n",
    "print(msg.find(\"we\",10,30))\n",
    "print(msg.find(\"us\"))\n",
    "\n",
    "# index()\n",
    "# works similar to that of find, but raises an exception if the value is not found\n",
    "\n",
    "msg = \"we forget soon the things we thought we could never forget\"\n",
    "print('index()')\n",
    "print(msg.index(\"we\"))\n",
    "print(msg.index(\"we\",10,30))\n",
    "print(msg.index(\"us\"))"
   ]
  },
  {
   "cell_type": "code",
   "execution_count": 20,
   "id": "3c1e92d5",
   "metadata": {},
   "outputs": [
    {
     "name": "stdout",
     "output_type": "stream",
     "text": [
      "Help on built-in function strip:\n",
      "\n",
      "strip(chars=None, /) method of builtins.str instance\n",
      "    Return a copy of the string with leading and trailing whitespace removed.\n",
      "    \n",
      "    If chars is given and not None, remove characters in chars instead.\n",
      "\n"
     ]
    }
   ],
   "source": [
    "help(str.strip)"
   ]
  },
  {
   "cell_type": "code",
   "execution_count": 32,
   "id": "278c0ba0",
   "metadata": {},
   "outputs": [
    {
     "name": "stdout",
     "output_type": "stream",
     "text": [
      "MCA       students    love programming\n",
      "MCA students love programming\n",
      "MCA ..aa..;@students... love programming\n",
      "MCA students love programming\n"
     ]
    }
   ],
   "source": [
    "# strip()\n",
    "# string.strip(characters)\n",
    "# removes any leading and trailing characters\n",
    "# the default characters to remove are whitespaces\n",
    "\n",
    "txt = \"      students   \"\n",
    "print(\"MCA\",txt,\"love programming\")\n",
    "print(\"MCA\",txt.strip(),\"love programming\")\n",
    "\n",
    "txt = \"..aa..;@students...\"\n",
    "print(\"MCA\",txt,\"love programming\")\n",
    "print(\"MCA\",txt.strip(\".;@a\"),\"love programming\")"
   ]
  },
  {
   "cell_type": "code",
   "execution_count": 33,
   "id": "ef9607fd",
   "metadata": {},
   "outputs": [
    {
     "name": "stdout",
     "output_type": "stream",
     "text": [
      "Help on method_descriptor:\n",
      "\n",
      "replace(self, old, new, count=-1, /)\n",
      "    Return a copy with all occurrences of substring old replaced by new.\n",
      "    \n",
      "      count\n",
      "        Maximum number of occurrences to replace.\n",
      "        -1 (the default value) means replace all occurrences.\n",
      "    \n",
      "    If the optional argument count is given, only the first count occurrences are\n",
      "    replaced.\n",
      "\n"
     ]
    }
   ],
   "source": [
    "help(str.replace)"
   ]
  },
  {
   "cell_type": "code",
   "execution_count": 34,
   "id": "5d2ab542",
   "metadata": {},
   "outputs": [
    {
     "name": "stdout",
     "output_type": "stream",
     "text": [
      "I forget soon the things I thought I could never forget\n",
      "I forget soon the things we thought we could never forget\n",
      "I forget soon the things I thought we could never forget\n"
     ]
    }
   ],
   "source": [
    "# replace()\n",
    "# string.replace(oldvalue, newvalue, count)\n",
    "# replaces 'count' occurrences of 'oldvalue' with 'newvalue'\n",
    "# 'count' is optional. Default is all occurrences\n",
    "\n",
    "msg = \"we forget soon the things we thought we could never forget\"\n",
    "print(msg.replace('we',\"I\"))\n",
    "print(msg.replace('we',\"I\", 1))\n",
    "print(msg.replace('we',\"I\", 2))"
   ]
  },
  {
   "cell_type": "code",
   "execution_count": 35,
   "id": "7769b344",
   "metadata": {},
   "outputs": [
    {
     "name": "stdout",
     "output_type": "stream",
     "text": [
      "Help on method_descriptor:\n",
      "\n",
      "split(self, /, sep=None, maxsplit=-1)\n",
      "    Return a list of the words in the string, using sep as the delimiter string.\n",
      "    \n",
      "    sep\n",
      "      The delimiter according which to split the string.\n",
      "      None (the default value) means split according to any whitespace,\n",
      "      and discard empty strings from the result.\n",
      "    maxsplit\n",
      "      Maximum number of splits to do.\n",
      "      -1 (the default value) means no limit.\n",
      "\n"
     ]
    }
   ],
   "source": [
    "help(str.split)"
   ]
  },
  {
   "cell_type": "code",
   "execution_count": 24,
   "id": "5acefa60",
   "metadata": {},
   "outputs": [
    {
     "name": "stdout",
     "output_type": "stream",
     "text": [
      "['MCA', 'HITK', 'Kolkata']\n",
      "['MCA:HITK:Kolkata']\n",
      "['MCA', 'HITK', 'Kolkata']\n",
      "['MCA', 'HITK:Kolkata']\n",
      "[]\n"
     ]
    }
   ],
   "source": [
    "# split()\n",
    "# string.split(separator, maxsplit)\n",
    "# splits a string into a list\n",
    "# 'separator' is optional. Default value is any whitespace\n",
    "# 'maxsplit' is optional. If specified list will contain maxsplit plus one elements\n",
    "# default value of 'maxsplit' is -1 specifying all occurrences\n",
    "\n",
    "txt = \"MCA HITK Kolkata\"\n",
    "print(txt.split())\n",
    "\n",
    "txt = \"MCA:HITK:Kolkata\"\n",
    "print(txt.split())\n",
    "print(txt.split(\":\"))\n",
    "print(txt.split(\":\",1))\n",
    "print(\"       \".split())"
   ]
  },
  {
   "cell_type": "code",
   "execution_count": 37,
   "id": "b9788f19",
   "metadata": {},
   "outputs": [
    {
     "name": "stdout",
     "output_type": "stream",
     "text": [
      "Help on method_descriptor:\n",
      "\n",
      "join(self, iterable, /)\n",
      "    Concatenate any number of strings.\n",
      "    \n",
      "    The string whose method is called is inserted in between each given string.\n",
      "    The result is returned as a new string.\n",
      "    \n",
      "    Example: '.'.join(['ab', 'pq', 'rs']) -> 'ab.pq.rs'\n",
      "\n"
     ]
    }
   ],
   "source": [
    "help(str.join)"
   ]
  },
  {
   "cell_type": "code",
   "execution_count": 38,
   "id": "616fdd0a",
   "metadata": {},
   "outputs": [
    {
     "name": "stdout",
     "output_type": "stream",
     "text": [
      "HITK\n",
      "H-I-T-K\n",
      "HITK\n",
      "H:-:I:-:T:-:K\n"
     ]
    }
   ],
   "source": [
    "# join()\n",
    "# string.join(iterable)\n",
    "# returns a string by joining all the elements of an iterable, \n",
    "# a string must be specified as the separator\n",
    "# iterable : objects capable of returning its members one at a time\n",
    "# some examples of iterables : String, List, Tuple, Dictionary, Set\n",
    "# if the iterable contains any non-string values, it raises the TypeError exception\n",
    "\n",
    "# joining with string\n",
    "txt = \"HITK\"\n",
    "print(\"\".join(txt))\n",
    "print(\"-\".join(txt))\n",
    "\n",
    "# joining with list\n",
    "myList = ['H','I','T','K']\n",
    "print(\"\".join(myList))\n",
    "print(\":-:\".join(myList))"
   ]
  },
  {
   "cell_type": "code",
   "execution_count": 26,
   "id": "24766240",
   "metadata": {},
   "outputs": [
    {
     "name": "stdout",
     "output_type": "stream",
     "text": [
      "MCA first year has 58 students\n",
      "MCA first year has 58 students\n",
      "MCA first year has 58 students\n",
      "MCA first year has 58 students with average age of 21.623000\n",
      "MCA first year has 58 students with average age of 21.62\n"
     ]
    }
   ],
   "source": [
    "# formatting a string\n",
    "\n",
    "#formatting with %\n",
    "\n",
    "print(\"MCA first year has 58 %s\" %'students')\n",
    "\n",
    "txt = 'students'\n",
    "print(\"MCA first year has 58 %s\" %txt)\n",
    "\n",
    "num = 58\n",
    "print(\"MCA first year has %d %s\" %(num,txt))\n",
    "\n",
    "age = 21.623\n",
    "print(\"MCA first year has %d %s with average age of %f\" %(num,txt,age))\n",
    "print(\"MCA first year has %d %s with average age of %.2f\" %(num,txt,age))"
   ]
  },
  {
   "cell_type": "code",
   "execution_count": 28,
   "id": "d4976b2e",
   "metadata": {},
   "outputs": [
    {
     "name": "stdout",
     "output_type": "stream",
     "text": [
      "MCA first year has 58 students with average age of 21.623\n",
      "MCA first year has 58 students with average age of 21.623\n",
      "MCA first year has 58 students with average age of 21.623\n",
      "MCA first year has 58 students with average age of 21.62\n"
     ]
    }
   ],
   "source": [
    "# formatting a string\n",
    "# using format()\n",
    "# string.format(value1, value2...)\n",
    "# The placeholder is defined using curly brackets: {}\n",
    "\n",
    "print(\"MCA first year has {} {} with average age of {}\".format(num,txt,age))\n",
    "print(\"MCA first year has {2} {1} with average age of {0}\".format(age,txt,num))\n",
    "print(\"MCA first year has {x} {y} with average age of {z}\".format(z=age,y=txt,x=num))\n",
    "print(\"MCA first year has {} {} with average age of {:.2f}\".format(num,txt,age))"
   ]
  },
  {
   "cell_type": "code",
   "execution_count": 41,
   "id": "598d750c",
   "metadata": {},
   "outputs": [
    {
     "name": "stdout",
     "output_type": "stream",
     "text": [
      "MCA first year has 58 students with average age of 21.62\n"
     ]
    }
   ],
   "source": [
    "# formatting a string\n",
    "\n",
    "# using F-strings\n",
    "\n",
    "print(f\"MCA first year has {num} {txt} with average age of {age:.{4}}\")"
   ]
  },
  {
   "cell_type": "code",
   "execution_count": 5,
   "id": "2fd0a4f5",
   "metadata": {},
   "outputs": [
    {
     "name": "stdout",
     "output_type": "stream",
     "text": [
      "http\n",
      "edu\n",
      "http\n"
     ]
    }
   ],
   "source": [
    "# Extract the scheme(protocol) from the given url\n",
    "url = \"http://heritageit.edu\"\n",
    "i = url.find(':')\n",
    "print(url[:i]) #roll:06\n",
    "\n",
    "n = url.find('.')\n",
    "print(url[n+1:]) #roll:13\n",
    "\n",
    "print(url.split(':')[0]) #roll: 56"
   ]
  },
  {
   "cell_type": "code",
   "execution_count": 42,
   "id": "39ab599a",
   "metadata": {},
   "outputs": [
    {
     "name": "stdout",
     "output_type": "stream",
     "text": [
      "a studentsmc\n",
      "tsmca studen\n"
     ]
    }
   ],
   "source": [
    "# Generate a string by rotating a given string by 'n' elements\n",
    "# Suppose string is \"mca students\" and n=2\n",
    "# Left rotation should generate \"a studentsmc\"\n",
    "# Right rotation should generate \"tsmca studen\"\n",
    "myStr = \"mca students\"\n",
    "n = 2\n",
    "print(myStr[n:] + myStr[:n]) \n",
    "print(myStr[-n:] + myStr[:-n]) "
   ]
  },
  {
   "cell_type": "code",
   "execution_count": 43,
   "id": "9983c543",
   "metadata": {},
   "outputs": [
    {
     "name": "stdout",
     "output_type": "stream",
     "text": [
      "['Enjoying', 'Python', 'programming']\n",
      "programming Python Enjoying\n"
     ]
    }
   ],
   "source": [
    "# Reverse a string word by word\n",
    "# Suppose string is \"Enjoying Python programming\"\n",
    "# Output should be \"programming Python Enjoying\"\n",
    "x = \"Enjoying Python programming\"\n",
    "y=x.split()\n",
    "print(y)\n",
    "print(\" \".join(y[::-1])) "
   ]
  },
  {
   "cell_type": "code",
   "execution_count": 1,
   "id": "b29171ad",
   "metadata": {},
   "outputs": [
    {
     "name": "stdout",
     "output_type": "stream",
     "text": [
      "GeeksforGeeks, is a computer science portal for geeks\n",
      "Hi ! My name is User and I am 19 years old\n",
      "This is one two three four\n"
     ]
    }
   ],
   "source": [
    "# Multiple placeholders in format() function\n",
    "my_string = \"{}, is a {} science portal for {}\"\n",
    "print(my_string.format(\"GeeksforGeeks\", \"computer\", \"geeks\"))\n",
    " \n",
    "# different datatypes can be used in formatting\n",
    "print(\"Hi ! My name is {} and I am {} years old\"\n",
    "      .format(\"User\", 19))\n",
    " \n",
    "# The values passed as parameters\n",
    "# are replaced in order of their entry\n",
    "print(\"This is {} {} {} {}\"\n",
    "      .format(\"one\", \"two\", \"three\", \"four\"))"
   ]
  },
  {
   "cell_type": "code",
   "execution_count": 29,
   "id": "7c9e91c3",
   "metadata": {},
   "outputs": [
    {
     "name": "stdout",
     "output_type": "stream",
     "text": [
      "ydcin evah\n"
     ]
    }
   ],
   "source": [
    "x=\"have a nice day!\"\n",
    "res=[]\n",
    "for i in x:\n",
    "    if(i.isalpha() or i.isspace()):\n",
    "        res.append(i)\n",
    "unique=[]\n",
    "for i in res:\n",
    "    if i not in unique:\n",
    "        unique.append(i)\n",
    "unique=unique[::-1]\n",
    "str=\"\"\n",
    "\n",
    "print(\"\".join(unique))"
   ]
  },
  {
   "cell_type": "code",
   "execution_count": 1,
   "id": "80de49a8",
   "metadata": {},
   "outputs": [
    {
     "name": "stdout",
     "output_type": "stream",
     "text": [
      "['n', 'j', 'k']\n"
     ]
    }
   ],
   "source": [
    "l=['k','j','n']\n",
    "print(l[::-1])"
   ]
  },
  {
   "cell_type": "code",
   "execution_count": null,
   "id": "a5560088",
   "metadata": {},
   "outputs": [],
   "source": []
  }
 ],
 "metadata": {
  "kernelspec": {
   "display_name": "Python 3 (ipykernel)",
   "language": "python",
   "name": "python3"
  },
  "language_info": {
   "codemirror_mode": {
    "name": "ipython",
    "version": 3
   },
   "file_extension": ".py",
   "mimetype": "text/x-python",
   "name": "python",
   "nbconvert_exporter": "python",
   "pygments_lexer": "ipython3",
   "version": "3.9.7"
  }
 },
 "nbformat": 4,
 "nbformat_minor": 5
}
