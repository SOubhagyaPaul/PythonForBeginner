{
 "cells": [
  {
   "cell_type": "code",
   "execution_count": 3,
   "id": "c9a46f9c",
   "metadata": {},
   "outputs": [
    {
     "name": "stdout",
     "output_type": "stream",
     "text": [
      "(array([0], dtype=int64),)\n",
      "[1.]\n",
      "(array([2], dtype=int64),)\n",
      "[3.]\n",
      "(array([1], dtype=int64),)\n",
      "[2.6]\n",
      "(array([], dtype=int64),)\n",
      "(array([], dtype=int64),)\n",
      "(array([5], dtype=int64),)\n",
      "[5.6]\n",
      "All elements are different\n"
     ]
    }
   ],
   "source": [
    "import numpy as np\n",
    "x = np.array([1.0, 3. , 2.6, 4.3, 7.7, 5.6])\n",
    "y = np.array([1. , 2.6, 3., 4. , 7. , 5.6])\n",
    "for e in x:\n",
    "    j = np.where(e == y) # a tuple containing arrays with\n",
    "                        #indexes\n",
    "    print(j)\n",
    "    if(j[0].size != 0):\n",
    "        print(y[j])\n",
    "else:\n",
    "    print(\"All elements are different\")"
   ]
  },
  {
   "cell_type": "code",
   "execution_count": 4,
   "id": "61cb59d1",
   "metadata": {},
   "outputs": [
    {
     "data": {
      "text/plain": [
       "'1.23.1'"
      ]
     },
     "execution_count": 4,
     "metadata": {},
     "output_type": "execute_result"
    }
   ],
   "source": [
    "np.__version__"
   ]
  },
  {
   "cell_type": "code",
   "execution_count": 5,
   "id": "b7616d84",
   "metadata": {},
   "outputs": [
    {
     "data": {
      "text/plain": [
       "(array([1, 5, 8, 9]), array([77,  6,  9, 10]))"
      ]
     },
     "execution_count": 5,
     "metadata": {},
     "output_type": "execute_result"
    }
   ],
   "source": [
    "a=np.array([1,5,8,9])\n",
    "b=np.array([16,35,18,98])\n",
    "b=a+1\n",
    "b[0]=77\n",
    "a,b\n"
   ]
  },
  {
   "cell_type": "code",
   "execution_count": 8,
   "id": "8bf7a790",
   "metadata": {},
   "outputs": [
    {
     "data": {
      "text/plain": [
       "array([1., 0., 3., 4., 0.])"
      ]
     },
     "execution_count": 8,
     "metadata": {},
     "output_type": "execute_result"
    }
   ],
   "source": [
    "x = np.array([1., -2., 3., 4., -5.])\n",
    "i = np.where(x < 0)\n",
    "x.flat[i] = 0\n",
    "x"
   ]
  },
  {
   "cell_type": "code",
   "execution_count": 28,
   "id": "b713bc62",
   "metadata": {},
   "outputs": [
    {
     "data": {
      "text/plain": [
       "array([-0.03, -0.04, -0.02])"
      ]
     },
     "execution_count": 28,
     "metadata": {},
     "output_type": "execute_result"
    }
   ],
   "source": [
    "r = np.array([0.09,-0.03,-0.04,0.07,0.00,-0.02])\n",
    "rneg = r.clip(-1, 0)\n",
    "rneg=rneg[rneg.nonzero()]\n",
    "rneg"
   ]
  },
  {
   "cell_type": "code",
   "execution_count": 30,
   "id": "1af3ee87",
   "metadata": {},
   "outputs": [
    {
     "data": {
      "text/plain": [
       "(array([-0.03, -0.04, -0.02]), array([0.09, 0.07, 0.  ]))"
      ]
     },
     "execution_count": 30,
     "metadata": {},
     "output_type": "execute_result"
    }
   ],
   "source": [
    "r = np.array([0.09,-0.03,-0.04,0.07,0.00,-0.02])\n",
    "rneg = r[r < 0] # masking\n",
    "rpos = r[r >= 0] # masking\n",
    "rneg,rpos"
   ]
  },
  {
   "cell_type": "code",
   "execution_count": 35,
   "id": "1c13e05f",
   "metadata": {},
   "outputs": [
    {
     "data": {
      "text/plain": [
       "(array([1., 1., 1., 1., 1.]), array([0, 0, 0, 0, 0]))"
      ]
     },
     "execution_count": 35,
     "metadata": {},
     "output_type": "execute_result"
    }
   ],
   "source": [
    "x = np.array([0])\n",
    "z = np.array([1.])\n",
    "x = x.repeat(5)\n",
    "x\n",
    "#array([0, 0, 0, 0, 0]) # dtype('int64')----output\n",
    "z = z.repeat(5)\n",
    "z,x\n",
    "#array([ 1., 1., 1., 1., 1.]) # dtype('float64')"
   ]
  },
  {
   "cell_type": "code",
   "execution_count": 37,
   "id": "14e5203f",
   "metadata": {},
   "outputs": [
    {
     "name": "stdout",
     "output_type": "stream",
     "text": [
      "[ 0  1  2  3  4  5  6  7  8  9 10]\n",
      "[ 1  2  3  4  5  6  7  8  9 10]\n",
      "[ 0  2  4  6  8 10]\n",
      "[1 3 5 7 9]\n"
     ]
    }
   ],
   "source": [
    ">>> a = np.arange(11)\n",
    ">>> print(a)\n",
    "#array([0, 1, 2, 3, 4, 5, 6, 7, 8, 9, 10])\n",
    ">>> a = np.arange(10) + 1\n",
    ">>> print(a)\n",
    "#array([1, 2, 3, 4, 5, 6, 7, 8, 9, 10])\n",
    ">>> a = np.arange(0, 11, 2)\n",
    ">>> print(a)\n",
    "#array([ 0, 2, 4, 6, 8, 10])\n",
    ">>> a = np.arange(0, 10, 2) + 1\n",
    ">>> print(a)\n",
    "#array([1, 3, 5, 7, 9])"
   ]
  },
  {
   "cell_type": "code",
   "execution_count": null,
   "id": "698d0ccf",
   "metadata": {},
   "outputs": [],
   "source": []
  }
 ],
 "metadata": {
  "kernelspec": {
   "display_name": "Python 3 (ipykernel)",
   "language": "python",
   "name": "python3"
  },
  "language_info": {
   "codemirror_mode": {
    "name": "ipython",
    "version": 3
   },
   "file_extension": ".py",
   "mimetype": "text/x-python",
   "name": "python",
   "nbconvert_exporter": "python",
   "pygments_lexer": "ipython3",
   "version": "3.9.7"
  }
 },
 "nbformat": 4,
 "nbformat_minor": 5
}
