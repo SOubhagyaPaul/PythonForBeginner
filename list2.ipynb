{
 "cells": [
  {
   "cell_type": "code",
   "execution_count": 1,
   "id": "a9df79d0",
   "metadata": {},
   "outputs": [
    {
     "name": "stdout",
     "output_type": "stream",
     "text": [
      "Help on method_descriptor:\n",
      "\n",
      "sort(self, /, *, key=None, reverse=False)\n",
      "    Sort the list in ascending order and return None.\n",
      "    \n",
      "    The sort is in-place (i.e. the list itself is modified) and stable (i.e. the\n",
      "    order of two equal elements is maintained).\n",
      "    \n",
      "    If a key function is given, apply it once to each list item and sort them,\n",
      "    ascending or descending, according to their function values.\n",
      "    \n",
      "    The reverse flag can be set to sort in descending order.\n",
      "\n"
     ]
    }
   ],
   "source": [
    "help(list.sort)"
   ]
  },
  {
   "cell_type": "code",
   "execution_count": 2,
   "id": "88b4c066",
   "metadata": {},
   "outputs": [
    {
     "name": "stdout",
     "output_type": "stream",
     "text": [
      "courses sorted in ascending order: ['MCa', 'bca', 'bsc', 'btech', 'msc']\n",
      "scores sorted in ascending order: [9, 19, 23, 29]\n"
     ]
    }
   ],
   "source": [
    "# sort() - sorts the list ascending by default\n",
    "\n",
    "courses = [\"bca\", \"MCa\", \"btech\", \"bsc\", \"msc\"]\n",
    "courses.sort()\n",
    "print(f\"courses sorted in ascending order: {courses}\")\n",
    "\n",
    "scores = [23, 29, 19, 9]\n",
    "scores.sort()\n",
    "print(f\"scores sorted in ascending order: {scores}\")"
   ]
  },
  {
   "cell_type": "code",
   "execution_count": 3,
   "id": "5efd7679",
   "metadata": {},
   "outputs": [
    {
     "name": "stdout",
     "output_type": "stream",
     "text": [
      "courses sorted in descending order: ['msc', 'btech', 'bsc', 'bca', 'MCa']\n"
     ]
    }
   ],
   "source": [
    "# sort() - sorts in descending order by setting the 'reverse' flag\n",
    "\n",
    "courses = [\"bca\", \"MCa\", \"btech\", \"bsc\", \"msc\"]\n",
    "courses.sort(reverse = True)\n",
    "print(f\"courses sorted in descending order: {courses}\") "
   ]
  },
  {
   "cell_type": "code",
   "execution_count": 4,
   "id": "a9260a65",
   "metadata": {},
   "outputs": [
    {
     "name": "stdout",
     "output_type": "stream",
     "text": [
      "Help on built-in function sorted in module builtins:\n",
      "\n",
      "sorted(iterable, /, *, key=None, reverse=False)\n",
      "    Return a new list containing all items from the iterable in ascending order.\n",
      "    \n",
      "    A custom key function can be supplied to customize the sort order, and the\n",
      "    reverse flag can be set to request the result in descending order.\n",
      "\n"
     ]
    }
   ],
   "source": [
    "help(sorted)"
   ]
  },
  {
   "cell_type": "code",
   "execution_count": 5,
   "id": "8270c446",
   "metadata": {},
   "outputs": [
    {
     "name": "stdout",
     "output_type": "stream",
     "text": [
      "courses: ['bca', 'MCa', 'btech', 'bsc', 'msc']\n",
      "x : ['MCa', 'bca', 'bsc', 'btech', 'msc']\n"
     ]
    }
   ],
   "source": [
    "# original list kept intact. Return a new list with sorted()\n",
    "\n",
    "courses = [\"bca\", \"MCa\", \"btech\", \"bsc\", \"msc\"]\n",
    "x = sorted(courses)\n",
    "print(f\"courses: {courses}\")\n",
    "print(f\"x : {x}\")"
   ]
  },
  {
   "cell_type": "code",
   "execution_count": 6,
   "id": "66952c11",
   "metadata": {},
   "outputs": [
    {
     "name": "stdout",
     "output_type": "stream",
     "text": [
      "courses: ['bca', 'MCa', 'btech', 'bsc', 'msc']\n",
      "x : ['MCa', 'bca', 'bsc', 'btech', 'msc']\n"
     ]
    }
   ],
   "source": [
    "# original list kept intact. copy created by slicing and sorting applied on it\n",
    "\n",
    "courses = [\"bca\", \"MCa\", \"btech\", \"bsc\", \"msc\"]\n",
    "x = courses[:]\n",
    "x.sort()\n",
    "print(f\"courses: {courses}\")\n",
    "print(f\"x : {x}\")"
   ]
  },
  {
   "cell_type": "code",
   "execution_count": 7,
   "id": "5404cf17",
   "metadata": {},
   "outputs": [
    {
     "name": "stdout",
     "output_type": "stream",
     "text": [
      "Help on built-in function id in module builtins:\n",
      "\n",
      "id(obj, /)\n",
      "    Return the identity of an object.\n",
      "    \n",
      "    This is guaranteed to be unique among simultaneously existing objects.\n",
      "    (CPython uses the object's memory address.)\n",
      "\n"
     ]
    }
   ],
   "source": [
    "help(id)"
   ]
  },
  {
   "cell_type": "code",
   "execution_count": 1,
   "id": "40f01cf8",
   "metadata": {},
   "outputs": [
    {
     "name": "stdout",
     "output_type": "stream",
     "text": [
      "id(x)=1673323195072, x: [11, 22, [33, 44, 66], 55]\n",
      "id(y)=1673323195072, y: [11, 22, [33, 44, 66], 55]\n",
      "id(x)=1673323195072, x: [11, 22, [33, 44, 66], 55, 3]\n",
      "id(y)=1673323195072, y: [11, 22, [33, 44, 66], 55, 3]\n",
      "id(x)=1673323195072, x: [11, 99, [100, 44, 66], 55, 3]\n",
      "id(y)=1673323195072, y: [11, 99, [100, 44, 66], 55, 3]\n"
     ]
    }
   ],
   "source": [
    "# assignment: creating alias\n",
    "# Assignment statements in Python do not copy objects, \n",
    "# they create bindings between a target and an object.\n",
    "\n",
    "x = [11, 22, [33, 44, 66], 55]\n",
    "y = x\n",
    "\n",
    "print(f\"id(x)={id(x)}, x: {x}\")\n",
    "print(f\"id(y)={id(y)}, y: {y}\")\n",
    "\n",
    "y.append(3)\n",
    "print(f\"id(x)={id(x)}, x: {x}\")\n",
    "print(f\"id(y)={id(y)}, y: {y}\")\n",
    "\n",
    "y[1] = 99\n",
    "y[2][0] = 100\n",
    "print(f\"id(x)={id(x)}, x: {x}\")\n",
    "print(f\"id(y)={id(y)}, y: {y}\")"
   ]
  },
  {
   "cell_type": "code",
   "execution_count": 12,
   "id": "159d2eda",
   "metadata": {},
   "outputs": [],
   "source": [
    "# For collections that are mutable or contain mutable items, \n",
    "# a copy is sometimes needed so one can change one copy without changing the other.\n",
    "\n",
    "# Shallow copy vs. deep copy\n",
    "\n",
    "# The difference between shallow and deep copying is only relevant for \n",
    "# compound objects (objects that contain other objects, like lists or class instances)\n",
    "\n",
    "# A shallow copy constructs a new compound object and then (to the extent possible) \n",
    "# inserts references into it to the objects found in the original.\n",
    "\n",
    "# A deep copy con                                                                                                                                                                                                                                                                                                                                                                                                                                                                                                                                                                                                                                                                                                                                                                                                                                                                                                                                                                                                                                                                                                                                                                                                                                                                                                                                                                                                                                                                                            structs a new compound object and then, recursively, \n",
    "# inserts copies into it of the objects found in the original."
   ]
  },
  {
   "cell_type": "code",
   "execution_count": 13,
   "id": "4cc8c5eb",
   "metadata": {},
   "outputs": [
    {
     "name": "stdout",
     "output_type": "stream",
     "text": [
      "y: [11, 99, [100, 44, 66], 55]\n",
      "x: [11, 22, [100, 44, 66], 55]\n"
     ]
    }
   ],
   "source": [
    "# shallow copy\n",
    "# slicing\n",
    "\n",
    "x = [11, 22, [33, 44, 66], 55]\n",
    "y = x[:]\n",
    "\n",
    "y[1] = 99\n",
    "y[2][0] = 100\n",
    "\n",
    "print(f\"y: {y}\")\n",
    "print(f\"x: {x}\")"
   ]
  },
  {
   "cell_type": "code",
   "execution_count": 14,
   "id": "cca04e79",
   "metadata": {},
   "outputs": [
    {
     "name": "stdout",
     "output_type": "stream",
     "text": [
      "y: [11, 99, [100, 44, 66], 55]\n",
      "x: [11, 22, [100, 44, 66], 55]\n"
     ]
    }
   ],
   "source": [
    "# shallow copy\n",
    "# list.copy()\n",
    "\n",
    "x = [11, 22, [33, 44, 66], 55]\n",
    "y = x.copy()\n",
    "\n",
    "y[1] = 99\n",
    "y[2][0] = 100\n",
    "\n",
    "print(f\"y: {y}\")\n",
    "print(f\"x: {x}\")"
   ]
  },
  {
   "cell_type": "code",
   "execution_count": 15,
   "id": "7a30b211",
   "metadata": {},
   "outputs": [
    {
     "name": "stdout",
     "output_type": "stream",
     "text": [
      "y: [11, 99, [100, 44, 66], 55]\n",
      "x: [11, 22, [100, 44, 66], 55]\n"
     ]
    }
   ],
   "source": [
    "# shallow copy\n",
    "# list()\n",
    "\n",
    "x = [11, 22, [33, 44, 66], 55]\n",
    "y = list(x)\n",
    "\n",
    "y[1] = 99\n",
    "y[2][0] = 100\n",
    "\n",
    "print(f\"y: {y}\")\n",
    "print(f\"x: {x}\")"
   ]
  },
  {
   "cell_type": "code",
   "execution_count": 16,
   "id": "552c0ea6",
   "metadata": {},
   "outputs": [
    {
     "name": "stdout",
     "output_type": "stream",
     "text": [
      "y: [11, 99, [100, 44, 66], 55]\n",
      "x: [11, 22, [100, 44, 66], 55]\n"
     ]
    }
   ],
   "source": [
    "# shallow copy\n",
    "\n",
    "import copy\n",
    "\n",
    "x = [11, 22, [33, 44, 66], 55]\n",
    "y = copy.copy(x)\n",
    "\n",
    "y[1] = 99\n",
    "y[2][0] = 100\n",
    "\n",
    "print(f\"y: {y}\")\n",
    "print(f\"x: {x}\")"
   ]
  },
  {
   "cell_type": "code",
   "execution_count": 22,
   "id": "71a4bab1",
   "metadata": {},
   "outputs": [
    {
     "name": "stdout",
     "output_type": "stream",
     "text": [
      "y: [11, 99, [100, 44, 66], 55]\n",
      "x: [11, 22, [33, 44, 66], 55]\n"
     ]
    }
   ],
   "source": [
    "# deep copy\n",
    "\n",
    "import copy\n",
    "\n",
    "x = [11, 22, [33, 44, 66], 55]\n",
    "\n",
    "y = copy.deepcopy(x)\n",
    "\n",
    "y[1] = 99\n",
    "y[2][0] = 100\n",
    "\n",
    "print(f\"y: {y}\")\n",
    "print(f\"x: {x}\")"
   ]
  },
  {
   "cell_type": "code",
   "execution_count": 18,
   "id": "66f82d09",
   "metadata": {},
   "outputs": [
    {
     "data": {
      "text/plain": [
       "75"
      ]
     },
     "execution_count": 18,
     "metadata": {},
     "output_type": "execute_result"
    }
   ],
   "source": [
    "a = [15, 20]\n",
    "b = [15, 20]\n",
    "c = [10, a, b]\n",
    "b[1] = 2*a[0]\n",
    "c[1][0] = c[0]\n",
    "c[0] = a[0] + c[1][1] + b[0] + c[2][1]\n",
    "c[0]"
   ]
  },
  {
   "cell_type": "code",
   "execution_count": 2,
   "id": "cb4c7523",
   "metadata": {},
   "outputs": [
    {
     "data": {
      "text/plain": [
       "80"
      ]
     },
     "execution_count": 2,
     "metadata": {},
     "output_type": "execute_result"
    }
   ],
   "source": [
    "a = [15, 20]\n",
    "b = a\n",
    "c = [10, a, b]\n",
    "b[1] = 2*a[0]\n",
    "c[1][0] = c[0]\n",
    "c[0] = a[0] + c[1][1] + b[0] + c[2][1]\n",
    "c[0]"
   ]
  },
  {
   "cell_type": "code",
   "execution_count": null,
   "id": "996e185d",
   "metadata": {},
   "outputs": [],
   "source": []
  },
  {
   "cell_type": "code",
   "execution_count": 26,
   "id": "15e40b69",
   "metadata": {},
   "outputs": [
    {
     "data": {
      "text/plain": [
       "[11, 22, [33, 44, 66], 9]"
      ]
     },
     "execution_count": 26,
     "metadata": {},
     "output_type": "execute_result"
    }
   ],
   "source": [
    "\n",
    "x = [11, 22, [33, 44, 66], 55]\n",
    "y = x\n",
    "\n",
    "y[3]=9\n",
    "x"
   ]
  },
  {
   "cell_type": "code",
   "execution_count": null,
   "id": "25e7c82a",
   "metadata": {},
   "outputs": [],
   "source": []
  }
 ],
 "metadata": {
  "kernelspec": {
   "display_name": "Python 3 (ipykernel)",
   "language": "python",
   "name": "python3"
  },
  "language_info": {
   "codemirror_mode": {
    "name": "ipython",
    "version": 3
   },
   "file_extension": ".py",
   "mimetype": "text/x-python",
   "name": "python",
   "nbconvert_exporter": "python",
   "pygments_lexer": "ipython3",
   "version": "3.9.7"
  }
 },
 "nbformat": 4,
 "nbformat_minor": 5
}
