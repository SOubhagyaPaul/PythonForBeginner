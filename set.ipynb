{
 "cells": [
  {
   "cell_type": "code",
   "execution_count": 1,
   "id": "0b1de238",
   "metadata": {},
   "outputs": [
    {
     "name": "stdout",
     "output_type": "stream",
     "text": [
      "type: <class 'set'>, mySet1: {'btech', 'mca', 'mba', 'bca'}\n"
     ]
    }
   ],
   "source": [
    "# Sets : unordered collection of distinct hashable objects\n",
    "# the elements of a set are immutable, but the set as a whole is mutable\n",
    "# elements can be added or removed.\n",
    "# Sets do not record element position or order of insertion. \n",
    "# Sets do not support indexing, slicing, or other sequence-like behavior.\n",
    "\n",
    "mySet1 = {'bca', 'btech', 'mca', 'mba'}\n",
    "print(f\"type: {type(mySet1)}, mySet1: {mySet1}\")"
   ]
  },
  {
   "cell_type": "code",
   "execution_count": 4,
   "id": "e5f80b2a",
   "metadata": {},
   "outputs": [
    {
     "name": "stdout",
     "output_type": "stream",
     "text": [
      "mySet1: {'btech', 'mca', 'bca'}\n"
     ]
    }
   ],
   "source": [
    "# duplicate values are ignored\n",
    "\n",
    "mySet1 = {'bca', 'btech', 'mca','btech','mca'}\n",
    "print(f\"mySet1: {mySet1}\")"
   ]
  },
  {
   "cell_type": "code",
   "execution_count": 4,
   "id": "20f1cbeb",
   "metadata": {},
   "outputs": [
    {
     "name": "stdout",
     "output_type": "stream",
     "text": [
      "mySet1: {'btech', 'mca', 'bca'}\n",
      "mySet2: {'t', 'n', 'u', 'e', 's', 'd'}\n",
      "mySet3: {1, 2, 3}\n",
      "mySet4: set()\n",
      "<class 'set'>\n",
      "<class 'dict'>\n"
     ]
    }
   ],
   "source": [
    "# set() to create a new set\n",
    "\n",
    "mySet1 = set(('mca', 'btech', 'bca'))\n",
    "print(f\"mySet1: {mySet1}\")\n",
    "\n",
    "mySet2 = set(\"students\")\n",
    "print(f\"mySet2: {mySet2}\")\n",
    "\n",
    "mySet3 = set([1, 2, 3])\n",
    "print(f\"mySet3: {mySet3}\")\n",
    "\n",
    "mySet4 = set()\n",
    "print(f\"mySet4: {mySet4}\")\n"
   ]
  },
  {
   "cell_type": "code",
   "execution_count": 5,
   "id": "336a5c1e",
   "metadata": {},
   "outputs": [
    {
     "name": "stdout",
     "output_type": "stream",
     "text": [
      "<class 'set'>\n",
      "<class 'dict'>\n"
     ]
    }
   ],
   "source": [
    "# to create an empty set we have to use set(), not {}; \n",
    "# {} creates an empty dictionary.\n",
    "print(type(mySet4))\n",
    "s={}\n",
    "print(type(s))"
   ]
  },
  {
   "cell_type": "code",
   "execution_count": 7,
   "id": "4f3e46ee",
   "metadata": {},
   "outputs": [
    {
     "name": "stdout",
     "output_type": "stream",
     "text": [
      "mySet: {1, 2, 3, 4}, length: 4\n"
     ]
    }
   ],
   "source": [
    "# len() - number of items in the set\n",
    "\n",
    "mySet = {4, 2, 3, 3, 3, 1}\n",
    "print(f\"mySet: {mySet}, length: {len(mySet)}\")"
   ]
  },
  {
   "cell_type": "code",
   "execution_count": 8,
   "id": "b8c18127",
   "metadata": {},
   "outputs": [
    {
     "name": "stdout",
     "output_type": "stream",
     "text": [
      "btech\n",
      "mca\n",
      "mtech\n",
      "bca\n"
     ]
    }
   ],
   "source": [
    "# cannot access items in a set by referring to an index\n",
    "# but can loop through the set items\n",
    "\n",
    "mySet = {'mca', 'btech', 'bca', 'mtech'}\n",
    "\n",
    "for x in mySet:\n",
    "  print(x)"
   ]
  },
  {
   "cell_type": "code",
   "execution_count": 9,
   "id": "6ffda6a6",
   "metadata": {},
   "outputs": [
    {
     "name": "stdout",
     "output_type": "stream",
     "text": [
      "True\n",
      "False\n",
      "False\n"
     ]
    }
   ],
   "source": [
    "# can check if a specified value is present in a set, by using the in keyword\n",
    "\n",
    "mySet = {'mca', 'btech', 'bca'}\n",
    "\n",
    "print(\"mca\" in mySet)\n",
    "print(\"bba\" in mySet)\n",
    "print('mca' not in mySet)"
   ]
  },
  {
   "cell_type": "code",
   "execution_count": 10,
   "id": "cec6a08d",
   "metadata": {},
   "outputs": [
    {
     "name": "stdout",
     "output_type": "stream",
     "text": [
      "x: {'c', 'd', 'a', 'b', 'r'}\n",
      "x - y : {'b', 'r', 'd'}\n",
      "x | y : {'c', 'l', 'a', 'd', 'b', 'r', 'z', 'm'}\n",
      "x & y : {'c', 'a'}\n",
      "x ^ y : {'b', 'r', 'z', 'd', 'l', 'm'}\n"
     ]
    }
   ],
   "source": [
    "x = set('abracadabra')\n",
    "y = set('alacazam')\n",
    "print(f\"x: {x}\") # unique letters in x\n",
    "print(f\"x - y : {x - y}\") # letters in x but not in y\n",
    "print(f\"x | y : {x | y}\") # letters in x or y or both\n",
    "print(f\"x & y : {x & y}\") # letters in both x and y\n",
    "print(f\"x ^ y : {x ^ y}\") # letters in x or y but not both "
   ]
  },
  {
   "cell_type": "code",
   "execution_count": 11,
   "id": "01364d60",
   "metadata": {},
   "outputs": [
    {
     "name": "stdout",
     "output_type": "stream",
     "text": [
      "Help on method_descriptor:\n",
      "\n",
      "add(...)\n",
      "    Add an element to a set.\n",
      "    \n",
      "    This has no effect if the element is already present.\n",
      "\n"
     ]
    }
   ],
   "source": [
    "help(set.add)"
   ]
  },
  {
   "cell_type": "code",
   "execution_count": 12,
   "id": "2efdb33c",
   "metadata": {},
   "outputs": [
    {
     "name": "stdout",
     "output_type": "stream",
     "text": [
      "{1, 2, 3}\n"
     ]
    }
   ],
   "source": [
    "# add set items\n",
    "# add() method\n",
    "\n",
    "mySet = set()\n",
    "mySet.add(3)\n",
    "mySet.add(1)\n",
    "mySet.add(2)\n",
    "\n",
    "print(mySet)"
   ]
  },
  {
   "cell_type": "code",
   "execution_count": 13,
   "id": "f2573a2b",
   "metadata": {},
   "outputs": [
    {
     "name": "stdout",
     "output_type": "stream",
     "text": [
      "Help on method_descriptor:\n",
      "\n",
      "remove(...)\n",
      "    Remove an element from a set; it must be a member.\n",
      "    \n",
      "    If the element is not a member, raise a KeyError.\n",
      "\n",
      "Help on method_descriptor:\n",
      "\n",
      "discard(...)\n",
      "    Remove an element from a set if it is a member.\n",
      "    \n",
      "    If the element is not a member, do nothing.\n",
      "\n",
      "Help on method_descriptor:\n",
      "\n",
      "pop(...)\n",
      "    Remove and return an arbitrary set element.\n",
      "    Raises KeyError if the set is empty.\n",
      "\n",
      "Help on method_descriptor:\n",
      "\n",
      "clear(...)\n",
      "    Remove all elements from this set.\n",
      "\n"
     ]
    }
   ],
   "source": [
    "help(set.remove)\n",
    "help(set.discard)\n",
    "help(set.pop)\n",
    "help(set.clear)"
   ]
  },
  {
   "cell_type": "code",
   "execution_count": 14,
   "id": "c8241734",
   "metadata": {},
   "outputs": [
    {
     "name": "stdout",
     "output_type": "stream",
     "text": [
      "{1, 3, 4}\n"
     ]
    }
   ],
   "source": [
    "# remove set items\n",
    "# remove(), discard(), pop(), clear() methods\n",
    "\n",
    "# remove() - removes the specified element from the set\n",
    "# raises an error if the specified item does not exist\n",
    "\n",
    "mySet = {4, 2, 3, 1}\n",
    "mySet.remove(2)\n",
    "# mySet.remove(5)\n",
    "print(mySet)"
   ]
  },
  {
   "cell_type": "code",
   "execution_count": 15,
   "id": "ac68386d",
   "metadata": {},
   "outputs": [
    {
     "name": "stdout",
     "output_type": "stream",
     "text": [
      "{1, 3, 4}\n"
     ]
    }
   ],
   "source": [
    "# discard() - removes the specified item from the set\n",
    "# will not raise an error if the specified item does not exist\n",
    "\n",
    "mySet = {4, 2, 3, 1}\n",
    "mySet.discard(2)\n",
    "# myset.discard(5)\n",
    "print(mySet)"
   ]
  },
  {
   "cell_type": "code",
   "execution_count": 16,
   "id": "d6cb6080",
   "metadata": {},
   "outputs": [
    {
     "name": "stdout",
     "output_type": "stream",
     "text": [
      "popped: 1, mySet: {2, 3, 4}\n"
     ]
    }
   ],
   "source": [
    "# pop() can also be used to remove an element of a set\n",
    "# as sets are unordered, which item will be popped can \n",
    "# be known after pop() only\n",
    "\n",
    "mySet = {2,1,4,3}\n",
    "item = mySet.pop()\n",
    "print(f\"popped: {item}, mySet: {mySet}\")"
   ]
  },
  {
   "cell_type": "code",
   "execution_count": 17,
   "id": "6f75d2a1",
   "metadata": {},
   "outputs": [
    {
     "name": "stdout",
     "output_type": "stream",
     "text": [
      "after clear: set()\n"
     ]
    }
   ],
   "source": [
    "# clear() method empties the set\n",
    "\n",
    "mySet = {1,2,3,4}\n",
    "mySet.clear()\n",
    "print(f\"after clear: {mySet}\")"
   ]
  },
  {
   "cell_type": "code",
   "execution_count": 18,
   "id": "c714e901",
   "metadata": {},
   "outputs": [
    {
     "ename": "NameError",
     "evalue": "name 'mySet' is not defined",
     "output_type": "error",
     "traceback": [
      "\u001b[1;31m---------------------------------------------------------------------------\u001b[0m",
      "\u001b[1;31mNameError\u001b[0m                                 Traceback (most recent call last)",
      "Cell \u001b[1;32mIn[18], line 5\u001b[0m\n\u001b[0;32m      3\u001b[0m mySet \u001b[38;5;241m=\u001b[39m {\u001b[38;5;241m1\u001b[39m,\u001b[38;5;241m2\u001b[39m,\u001b[38;5;241m3\u001b[39m,\u001b[38;5;241m4\u001b[39m}\n\u001b[0;32m      4\u001b[0m \u001b[38;5;28;01mdel\u001b[39;00m mySet\n\u001b[1;32m----> 5\u001b[0m \u001b[38;5;28mprint\u001b[39m(\u001b[38;5;124mf\u001b[39m\u001b[38;5;124m\"\u001b[39m\u001b[38;5;124mafter del: \u001b[39m\u001b[38;5;132;01m{\u001b[39;00mmySet\u001b[38;5;132;01m}\u001b[39;00m\u001b[38;5;124m\"\u001b[39m)\n",
      "\u001b[1;31mNameError\u001b[0m: name 'mySet' is not defined"
     ]
    }
   ],
   "source": [
    "# del keyword will delete the set completely\n",
    "\n",
    "mySet = {1,2,3,4}\n",
    "del mySet\n",
    "print(f\"after del: {mySet}\")"
   ]
  },
  {
   "cell_type": "code",
   "execution_count": 19,
   "id": "13dbefca",
   "metadata": {},
   "outputs": [
    {
     "name": "stdout",
     "output_type": "stream",
     "text": [
      "['__and__', '__class__', '__class_getitem__', '__contains__', '__delattr__', '__dir__', '__doc__', '__eq__', '__format__', '__ge__', '__getattribute__', '__gt__', '__hash__', '__iand__', '__init__', '__init_subclass__', '__ior__', '__isub__', '__iter__', '__ixor__', '__le__', '__len__', '__lt__', '__ne__', '__new__', '__or__', '__rand__', '__reduce__', '__reduce_ex__', '__repr__', '__ror__', '__rsub__', '__rxor__', '__setattr__', '__sizeof__', '__str__', '__sub__', '__subclasshook__', '__xor__', 'add', 'clear', 'copy', 'difference', 'difference_update', 'discard', 'intersection', 'intersection_update', 'isdisjoint', 'issubset', 'issuperset', 'pop', 'remove', 'symmetric_difference', 'symmetric_difference_update', 'union', 'update']\n"
     ]
    }
   ],
   "source": [
    "print(dir(set))"
   ]
  },
  {
   "cell_type": "code",
   "execution_count": 20,
   "id": "69c9aab0",
   "metadata": {},
   "outputs": [
    {
     "name": "stdout",
     "output_type": "stream",
     "text": [
      "Help on method_descriptor:\n",
      "\n",
      "union(...)\n",
      "    Return the union of sets as a new set.\n",
      "    \n",
      "    (i.e. all elements that are in either set.)\n",
      "\n"
     ]
    }
   ],
   "source": [
    "help(set.union)"
   ]
  },
  {
   "cell_type": "code",
   "execution_count": 21,
   "id": "99d69af9",
   "metadata": {},
   "outputs": [
    {
     "name": "stdout",
     "output_type": "stream",
     "text": [
      "union_AB: {1, 2, 3, 4, 5, 6}\n",
      "union_ABC: {1, 2, 3, 4, 5, 6, 7}\n"
     ]
    }
   ],
   "source": [
    "# union() method returns a set \n",
    "# that contains all items from the original set, \n",
    "# and all items from the specified set(s) (or any other iterable)\n",
    "\n",
    "setA = {1, 3, 5}\n",
    "setB = {2, 4, 6}\n",
    "setC = {2, 3, 5, 7}\n",
    "\n",
    "union_AB = setA.union(setB)\n",
    "union_ABC = setA.union(setB, setC)\n",
    "\n",
    "print(f\"union_AB: {union_AB}\")\n",
    "print(f\"union_ABC: {union_ABC}\")"
   ]
  },
  {
   "cell_type": "code",
   "execution_count": 22,
   "id": "7c70df21",
   "metadata": {},
   "outputs": [
    {
     "name": "stdout",
     "output_type": "stream",
     "text": [
      "Help on method_descriptor:\n",
      "\n",
      "update(...)\n",
      "    Update a set with the union of itself and others.\n",
      "\n"
     ]
    }
   ],
   "source": [
    "help(set.update)"
   ]
  },
  {
   "cell_type": "code",
   "execution_count": 7,
   "id": "d7e66395",
   "metadata": {},
   "outputs": [
    {
     "name": "stdout",
     "output_type": "stream",
     "text": [
      "{1, 3, 4, 5, 6, 8}\n"
     ]
    }
   ],
   "source": [
    "# update() method updates the current set, \n",
    "# by adding items from another set (or any other iterable)\n",
    "\n",
    "setA = {1, 3, 5}\n",
    "setB = {8, 6, 4}\n",
    "\n",
    "setA.update(setB)\n",
    "\n",
    "print(setA)"
   ]
  },
  {
   "cell_type": "code",
   "execution_count": 24,
   "id": "8e256526",
   "metadata": {},
   "outputs": [
    {
     "name": "stdout",
     "output_type": "stream",
     "text": [
      "Help on method_descriptor:\n",
      "\n",
      "intersection(...)\n",
      "    Return the intersection of two sets as a new set.\n",
      "    \n",
      "    (i.e. all elements that are in both sets.)\n",
      "\n"
     ]
    }
   ],
   "source": [
    "help(set.intersection)"
   ]
  },
  {
   "cell_type": "code",
   "execution_count": 25,
   "id": "30b5b8a0",
   "metadata": {},
   "outputs": [
    {
     "name": "stdout",
     "output_type": "stream",
     "text": [
      "intersection_AB: {5, 6, 7}\n",
      "intersection_ABC: {5, 7}\n"
     ]
    }
   ],
   "source": [
    "# intersection() method returns a set \n",
    "# that contains only items that exist in both sets, \n",
    "# or in all the specifies sets.\n",
    "\n",
    "setA = {1, 2, 3, 4, 5, 6, 7}\n",
    "setB = {5, 6, 7, 8, 9}\n",
    "setC = {3, 5, 7}\n",
    "\n",
    "intersection_AB = setA.intersection(setB)\n",
    "intersection_ABC = setA.intersection(setB, setC)\n",
    "\n",
    "print(f\"intersection_AB: {intersection_AB}\")\n",
    "print(f\"intersection_ABC: {intersection_ABC}\")"
   ]
  },
  {
   "cell_type": "code",
   "execution_count": 26,
   "id": "f927ac0a",
   "metadata": {},
   "outputs": [
    {
     "name": "stdout",
     "output_type": "stream",
     "text": [
      "Help on method_descriptor:\n",
      "\n",
      "intersection_update(...)\n",
      "    Update a set with the intersection of itself and another.\n",
      "\n"
     ]
    }
   ],
   "source": [
    "help(set.intersection_update)"
   ]
  },
  {
   "cell_type": "code",
   "execution_count": 27,
   "id": "be8b3f0e",
   "metadata": {},
   "outputs": [
    {
     "name": "stdout",
     "output_type": "stream",
     "text": [
      "intersection_AB: {5, 6, 7}\n"
     ]
    }
   ],
   "source": [
    "# intersection_update() method removes the items \n",
    "# that is not present in both sets \n",
    "# or in all the specified sets.\n",
    "\n",
    "setA = {1, 2, 3, 4, 5, 6, 7}\n",
    "setB = {5, 6, 7, 8, 9}\n",
    "\n",
    "setA.intersection_update(setB)\n",
    "print(f\"intersection_AB: {setA}\")"
   ]
  },
  {
   "cell_type": "code",
   "execution_count": 28,
   "id": "3607c755",
   "metadata": {},
   "outputs": [
    {
     "name": "stdout",
     "output_type": "stream",
     "text": [
      "intersection_AB: {5, 7}\n"
     ]
    }
   ],
   "source": [
    "setA = {1, 2, 3, 4, 5, 6, 7}\n",
    "setB = {5, 6, 7, 8, 9}\n",
    "setC = {3, 5, 7}\n",
    "\n",
    "setA.intersection_update(setB, setC)\n",
    "print(f\"intersection_AB: {setA}\")"
   ]
  },
  {
   "cell_type": "code",
   "execution_count": 29,
   "id": "e76c057d",
   "metadata": {},
   "outputs": [
    {
     "name": "stdout",
     "output_type": "stream",
     "text": [
      "Help on method_descriptor:\n",
      "\n",
      "difference(...)\n",
      "    Return the difference of two or more sets as a new set.\n",
      "    \n",
      "    (i.e. all elements that are in this set but not the others.)\n",
      "\n"
     ]
    }
   ],
   "source": [
    "help(set.difference)"
   ]
  },
  {
   "cell_type": "code",
   "execution_count": 30,
   "id": "df8906a3",
   "metadata": {},
   "outputs": [
    {
     "name": "stdout",
     "output_type": "stream",
     "text": [
      "difference_AB: {1, 2, 3, 4}\n",
      "difference_BA: {8, 9}\n"
     ]
    }
   ],
   "source": [
    "# difference() method returns a set that contains \n",
    "# items that exist only in the first set, and not in both sets.\n",
    "\n",
    "setA = {1, 2, 3, 4, 5, 6, 7}\n",
    "setB = {5, 6, 7, 8, 9}\n",
    "\n",
    "difference_AB = setA.difference(setB)\n",
    "difference_BA = setB.difference(setA)\n",
    "\n",
    "print(f\"difference_AB: {difference_AB}\")\n",
    "print(f\"difference_BA: {difference_BA}\")"
   ]
  },
  {
   "cell_type": "code",
   "execution_count": 31,
   "id": "6423559c",
   "metadata": {},
   "outputs": [
    {
     "name": "stdout",
     "output_type": "stream",
     "text": [
      "Help on method_descriptor:\n",
      "\n",
      "symmetric_difference(...)\n",
      "    Return the symmetric difference of two sets as a new set.\n",
      "    \n",
      "    (i.e. all elements that are in exactly one of the sets.)\n",
      "\n"
     ]
    }
   ],
   "source": [
    "help(set.symmetric_difference)"
   ]
  },
  {
   "cell_type": "code",
   "execution_count": 32,
   "id": "8e35703a",
   "metadata": {},
   "outputs": [
    {
     "name": "stdout",
     "output_type": "stream",
     "text": [
      "sym_differ_AB: {1, 2, 3, 4, 8, 9}\n"
     ]
    }
   ],
   "source": [
    "# symmetric_difference() method returns a set that contains\n",
    "# elements that are in exactly one of the sets \n",
    "# i.e. excludes the items present in both sets\n",
    "\n",
    "setA = {1, 2, 3, 4, 5, 6, 7}\n",
    "setB = {5, 6, 7, 8, 9}\n",
    "\n",
    "symDiff_AB = setA.symmetric_difference(setB)\n",
    "\n",
    "print(f\"sym_differ_AB: {symDiff_AB}\")"
   ]
  },
  {
   "cell_type": "code",
   "execution_count": 33,
   "id": "7b0e8876",
   "metadata": {},
   "outputs": [
    {
     "name": "stdout",
     "output_type": "stream",
     "text": [
      "Help on method_descriptor:\n",
      "\n",
      "symmetric_difference_update(...)\n",
      "    Update a set with the symmetric difference of itself and another.\n",
      "\n"
     ]
    }
   ],
   "source": [
    "help(set.symmetric_difference_update)"
   ]
  },
  {
   "cell_type": "code",
   "execution_count": 34,
   "id": "bfbad512",
   "metadata": {},
   "outputs": [
    {
     "name": "stdout",
     "output_type": "stream",
     "text": [
      "sym_differ_upd_AB: {1, 2, 3, 4, 8, 9}\n"
     ]
    }
   ],
   "source": [
    "# symmetric_difference_update() method updates the original set\n",
    "# by removing items that are present in both sets, and inserting the other items.\n",
    "\n",
    "setA = {1, 2, 3, 4, 5, 6, 7}\n",
    "setB = {5, 6, 7, 8, 9}\n",
    "\n",
    "setA.symmetric_difference_update(setB)\n",
    "\n",
    "print(f\"sym_differ_upd_AB: {setA}\")"
   ]
  },
  {
   "cell_type": "code",
   "execution_count": 35,
   "id": "f5471380",
   "metadata": {},
   "outputs": [],
   "source": [
    "# The set type is mutable — the contents can be changed using \n",
    "# methods like add() and remove(). Since it is mutable, \n",
    "# it has no hash value and cannot be used as either a dictionary key \n",
    "# or as an element of another set. \n",
    "\n",
    "# The frozenset type is immutable and hashable — its contents \n",
    "# cannot be altered after it is created; \n",
    "# it can therefore be used as a dictionary key or as an element of another set."
   ]
  }
 ],
 "metadata": {
  "kernelspec": {
   "display_name": "Python 3 (ipykernel)",
   "language": "python",
   "name": "python3"
  },
  "language_info": {
   "codemirror_mode": {
    "name": "ipython",
    "version": 3
   },
   "file_extension": ".py",
   "mimetype": "text/x-python",
   "name": "python",
   "nbconvert_exporter": "python",
   "pygments_lexer": "ipython3",
   "version": "3.9.7"
  }
 },
 "nbformat": 4,
 "nbformat_minor": 5
}
