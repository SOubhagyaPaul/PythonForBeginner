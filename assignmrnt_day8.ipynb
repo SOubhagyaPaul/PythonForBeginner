{
 "cells": [
  {
   "cell_type": "code",
   "execution_count": 43,
   "id": "a1338137",
   "metadata": {},
   "outputs": [
    {
     "name": "stdout",
     "output_type": "stream",
     "text": [
      "<Employee:name =Ram,job=None,salary=5000>\n",
      "<Employee:name =AAA,job=accounts,salary=10000>\n",
      "AAA does stuff\n",
      "now the salary of ob2  11000.0\n",
      "<Employee:name =BBB,job=manage,salary=7000>\n",
      "<Employee:name =BBB,job=manage,salary=10500.0>\n",
      "BBB manage the caffe\n",
      "<Employee:name =CCC,job=cooking,salary=5000>\n",
      "CCC  does  cooking\n",
      "<Employee:name =DDD,job=bakeing,salary=4000>\n",
      "DDD  bakes all type of cakes. bakeing section\n"
     ]
    }
   ],
   "source": [
    "# With appropriate example(s) implement\n",
    "# (i) Hierarchical inheritance\n",
    "# (ii) Multilevel inheritance\n",
    "# (iii) Multiple inheritance\n",
    "\n",
    "class Employee:\n",
    "    def __init__(self,name,job=None,salary=5000):\n",
    "        self.name=name\n",
    "        self.salary=salary\n",
    "        self.job=job\n",
    "    def giveIncrement(self,percent):\n",
    "        self.salary=self.salary+(self.salary*percent/100)\n",
    "    def work(self):\n",
    "        print(self.name,\"does stuff\")\n",
    "    def __repr__(self):\n",
    "        return \"<Employee:name =%s,job=%s,salary=%s>\"%(self.name,self.job,self.salary)\n",
    "\n",
    "class Cook(Employee):     # Hierarchical inheritance\n",
    "    def __int__(self,name,job,salary):\n",
    "        Employee.__init__(self,name,job,salary)\n",
    "    def work(self):\n",
    "        print(self.name,\" does \",self.job)\n",
    "    \n",
    "        \n",
    "class Manager(Employee):   # Hierarchical inheritance\n",
    "    def __intit__(self,name,job,salary):\n",
    "        Employee.__init__(self,name,salary)\n",
    "    def giveIncrement(self,percent):\n",
    "        Employee.giveIncrement(self,percent)\n",
    "    def work(self):\n",
    "        print(self.name, self.job, \"the caffe\")\n",
    "\n",
    "class CakeBaker(Cook):        #Multilevel Inheritance\n",
    "    def __init__(self,name,job,salary):\n",
    "        Cook.__init__(self,name,job,salary)\n",
    "    def work(self):\n",
    "        print(self.name,\" bakes all type of cakes.\",self.job,\"section\")\n",
    "\n",
    "\n",
    "class ABC(Cook,Manager):       #Multiple Inheritance\n",
    "    pass\n",
    "        \n",
    "\n",
    "if __name__=='__main__':\n",
    "    ob1=Employee('Ram')\n",
    "    ob2=Employee('AAA',job='accounts',salary=10000)\n",
    "    print(ob1)\n",
    "    print(ob2)\n",
    "    ob2.work()\n",
    "    ob2.giveIncrement(10)\n",
    "    print(\"now the salary of ob2 \",ob2.salary)\n",
    "    \n",
    "    ob3=Manager('BBB','manage',7000)\n",
    "    print(ob3)\n",
    "    ob3.giveIncrement(50)\n",
    "    print(ob3)\n",
    "    ob3.work()\n",
    "    \n",
    "\n",
    "    ob4=Cook('CCC','cooking',5000)\n",
    "    print(ob4)\n",
    "    ob4.work()\n",
    "    \n",
    "    \n",
    "    \n",
    "    ob5=CakeBaker('DDD','bakeing',4000)\n",
    "    print(ob5)\n",
    "    ob5.work()"
   ]
  },
  {
   "cell_type": "code",
   "execution_count": 41,
   "id": "59de5de8",
   "metadata": {},
   "outputs": [
    {
     "name": "stdout",
     "output_type": "stream",
     "text": [
      "Help on class ABC in module __main__:\n",
      "\n",
      "class ABC(Cook, Manager)\n",
      " |  ABC(name, job=None, salary=5000)\n",
      " |  \n",
      " |  Method resolution order:\n",
      " |      ABC\n",
      " |      Cook\n",
      " |      Manager\n",
      " |      Employee\n",
      " |      builtins.object\n",
      " |  \n",
      " |  Methods inherited from Cook:\n",
      " |  \n",
      " |  __int__(self, name, job, salary)\n",
      " |  \n",
      " |  work(self)\n",
      " |  \n",
      " |  ----------------------------------------------------------------------\n",
      " |  Methods inherited from Manager:\n",
      " |  \n",
      " |  __intit__(self, name, job, salary)\n",
      " |  \n",
      " |  giveIncrement(self, percent)\n",
      " |  \n",
      " |  ----------------------------------------------------------------------\n",
      " |  Methods inherited from Employee:\n",
      " |  \n",
      " |  __init__(self, name, job=None, salary=5000)\n",
      " |      Initialize self.  See help(type(self)) for accurate signature.\n",
      " |  \n",
      " |  __repr__(self)\n",
      " |      Return repr(self).\n",
      " |  \n",
      " |  ----------------------------------------------------------------------\n",
      " |  Data descriptors inherited from Employee:\n",
      " |  \n",
      " |  __dict__\n",
      " |      dictionary for instance variables (if defined)\n",
      " |  \n",
      " |  __weakref__\n",
      " |      list of weak references to the object (if defined)\n",
      "\n"
     ]
    }
   ],
   "source": [
    "help(ABC)"
   ]
  },
  {
   "cell_type": "code",
   "execution_count": 55,
   "id": "72b425a8",
   "metadata": {},
   "outputs": [
    {
     "name": "stdout",
     "output_type": "stream",
     "text": [
      "Enter a 6-digit roll number: 229473974\n",
      "You have not entered 6 digit number\n"
     ]
    }
   ],
   "source": [
    "#accept a 6-digit roll number as input, and if it starts with 22, replace the 22 with23\n",
    "import re\n",
    "\n",
    "def process(roll):\n",
    "    if re.match(r'^22\\d{4}$', roll):\n",
    "        modify_roll = roll.replace('22', '23')\n",
    "        return modify_roll\n",
    "    else:\n",
    "        return roll\n",
    "rollNumber= input(\"Enter a 6-digit roll number: \")\n",
    "temp=str(rollNumber)\n",
    "if len(temp)==6:\n",
    "    res = process(rollNumber)\n",
    "    print(\"Modified Roll Number:\", res)\n",
    "else:\n",
    "    print(\"You have not entered 6 digit number\")"
   ]
  },
  {
   "cell_type": "code",
   "execution_count": 65,
   "id": "64e343bc",
   "metadata": {},
   "outputs": [
    {
     "name": "stdout",
     "output_type": "stream",
     "text": [
      "Enter a word: raaam\n",
      "Does not satisfy the requirements\n"
     ]
    }
   ],
   "source": [
    "# takes a word as input and satisfy the requirements that it should be of 5 letters,\n",
    "# starts with 'c' and ends with 'r'\n",
    "def foo1(s):\n",
    "    if re.match(r'^c[a-zA-Z]{3}r$',s):\n",
    "        return True\n",
    "    return False\n",
    "\n",
    "s= input(\"Enter a word: \")\n",
    "res = foo1(s)\n",
    "if res:\n",
    "    print(\"satisfy the requirements\")\n",
    "else:\n",
    "    print(\"Does not satisfy the requirements\")"
   ]
  },
  {
   "cell_type": "code",
   "execution_count": 69,
   "id": "ad8184ae",
   "metadata": {},
   "outputs": [
    {
     "name": "stdout",
     "output_type": "stream",
     "text": [
      "Enter a id: S7@p\n",
      "satisfy the requirements\n"
     ]
    }
   ],
   "source": [
    "# assume a product cataloging system has the following requirements:\n",
    "# first symbol: an uppercase character\n",
    "# second symbol: a digit\n",
    "# third symbol: the special character @\n",
    "# fourth symbol: a lowercase character\n",
    "# write a script that accepts an id and checks whether it is in correct format ornot\n",
    "\n",
    "def foo2(s):\n",
    "    if re.match(r'^[A-Z]\\d@[a-z]$',s):\n",
    "        return True\n",
    "    return False\n",
    "s= input(\"Enter a id: \")\n",
    "res=foo2(s)\n",
    "if res:\n",
    "    print(\"satisfy the requirements\")\n",
    "else:\n",
    "    print(\"Does not satisfy the requirements\")"
   ]
  },
  {
   "cell_type": "code",
   "execution_count": 74,
   "id": "07e0131c",
   "metadata": {},
   "outputs": [
    {
     "name": "stdout",
     "output_type": "stream",
     "text": [
      "Enter the email id: soubhagya.paul@heritageit.edu.in\n",
      "valid email\n"
     ]
    }
   ],
   "source": [
    "#check whether a given email id is in valid format or not.\n",
    "def checkMail(s):\n",
    "    if re.match(r'\\b[A-Za-z0-9._%+-]+@[A-Za-z0-9.-]+\\.[A-Z|a-z]{2,7}\\b',s):\n",
    "        return True\n",
    "    return False\n",
    "s=input(\"Enter the email id: \")\n",
    "res=checkMail(s)\n",
    "if res:\n",
    "    print(\"valid email\")\n",
    "else:\n",
    "    print(\"invalid email\")"
   ]
  },
  {
   "cell_type": "code",
   "execution_count": 90,
   "id": "834cf16d",
   "metadata": {},
   "outputs": [
    {
     "name": "stdout",
     "output_type": "stream",
     "text": [
      "Valid Users:\n",
      "{'AAA': {'email': 'ghu@example.com', 24: 'age'}}\n"
     ]
    }
   ],
   "source": [
    "# Write a program which can iterate through a list of users (tuples comprising of a name, email\n",
    "# and age) and if the user is at least 18 years old, adds her/him to a dictionary. Write an\n",
    "# exception hierarchy which defines a different exception for each of these error conditions:\n",
    "\n",
    "# (i) the name is not unique\n",
    "# (ii) the age is not a positive integer\n",
    "# (iii) the user is under 18\n",
    "# (iv) the email format is not valid\n",
    "\n",
    "# Raise these exceptions where appropriate. Whenever an exception occurs, your program\n",
    "# should move onto the next set of data in the list. Print different error messages for each\n",
    "# different kind of exception.\n",
    "\n",
    "class NameNotUniqueError(Exception):\n",
    "    pass\n",
    "\n",
    "class AgeNotPositiveIntegerError(Exception):\n",
    "    pass\n",
    "\n",
    "class UnderAgeError(Exception):\n",
    "    pass\n",
    "\n",
    "class InvalidEmailError(Exception):\n",
    "    pass\n",
    "def checkValid(lst):\n",
    "    res_dict={}\n",
    "    for user in lst:\n",
    "        try:\n",
    "            name,email,age=user\n",
    "            \n",
    "            if name in res_dict:\n",
    "                raise NameNotUniqueError(\"Name is not unique.\")\n",
    "            if (age<0):\n",
    "                raise AgeNotPositiveIntegerError(\"Age must be positive.\")\n",
    "            if age<18:\n",
    "                raise UnderAgeError(\"User is under age.\")\n",
    "            if not checkMail(email):\n",
    "                raise InvalidEmailError(\"Invalid Email entered\")\n",
    "            res_dict[name]={'email':email,age:'age'}\n",
    "        except NameNotUniqueError as e:\n",
    "            print(f\"Error: {e} invalid user {user}\")\n",
    "        except AgeNotPositiveIntegerError as e:\n",
    "            print(f\"Error: {e} invalid user {user}\")\n",
    "        except UnderAgeError as e:\n",
    "            print(f\"Error: {e} invalid user {user}\")\n",
    "        except InvalidEmailError as e:\n",
    "            print(f\"Error: {e} invalid user {user}\")\n",
    "        return res_dict\n",
    "inputList = [\n",
    "    ('AAA', 'xyz@example.com', 25),\n",
    "    ('AAA', 'ghu@example.com', 24),\n",
    "    ('BBB', 'jane@gmail.com', -5),\n",
    "    ('CCC', 'invalid_email', 19),\n",
    "    ('DDD', 'DDD@example.com', 10),\n",
    "    ('valid', 'valid@gmail.com', 22),\n",
    "]\n",
    "\n",
    "result = checkValid(inputList)\n",
    "print(\"Valid Users:\")\n",
    "print(result)"
   ]
  },
  {
   "cell_type": "code",
   "execution_count": 132,
   "id": "a54c991e",
   "metadata": {},
   "outputs": [
    {
     "name": "stdout",
     "output_type": "stream",
     "text": [
      "2024-01-16 21:34:30.864723\n",
      "2024-01-16\n",
      "2024\n",
      "January\n",
      "02\n",
      "Tue\n",
      "16\n",
      "2\n",
      "21:34:30\n",
      "21\n",
      "34\n",
      "PM\n"
     ]
    }
   ],
   "source": [
    "# Write a Python script to display the following Date Time String formats:\n",
    "# (i) Current date and time, (ii) Current Date, (iii) Current year, (iv) Month of year, (v) Week\n",
    "# number of the year, (vi) Weekday of the week, (vii) Day of the month, (viii) Day of week, (ix)\n",
    "# Current Time, (x) Current Hour, (xi) Current Minute, (xii) Current PM / AM\n",
    "import datetime\n",
    "\n",
    "x = datetime.datetime.now()\n",
    "print(x)\n",
    "\n",
    "y=datetime.date.today()\n",
    "print(y)\n",
    "\n",
    "z=datetime.date.today().year\n",
    "print(z)\n",
    "\n",
    "var = datetime.date.today()\n",
    "print(var.strftime(\"%B\"))\n",
    "print(var.strftime(\"%U\"))\n",
    "print(var.strftime(\"%a\"))\n",
    "print(datetime.datetime.now().day)\n",
    "print(var.strftime(\"%w\"))\n",
    "temp = datetime.datetime.now()\n",
    "print(temp.strftime('%H:%M:%S'))\n",
    "print(temp.strftime('%H'))\n",
    "print(temp.strftime('%M'))\n",
    "print(temp.strftime('%p'))\n"
   ]
  },
  {
   "cell_type": "code",
   "execution_count": 137,
   "id": "9120cef0",
   "metadata": {},
   "outputs": [
    {
     "name": "stdout",
     "output_type": "stream",
     "text": [
      "Enter the first date (YYYY-MM-DD): 2024-01-16\n",
      "Enter the second date (YYYY-MM-DD): 2024-01-18\n"
     ]
    },
    {
     "data": {
      "text/plain": [
       "2"
      ]
     },
     "execution_count": 137,
     "metadata": {},
     "output_type": "execute_result"
    }
   ],
   "source": [
    "# Write a script to get the number of days between two dates.\n",
    "def calcDiff(date1_str, date2_str):\n",
    "    d1 = datetime.datetime.strptime(date1_str, '%Y-%m-%d')\n",
    "    d2 = datetime.datetime.strptime(date2_str, '%Y-%m-%d')\n",
    "    dif = abs(d2 - d1)\n",
    "    return dif.days\n",
    "\n",
    "date1 = input(\"Enter the first date (YYYY-MM-DD): \")\n",
    "date2 = input(\"Enter the second date (YYYY-MM-DD): \")\n",
    "diff = calcDiff(date1, date2)\n",
    "diff"
   ]
  },
  {
   "cell_type": "code",
   "execution_count": 5,
   "id": "c7c6b052",
   "metadata": {},
   "outputs": [
    {
     "name": "stdout",
     "output_type": "stream",
     "text": [
      "Enter the date of birth(YYYY-MM-DD): 2002-5-14\n",
      "the day of the birth is Tuesday and the age is 21\n"
     ]
    }
   ],
   "source": [
    "# Write a script, that, given your date of birth, finds the weekday you were born and also\n",
    "# your age in years and days.\n",
    "from datetime import datetime\n",
    "x = datetime.now()\n",
    "cur=x.strftime(\"%Y\")\n",
    "dob = input(\"Enter the date of birth(YYYY-MM-DD): \")\n",
    "dob_y=datetime.strptime(dob, '%Y-%m-%d')\n",
    "day_of_birth = dob_y.strftime('%A')\n",
    "cur=datetime.now()\n",
    "age=cur.year - dob_y.year - ((cur.month, cur.day) < (dob_y.month, dob_y.day))\n",
    "\n",
    "print(f\"the day of the birth is {day_of_birth} and the age is {age}\")"
   ]
  },
  {
   "cell_type": "code",
   "execution_count": 39,
   "id": "a3ff1803",
   "metadata": {},
   "outputs": [
    {
     "name": "stdout",
     "output_type": "stream",
     "text": [
      "Error: The second argument must be a string.\n"
     ]
    }
   ],
   "source": [
    "# Write a script that accepts two command line arguments and checks whether exactly two\n",
    "# command line arguments are passed, no less or no more, and that the first argument is an\n",
    "# integer and the second is a string. Make useful feedback if they arenot.\n",
    "!python argvTesting.py 1 223"
   ]
  },
  {
   "cell_type": "code",
   "execution_count": 40,
   "id": "7153ebdd",
   "metadata": {},
   "outputs": [
    {
     "name": "stdout",
     "output_type": "stream",
     "text": [
      "Command-line arguments are valid.\n",
      "First argument (integer): 1\n",
      "Second argument (string): GG\n"
     ]
    }
   ],
   "source": [
    "!python argvTesting.py 1 GG"
   ]
  },
  {
   "cell_type": "code",
   "execution_count": 41,
   "id": "50080f17",
   "metadata": {},
   "outputs": [
    {
     "name": "stdout",
     "output_type": "stream",
     "text": [
      "Error: The first argument must be an integer.\n"
     ]
    }
   ],
   "source": [
    "!python argvTesting.py s hh"
   ]
  },
  {
   "cell_type": "code",
   "execution_count": null,
   "id": "d481a1b3",
   "metadata": {},
   "outputs": [],
   "source": []
  },
  {
   "cell_type": "code",
   "execution_count": null,
   "id": "863eb0bc",
   "metadata": {},
   "outputs": [],
   "source": []
  }
 ],
 "metadata": {
  "kernelspec": {
   "display_name": "Python 3 (ipykernel)",
   "language": "python",
   "name": "python3"
  },
  "language_info": {
   "codemirror_mode": {
    "name": "ipython",
    "version": 3
   },
   "file_extension": ".py",
   "mimetype": "text/x-python",
   "name": "python",
   "nbconvert_exporter": "python",
   "pygments_lexer": "ipython3",
   "version": "3.9.7"
  }
 },
 "nbformat": 4,
 "nbformat_minor": 5
}
