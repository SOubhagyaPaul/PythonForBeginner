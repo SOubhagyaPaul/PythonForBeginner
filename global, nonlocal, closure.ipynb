{
 "cells": [
  {
   "cell_type": "code",
   "execution_count": 1,
   "id": "3a5ea3b4",
   "metadata": {},
   "outputs": [
    {
     "name": "stdout",
     "output_type": "stream",
     "text": [
      "Within function:5\n",
      "After function execution:5\n"
     ]
    }
   ],
   "source": [
    "x = 5 # global\n",
    "def fn():\n",
    "    print(f\"Within function:{x}\")\n",
    "\n",
    "fn()\n",
    "print(f\"After function execution:{x}\")"
   ]
  },
  {
   "cell_type": "code",
   "execution_count": 2,
   "id": "b5880ec2",
   "metadata": {},
   "outputs": [
    {
     "name": "stdout",
     "output_type": "stream",
     "text": [
      "Within function:10\n",
      "After function execution:5\n"
     ]
    }
   ],
   "source": [
    "x = 5 # global\n",
    "def fn():\n",
    "    x = 10 #local\n",
    "    print(f\"Within function:{x}\")\n",
    "\n",
    "fn()\n",
    "print(f\"After function execution:{x}\")"
   ]
  },
  {
   "cell_type": "code",
   "execution_count": 3,
   "id": "ebdb101c",
   "metadata": {},
   "outputs": [
    {
     "name": "stdout",
     "output_type": "stream",
     "text": [
      "Within function:10\n",
      "After function execution:10\n"
     ]
    }
   ],
   "source": [
    "x = 5 # global\n",
    "def fn():\n",
    "    global x\n",
    "    x = 10 \n",
    "    print(f\"Within function:{x}\")\n",
    "\n",
    "fn()\n",
    "print(f\"After function execution:{x}\")"
   ]
  },
  {
   "cell_type": "code",
   "execution_count": 4,
   "id": "f6f24ca9",
   "metadata": {},
   "outputs": [
    {
     "name": "stdout",
     "output_type": "stream",
     "text": [
      "Within function:10,5\n",
      "After function execution:5\n"
     ]
    }
   ],
   "source": [
    "x = 5 # global\n",
    "def fn():\n",
    "    x = 10 \n",
    "    y = globals()['x']\n",
    "    print(f\"Within function:{x},{y}\")\n",
    "\n",
    "fn()\n",
    "print(f\"After function execution:{x}\")"
   ]
  },
  {
   "cell_type": "code",
   "execution_count": 5,
   "id": "d61d33e5",
   "metadata": {},
   "outputs": [
    {
     "ename": "NameError",
     "evalue": "name 'innerFn' is not defined",
     "output_type": "error",
     "traceback": [
      "\u001b[1;31m---------------------------------------------------------------------------\u001b[0m",
      "\u001b[1;31mNameError\u001b[0m                                 Traceback (most recent call last)",
      "Cell \u001b[1;32mIn[5], line 6\u001b[0m\n\u001b[0;32m      3\u001b[0m     \u001b[38;5;28;01mdef\u001b[39;00m \u001b[38;5;21minnerFn\u001b[39m():\n\u001b[0;32m      4\u001b[0m         \u001b[38;5;28mprint\u001b[39m(\u001b[38;5;124m\"\u001b[39m\u001b[38;5;124mWithin Inner\u001b[39m\u001b[38;5;124m\"\u001b[39m)\n\u001b[1;32m----> 6\u001b[0m \u001b[43minnerFn\u001b[49m()\n",
      "\u001b[1;31mNameError\u001b[0m: name 'innerFn' is not defined"
     ]
    }
   ],
   "source": [
    "def outerFn():\n",
    "    print(\"Within Outer\")\n",
    "    def innerFn():\n",
    "        print(\"Within Inner\")\n",
    "\n",
    "innerFn()"
   ]
  },
  {
   "cell_type": "code",
   "execution_count": 6,
   "id": "39921540",
   "metadata": {},
   "outputs": [
    {
     "name": "stdout",
     "output_type": "stream",
     "text": [
      "Within Outer\n"
     ]
    }
   ],
   "source": [
    "def outerFn():\n",
    "    print(\"Within Outer\")\n",
    "    def innerFn():\n",
    "        print(\"Within Inner\")\n",
    "\n",
    "outerFn()"
   ]
  },
  {
   "cell_type": "code",
   "execution_count": 7,
   "id": "7526aee8",
   "metadata": {},
   "outputs": [
    {
     "name": "stdout",
     "output_type": "stream",
     "text": [
      "Within Outer\n",
      "Within Inner\n",
      "In Outer function\n"
     ]
    }
   ],
   "source": [
    "def outerFn():\n",
    "    print(\"Within Outer\")\n",
    "    def innerFn():\n",
    "        print(\"Within Inner\")\n",
    "    innerFn()\n",
    "    print(\"In Outer function\")\n",
    "\n",
    "outerFn()"
   ]
  },
  {
   "cell_type": "code",
   "execution_count": 8,
   "id": "16a7f74b",
   "metadata": {},
   "outputs": [
    {
     "name": "stdout",
     "output_type": "stream",
     "text": [
      "Within Outer: 10\n",
      "Within Inner: 10\n",
      "In Outer: 10\n"
     ]
    }
   ],
   "source": [
    "def outerFn():\n",
    "    x = 10\n",
    "    print(f\"Within Outer: {x}\")\n",
    "    def innerFn():\n",
    "        print(f\"Within Inner: {x}\")\n",
    "    innerFn()\n",
    "    print(f\"In Outer: {x}\")\n",
    "\n",
    "outerFn()"
   ]
  },
  {
   "cell_type": "code",
   "execution_count": 9,
   "id": "0e08cbc0",
   "metadata": {},
   "outputs": [
    {
     "name": "stdout",
     "output_type": "stream",
     "text": [
      "Within Outer: 10\n",
      "Within Inner: 5\n",
      "In Outer: 10\n"
     ]
    }
   ],
   "source": [
    "def outerFn():\n",
    "    x = 10\n",
    "    print(f\"Within Outer: {x}\")\n",
    "    def innerFn():\n",
    "        x = 5\n",
    "        print(f\"Within Inner: {x}\")\n",
    "    innerFn()\n",
    "    print(f\"In Outer: {x}\")\n",
    "\n",
    "outerFn()"
   ]
  },
  {
   "cell_type": "code",
   "execution_count": 10,
   "id": "16153ae4",
   "metadata": {},
   "outputs": [
    {
     "name": "stdout",
     "output_type": "stream",
     "text": [
      "Within Outer: 10\n",
      "Within Inner: 5\n",
      "In Outer: 5\n"
     ]
    }
   ],
   "source": [
    "def outerFn():\n",
    "    x = 10\n",
    "    print(f\"Within Outer: {x}\")\n",
    "    def innerFn():\n",
    "        nonlocal x\n",
    "        x = 5\n",
    "        print(f\"Within Inner: {x}\")\n",
    "    innerFn()\n",
    "    print(f\"In Outer: {x}\")\n",
    "\n",
    "outerFn()"
   ]
  },
  {
   "cell_type": "code",
   "execution_count": 11,
   "id": "b0009d9d",
   "metadata": {},
   "outputs": [
    {
     "name": "stdout",
     "output_type": "stream",
     "text": [
      "Within Outer: 10\n",
      "Within Inner: 10\n",
      "In Outer: 10\n"
     ]
    }
   ],
   "source": [
    "def outerFn(x):\n",
    "    print(f\"Within Outer: {x}\")\n",
    "    def innerFn():\n",
    "        print(f\"Within Inner: {x}\")\n",
    "    innerFn()\n",
    "    print(f\"In Outer: {x}\")\n",
    "\n",
    "outerFn(10)"
   ]
  },
  {
   "cell_type": "code",
   "execution_count": 12,
   "id": "a342bacb",
   "metadata": {},
   "outputs": [
    {
     "name": "stdout",
     "output_type": "stream",
     "text": [
      "Within Inner: 10\n"
     ]
    }
   ],
   "source": [
    "def outerFn():\n",
    "    x = 10\n",
    "    def innerFn():\n",
    "        print(f\"Within Inner: {x}\")\n",
    "    return innerFn\n",
    "    \n",
    "f = outerFn()\n",
    "f()"
   ]
  },
  {
   "cell_type": "code",
   "execution_count": 13,
   "id": "b6bbe721",
   "metadata": {},
   "outputs": [
    {
     "data": {
      "text/plain": [
       "(<cell at 0x000002233C924EE0: int object at 0x0000022336650210>,)"
      ]
     },
     "execution_count": 13,
     "metadata": {},
     "output_type": "execute_result"
    }
   ],
   "source": [
    "f.__closure__"
   ]
  },
  {
   "cell_type": "code",
   "execution_count": 14,
   "id": "8e0893d5",
   "metadata": {},
   "outputs": [
    {
     "name": "stdout",
     "output_type": "stream",
     "text": [
      "8 125\n",
      "32 3125\n"
     ]
    }
   ],
   "source": [
    "def poweredTo(n):\n",
    "    def innerFn(x):\n",
    "        return x**n\n",
    "    return innerFn\n",
    "    \n",
    "power3 = poweredTo(3)\n",
    "power5 = poweredTo(5)\n",
    "\n",
    "print(power3(2),power3(5))\n",
    "print(power5(2),power5(5))"
   ]
  }
 ],
 "metadata": {
  "kernelspec": {
   "display_name": "Python 3 (ipykernel)",
   "language": "python",
   "name": "python3"
  },
  "language_info": {
   "codemirror_mode": {
    "name": "ipython",
    "version": 3
   },
   "file_extension": ".py",
   "mimetype": "text/x-python",
   "name": "python",
   "nbconvert_exporter": "python",
   "pygments_lexer": "ipython3",
   "version": "3.10.9"
  }
 },
 "nbformat": 4,
 "nbformat_minor": 5
}
