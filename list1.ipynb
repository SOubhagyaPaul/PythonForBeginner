{
 "cells": [
  {
   "cell_type": "code",
   "execution_count": 1,
   "id": "ed6831c0",
   "metadata": {},
   "outputs": [
    {
     "name": "stdout",
     "output_type": "stream",
     "text": [
      "courses:  ['bca', 'mca', 'btech']\n",
      "marks:  [93, 88, 77, 95]\n",
      "marks with duplicate values:  [93, 88, 77, 95, 77, 77]\n",
      "student:  [5, 'Animesh', [93, 88, 77, 95]]\n",
      "myList:  []\n"
     ]
    }
   ],
   "source": [
    "# Lists : ordered, mutable, allows duplicate values\n",
    "\n",
    "courses = [\"bca\", \"mca\", \"btech\"]\n",
    "print(\"courses: \",courses)\n",
    "\n",
    "marks = [93, 88, 77, 95]\n",
    "print(\"marks: \",marks)\n",
    "\n",
    "# allows duplicate elements\n",
    "marks = [93, 88, 77, 95, 77, 77]\n",
    "print(\"marks with duplicate values: \",marks)\n",
    "\n",
    "# elements don’t have to be the same type\n",
    "student = [5, \"Animesh\", [93, 88, 77, 95]]\n",
    "print(\"student: \",student)\n",
    "\n",
    "# list with no elements is an empty list\n",
    "myList = []\n",
    "print(\"myList: \",myList)"
   ]
  },
  {
   "cell_type": "code",
   "execution_count": 2,
   "id": "cff88aa3",
   "metadata": {},
   "outputs": [
    {
     "name": "stdout",
     "output_type": "stream",
     "text": [
      "<class 'list'>\n"
     ]
    }
   ],
   "source": [
    "marks = [93, 88, 77, 95]\n",
    "print(type(marks))"
   ]
  },
  {
   "cell_type": "code",
   "execution_count": 3,
   "id": "e1fdc03f",
   "metadata": {},
   "outputs": [
    {
     "name": "stdout",
     "output_type": "stream",
     "text": [
      "[]\n",
      "['bca', 'mca', 'btech']\n"
     ]
    }
   ],
   "source": [
    "# list() to create a new list\n",
    "\n",
    "myList = list()\n",
    "print(myList)\n",
    "\n",
    "myList = list((\"bca\",\"mca\",\"btech\"))\n",
    "print(myList)"
   ]
  },
  {
   "cell_type": "code",
   "execution_count": 4,
   "id": "da92801d",
   "metadata": {},
   "outputs": [
    {
     "name": "stdout",
     "output_type": "stream",
     "text": [
      "4\n",
      "3\n",
      "0\n"
     ]
    }
   ],
   "source": [
    "# len(list) - number of elements in the list\n",
    "\n",
    "courses = [\"bca\", \"mca\", \"btech\", \"bsc\"]\n",
    "print(len(courses))\n",
    "\n",
    "student = [5, \"Animesh\", [93, 88, 77, 95]]\n",
    "print(len(student))\n",
    "\n",
    "myList = []\n",
    "print(len(myList))"
   ]
  },
  {
   "cell_type": "code",
   "execution_count": 3,
   "id": "9af9750b",
   "metadata": {},
   "outputs": [
    {
     "name": "stdout",
     "output_type": "stream",
     "text": [
      "11\n",
      "3\n",
      "32\n",
      "6.4\n"
     ]
    }
   ],
   "source": [
    "# some built-in functions that can be used on lists\n",
    "# sum() works only when the list elements are numbers\n",
    "# others like (max(), len(), etc.) work with lists of strings and other types that can be comparable\n",
    "\n",
    "nums = [3, 5, 9, 11, 4]\n",
    "\n",
    "print(max(nums))\n",
    "\n",
    "print(min(nums))\n",
    "\n",
    "print(sum(nums))\n",
    "\n",
    "print(sum(nums)/len(nums))"
   ]
  },
  {
   "cell_type": "code",
   "execution_count": null,
   "id": "0febd986",
   "metadata": {},
   "outputs": [],
   "source": []
  },
  {
   "cell_type": "code",
   "execution_count": 4,
   "id": "30116cf6",
   "metadata": {},
   "outputs": [
    {
     "name": "stdout",
     "output_type": "stream",
     "text": [
      "Sahana\n",
      "Aman\n"
     ]
    }
   ],
   "source": [
    "names = [\"Jyoti\", \"Sahana\", \"Aman\", \"Atiqur\", \"Rajnandini\"]\n",
    "print(max(names))\n",
    "print(min(names))"
   ]
  },
  {
   "cell_type": "code",
   "execution_count": 5,
   "id": "a07f91a6",
   "metadata": {},
   "outputs": [
    {
     "name": "stdout",
     "output_type": "stream",
     "text": [
      "bca mca btech\n",
      "btech mca bca\n"
     ]
    }
   ],
   "source": [
    "# index\n",
    "\n",
    "courses = [\"bca\", \"mca\", \"btech\"]\n",
    "print(courses [0], courses[1], courses[2])\n",
    "print(courses [-1], courses[-2], courses[-3])"
   ]
  },
  {
   "cell_type": "code",
   "execution_count": 15,
   "id": "507640a1",
   "metadata": {},
   "outputs": [
    {
     "name": "stdout",
     "output_type": "stream",
     "text": [
      "bca\n",
      "mca\n",
      "btech\n",
      "bsc\n",
      "-------------\n",
      "bca\n",
      "mca\n",
      "btech\n",
      "bsc\n",
      "-------------\n",
      "0 bca\n",
      "1 mca\n",
      "2 btech\n",
      "3 bsc\n"
     ]
    }
   ],
   "source": [
    "# traversing a list\n",
    "courses = [\"bca\", \"mca\", \"btech\", \"bsc\"]\n",
    "\n",
    "for course in courses:\n",
    "    print(course)\n",
    "print('-------------')\n",
    "\n",
    "# another way\n",
    "for i in range(len(courses)):\n",
    "    print(courses[i])\n",
    "print('-------------') \n",
    "\n",
    "# with enumerate()\n",
    "for index,val in enumerate(courses):\n",
    "    print(index,val)"
   ]
  },
  {
   "cell_type": "code",
   "execution_count": 9,
   "id": "bf9d2b7a",
   "metadata": {},
   "outputs": [
    {
     "name": "stdout",
     "output_type": "stream",
     "text": [
      "Yes\n"
     ]
    }
   ],
   "source": [
    "# check membership\n",
    "\n",
    "if \"mca\" in courses:\n",
    "    print(\"Yes\")\n",
    "else:\n",
    "    print(\"No\")"
   ]
  },
  {
   "cell_type": "code",
   "execution_count": 10,
   "id": "5d696109",
   "metadata": {},
   "outputs": [
    {
     "name": "stdout",
     "output_type": "stream",
     "text": [
      "courses[1:3]:  ['mca', 'btech']\n",
      "courses[:3]:  ['bca', 'mca', 'btech']\n",
      "courses[1:]:  ['mca', 'btech', 'bsc', 'msc']\n",
      "courses[-3:-1]:  ['btech', 'bsc']\n",
      "courses[:]:  ['bca', 'mca', 'btech', 'bsc', 'msc']\n",
      "courses[::-1]:  ['msc', 'bsc', 'btech', 'mca', 'bca']\n"
     ]
    }
   ],
   "source": [
    "# Slicing\n",
    "\n",
    "courses = [\"bca\", \"mca\", \"btech\", \"bsc\", \"msc\"]\n",
    "\n",
    "print(\"courses[1:3]: \", courses[1:3])\n",
    "print(\"courses[:3]: \", courses[:3]) \n",
    "print(\"courses[1:]: \", courses[1:]) \n",
    "print(\"courses[-3:-1]: \", courses[-3:-1]) \n",
    "print(\"courses[:]: \", courses[:])\n",
    "print(\"courses[::-1]: \", courses[::-1])"
   ]
  },
  {
   "cell_type": "code",
   "execution_count": 18,
   "id": "35b85668",
   "metadata": {},
   "outputs": [
    {
     "name": "stdout",
     "output_type": "stream",
     "text": [
      "['bca', 'mba', 'btech', 'bsc', 'msc']\n",
      "['bca', 'mca', 'mtech', 'phd', 'msc']\n",
      "['bca', 'mca', 'mtech', 'ms', 'phd', 'msc']\n",
      "['bca', 'mtech', 'msc']\n"
     ]
    }
   ],
   "source": [
    "# lists are mutable, list item's/element's values can be changed\n",
    "\n",
    "courses = [\"bca\", \"mca\", \"btech\", \"bsc\", \"msc\"]\n",
    "courses[1] = \"mba\"\n",
    "print(courses)\n",
    "\n",
    "# change a range of item values\n",
    "courses = [\"bca\", \"mca\", \"btech\", \"bsc\", \"msc\"]\n",
    "courses[2:4] = [\"mtech\",\"phd\"]\n",
    "print(courses)\n",
    "\n",
    "# inserting more items than replaced\n",
    "courses = [\"bca\", \"mca\", \"btech\", \"bsc\", \"msc\"]\n",
    "courses[2:4] = [\"mtech\",\"ms\",\"phd\"]\n",
    "print(courses)\n",
    "\n",
    "# inserting less items than replaced\n",
    "courses = [\"bca\", \"mca\", \"btech\", \"bsc\", \"msc\"]\n",
    "courses[1:4] = [\"mtech\"]\n",
    "print(courses)"
   ]
  },
  {
   "cell_type": "code",
   "execution_count": 12,
   "id": "65e6d9a6",
   "metadata": {},
   "outputs": [
    {
     "name": "stdout",
     "output_type": "stream",
     "text": [
      "append:  ['bca', 'mca', 'btech', 'mtech']\n",
      "insert:  ['bca', 'mba', 'mca', 'btech', 'mtech']\n",
      "extend:  ['bca', 'mba', 'mca', 'btech', 'mtech', 'bsc', 'msc']\n"
     ]
    }
   ],
   "source": [
    "# add item\n",
    "# append() - Append object to the end of the list.\n",
    "\n",
    "courses = [\"bca\", \"mca\", \"btech\"]\n",
    "courses.append(\"mtech\")\n",
    "print(\"append: \", courses)\n",
    "\n",
    "# insert() - insert item at a specified index(position)\n",
    "courses.insert(1,\"mba\")\n",
    "print(\"insert: \", courses)\n",
    "\n",
    "# extend() - Extend list by appending elements from an iterable.\n",
    "another = ['bsc', 'msc']\n",
    "courses.extend(another)\n",
    "print(\"extend: \", courses)"
   ]
  },
  {
   "cell_type": "code",
   "execution_count": 13,
   "id": "d11dd948",
   "metadata": {},
   "outputs": [
    {
     "name": "stdout",
     "output_type": "stream",
     "text": [
      "Help on method_descriptor:\n",
      "\n",
      "append(self, object, /)\n",
      "    Append object to the end of the list.\n",
      "\n",
      "Help on method_descriptor:\n",
      "\n",
      "extend(self, iterable, /)\n",
      "    Extend list by appending elements from the iterable.\n",
      "\n"
     ]
    }
   ],
   "source": [
    "# append vs. extend\n",
    "help(list.append)\n",
    "help(list.extend)"
   ]
  },
  {
   "cell_type": "code",
   "execution_count": 14,
   "id": "db677583",
   "metadata": {},
   "outputs": [
    {
     "name": "stdout",
     "output_type": "stream",
     "text": [
      "append:  ['bca', 'mca', 'btech', ['bsc', 'msc']]\n"
     ]
    }
   ],
   "source": [
    "courses = [\"bca\", \"mca\", \"btech\"]\n",
    "another = ['bsc', 'msc']\n",
    "courses.append(another)\n",
    "print(\"append: \", courses )"
   ]
  },
  {
   "cell_type": "code",
   "execution_count": 15,
   "id": "89c77362",
   "metadata": {},
   "outputs": [
    {
     "name": "stdout",
     "output_type": "stream",
     "text": [
      "extend:  ['bca', 'mca', 'btech', 'bsc', 'msc']\n"
     ]
    }
   ],
   "source": [
    "courses = [\"bca\", \"mca\", \"btech\"]\n",
    "another = ['bsc', 'msc']\n",
    "courses.extend(another)\n",
    "print(\"extend: \", courses )"
   ]
  },
  {
   "cell_type": "code",
   "execution_count": 16,
   "id": "0b7821f5",
   "metadata": {},
   "outputs": [
    {
     "name": "stdout",
     "output_type": "stream",
     "text": [
      "Help on method_descriptor:\n",
      "\n",
      "pop(self, index=-1, /)\n",
      "    Remove and return item at index (default last).\n",
      "    \n",
      "    Raises IndexError if list is empty or index is out of range.\n",
      "\n",
      "Help on method_descriptor:\n",
      "\n",
      "remove(self, value, /)\n",
      "    Remove first occurrence of value.\n",
      "    \n",
      "    Raises ValueError if the value is not present.\n",
      "\n",
      "Help on method_descriptor:\n",
      "\n",
      "clear(self, /)\n",
      "    Remove all items from list.\n",
      "\n"
     ]
    }
   ],
   "source": [
    "help(list.pop)\n",
    "help(list.remove)\n",
    "help(list.clear)"
   ]
  },
  {
   "cell_type": "code",
   "execution_count": 17,
   "id": "e4ecc74e",
   "metadata": {},
   "outputs": [
    {
     "name": "stdout",
     "output_type": "stream",
     "text": [
      "courses before pop():  ['bca', 'mca', 'btech']\n",
      "item:  btech\n",
      "courses after pop():  ['bca', 'mca']\n",
      "\n",
      "courses before pop(1):  ['bca', 'mca', 'btech']\n",
      "item:  mca\n",
      "courses after pop(1):  ['bca', 'btech']\n",
      "\n",
      "courses before remove():  ['bca', 'mca', 'btech', 'bca']\n",
      "courses after remove('bca'):  ['mca', 'btech', 'bca']\n",
      "\n",
      "courses before del[1]:  ['bca', 'mca', 'btech']\n",
      "courses after del[1]:  ['bca', 'btech']\n",
      "\n",
      "courses before clear():  ['bca', 'mca', 'btech']\n",
      "courses after clear():  []\n",
      "\n"
     ]
    },
    {
     "ename": "NameError",
     "evalue": "name 'courses' is not defined",
     "output_type": "error",
     "traceback": [
      "\u001b[1;31m---------------------------------------------------------------------------\u001b[0m",
      "\u001b[1;31mNameError\u001b[0m                                 Traceback (most recent call last)",
      "Cell \u001b[1;32mIn[17], line 47\u001b[0m\n\u001b[0;32m     45\u001b[0m courses \u001b[38;5;241m=\u001b[39m [\u001b[38;5;124m\"\u001b[39m\u001b[38;5;124mbca\u001b[39m\u001b[38;5;124m\"\u001b[39m, \u001b[38;5;124m\"\u001b[39m\u001b[38;5;124mmca\u001b[39m\u001b[38;5;124m\"\u001b[39m, \u001b[38;5;124m\"\u001b[39m\u001b[38;5;124mbtech\u001b[39m\u001b[38;5;124m\"\u001b[39m]\n\u001b[0;32m     46\u001b[0m \u001b[38;5;28;01mdel\u001b[39;00m courses\n\u001b[1;32m---> 47\u001b[0m \u001b[38;5;28mprint\u001b[39m(\u001b[38;5;124m\"\u001b[39m\u001b[38;5;124mcourses: \u001b[39m\u001b[38;5;124m\"\u001b[39m, \u001b[43mcourses\u001b[49m)\n",
      "\u001b[1;31mNameError\u001b[0m: name 'courses' is not defined"
     ]
    }
   ],
   "source": [
    "#remove item\n",
    "# pop () - returns the last item, also removes it\n",
    "\n",
    "courses = [\"bca\", \"mca\", \"btech\"]\n",
    "print(\"courses before pop(): \", courses)\n",
    "item = courses.pop()\n",
    "print(\"item: \", item)\n",
    "print(\"courses after pop(): \", courses)\n",
    "print()\n",
    "\n",
    "# pop(index) - removes the item at specified index\n",
    "\n",
    "courses = [\"bca\", \"mca\", \"btech\"]\n",
    "print(\"courses before pop(1): \", courses)\n",
    "item = courses.pop(1)\n",
    "print(\"item: \", item)\n",
    "print(\"courses after pop(1): \", courses)\n",
    "print()\n",
    "\n",
    "# remove() - remove specified item (first occurrence)\n",
    "# return value from remove is None\n",
    "\n",
    "courses = [\"bca\", \"mca\", \"btech\", \"bca\"]\n",
    "print(\"courses before remove(): \", courses)\n",
    "courses.remove(\"bca\")\n",
    "print(\"courses after remove('bca'): \", courses)\n",
    "print()\n",
    "\n",
    "# del - removes the item at specified index, when specified with an index\n",
    "\n",
    "courses = [\"bca\", \"mca\", \"btech\"]\n",
    "print(\"courses before del[1]: \", courses)\n",
    "del courses[1]\n",
    "print(\"courses after del[1]: \", courses)\n",
    "print()\n",
    "\n",
    "# clear() - empties a list\n",
    "courses = [\"bca\", \"mca\", \"btech\"]\n",
    "print(\"courses before clear(): \", courses)\n",
    "courses.clear()\n",
    "print(\"courses after clear(): \", courses)\n",
    "print()\n",
    "\n",
    "# deletes the entire list\n",
    "courses = [\"bca\", \"mca\", \"btech\"]\n",
    "del courses\n",
    "print(\"courses: \", courses) # will raise an error since list does not exist"
   ]
  },
  {
   "cell_type": "code",
   "execution_count": 18,
   "id": "cc716810",
   "metadata": {},
   "outputs": [
    {
     "name": "stdout",
     "output_type": "stream",
     "text": [
      "Help on method_descriptor:\n",
      "\n",
      "reverse(self, /)\n",
      "    Reverse *IN PLACE*.\n",
      "\n"
     ]
    }
   ],
   "source": [
    "help(list.reverse)"
   ]
  },
  {
   "cell_type": "code",
   "execution_count": 25,
   "id": "f80787e5",
   "metadata": {},
   "outputs": [
    {
     "name": "stdout",
     "output_type": "stream",
     "text": [
      "['msc', 'bsc', 'btech', 'mca', 'bca']\n"
     ]
    }
   ],
   "source": [
    "# reverse\n",
    "\n",
    "courses = [\"bca\", \"mca\", \"btech\", \"bsc\", \"msc\"]\n",
    "courses.reverse()\n",
    "print(courses)\n"
   ]
  },
  {
   "cell_type": "code",
   "execution_count": 3,
   "id": "95df0052",
   "metadata": {},
   "outputs": [
    {
     "name": "stdout",
     "output_type": "stream",
     "text": [
      "['bca', 'mca', 'btech', 'bsc', 'msc', 'blib', 'mlib']\n",
      "[9, 7, 9, 7, 9, 7, 9, 7, 9, 7]\n"
     ]
    }
   ],
   "source": [
    "# concatenation and duplication\n",
    "\n",
    "courses = [\"bca\", \"mca\", \"btech\", \"bsc\", \"msc\"]\n",
    "newCourses = [\"blib\",\"mlib\"]\n",
    "myList = courses + newCourses\n",
    "print(myList)\n",
    "\n",
    "myList = [9,7]\n",
    "newList = myList * 5\n",
    "print(newList)\n"
   ]
  },
  {
   "cell_type": "code",
   "execution_count": 21,
   "id": "86a14eea",
   "metadata": {},
   "outputs": [
    {
     "name": "stdout",
     "output_type": "stream",
     "text": [
      "Help on method_descriptor:\n",
      "\n",
      "sort(self, /, *, key=None, reverse=False)\n",
      "    Sort the list in ascending order and return None.\n",
      "    \n",
      "    The sort is in-place (i.e. the list itself is modified) and stable (i.e. the\n",
      "    order of two equal elements is maintained).\n",
      "    \n",
      "    If a key function is given, apply it once to each list item and sort them,\n",
      "    ascending or descending, according to their function values.\n",
      "    \n",
      "    The reverse flag can be set to sort in descending order.\n",
      "\n"
     ]
    }
   ],
   "source": [
    "help(list.sort)"
   ]
  },
  {
   "cell_type": "code",
   "execution_count": 22,
   "id": "88b4c066",
   "metadata": {},
   "outputs": [
    {
     "name": "stdout",
     "output_type": "stream",
     "text": [
      "courses sorted in ascending order:  ['MCa', 'bca', 'bsc', 'btech', 'msc']\n",
      "courses sorted in descending order:  ['msc', 'btech', 'bsc', 'bca', 'MCa']\n"
     ]
    }
   ],
   "source": [
    "# sort() - sorts the list ascending by default\n",
    "\n",
    "courses = [\"bca\", \"MCa\", \"btech\", \"bsc\", \"msc\"]\n",
    "courses.sort()\n",
    "print(\"courses sorted in ascending order: \", courses)\n",
    "\n",
    "courses = [\"bca\", \"MCa\", \"btech\", \"bsc\", \"msc\"]\n",
    "courses.sort(reverse = True)\n",
    "print(\"courses sorted in descending order: \", courses)      "
   ]
  },
  {
   "cell_type": "code",
   "execution_count": 23,
   "id": "0c46daab",
   "metadata": {},
   "outputs": [
    {
     "name": "stdout",
     "output_type": "stream",
     "text": [
      "['append', 'clear', 'copy', 'count', 'extend', 'index', 'insert', 'pop', 'remove', 'reverse', 'sort']\n"
     ]
    }
   ],
   "source": [
    "myList = []\n",
    "for x in dir(list):\n",
    "    if x.startswith('__') and x.endswith('__'):\n",
    "        pass\n",
    "    else:\n",
    "        myList.append(x)\n",
    "print(myList)"
   ]
  },
  {
   "cell_type": "code",
   "execution_count": null,
   "id": "bca6bbe7",
   "metadata": {},
   "outputs": [],
   "source": []
  }
 ],
 "metadata": {
  "kernelspec": {
   "display_name": "Python 3 (ipykernel)",
   "language": "python",
   "name": "python3"
  },
  "language_info": {
   "codemirror_mode": {
    "name": "ipython",
    "version": 3
   },
   "file_extension": ".py",
   "mimetype": "text/x-python",
   "name": "python",
   "nbconvert_exporter": "python",
   "pygments_lexer": "ipython3",
   "version": "3.9.7"
  }
 },
 "nbformat": 4,
 "nbformat_minor": 5
}
