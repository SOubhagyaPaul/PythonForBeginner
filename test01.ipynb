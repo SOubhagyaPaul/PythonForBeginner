{
 "cells": [
  {
   "cell_type": "code",
   "execution_count": 1,
   "id": "2dfb67de",
   "metadata": {},
   "outputs": [
    {
     "name": "stdout",
     "output_type": "stream",
     "text": [
      "BCA\n"
     ]
    }
   ],
   "source": [
    "class Test:\n",
    "    def __init__(self):\n",
    "        self.course = 'BCA'\n",
    "        self.update(self.course)\n",
    "    def update(self, course):\n",
    "        course = 'MCA'\n",
    "\n",
    "student=Test()\n",
    "print(student.course)"
   ]
  },
  {
   "cell_type": "code",
   "execution_count": 2,
   "id": "74352b55",
   "metadata": {},
   "outputs": [
    {
     "name": "stdout",
     "output_type": "stream",
     "text": [
      "2024-01-09\n"
     ]
    }
   ],
   "source": [
    "import datetime \n",
    "tday=datetime.date.today() \n",
    "print(tday)"
   ]
  },
  {
   "cell_type": "code",
   "execution_count": 4,
   "id": "940c0db8",
   "metadata": {},
   "outputs": [
    {
     "name": "stdout",
     "output_type": "stream",
     "text": [
      "0\n"
     ]
    }
   ],
   "source": [
    "class Test:\n",
    "    count=0\n",
    "    def __init__(self):\n",
    "        self.count= Test.count+1\n",
    "student1=Test()\n",
    "student2=Test()\n",
    "print(Test.count)"
   ]
  },
  {
   "cell_type": "code",
   "execution_count": 6,
   "id": "e0fc0570",
   "metadata": {},
   "outputs": [
    {
     "data": {
      "text/plain": [
       "-5"
      ]
     },
     "execution_count": 6,
     "metadata": {},
     "output_type": "execute_result"
    }
   ],
   "source": [
    "import math\n",
    "math.ceil(-5.4)"
   ]
  },
  {
   "cell_type": "code",
   "execution_count": null,
   "id": "3c23d132",
   "metadata": {},
   "outputs": [],
   "source": []
  }
 ],
 "metadata": {
  "kernelspec": {
   "display_name": "Python 3 (ipykernel)",
   "language": "python",
   "name": "python3"
  },
  "language_info": {
   "codemirror_mode": {
    "name": "ipython",
    "version": 3
   },
   "file_extension": ".py",
   "mimetype": "text/x-python",
   "name": "python",
   "nbconvert_exporter": "python",
   "pygments_lexer": "ipython3",
   "version": "3.9.7"
  }
 },
 "nbformat": 4,
 "nbformat_minor": 5
}
