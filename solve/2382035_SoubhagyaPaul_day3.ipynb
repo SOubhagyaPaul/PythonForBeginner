{
 "cells": [
  {
   "cell_type": "code",
   "execution_count": 4,
   "id": "ac4e24fc",
   "metadata": {},
   "outputs": [
    {
     "name": "stdout",
     "output_type": "stream",
     "text": [
      "[('a', 1), ('b', 2), ('c', 3)]\n"
     ]
    }
   ],
   "source": [
    "#Given a non-empty dictionary, create a list of tuples where each tuple is a (key, value) pair of the\n",
    "#dictionary.\n",
    "d1={'a':1,'b':2,'c':3}\n",
    "l1=[(x,y) for x,y in d1.items()]\n",
    "print(l1)"
   ]
  },
  {
   "cell_type": "code",
   "execution_count": 14,
   "id": "80c683c5",
   "metadata": {},
   "outputs": [
    {
     "name": "stdout",
     "output_type": "stream",
     "text": [
      "The tuple is : (12, 5, 8, 1, 7, 5, 8)\n",
      "sorted list is :  (1, 5, 5, 7, 8, 8, 12)\n",
      "Enter the kth minimum element: 5\n",
      "(1, 5, 5, 7, 8)\n",
      "Enter the kth maximun element: 5\n",
      "(5, 7, 8, 8, 12)\n"
     ]
    }
   ],
   "source": [
    "#Find maximum and minimum k elements in a Tuple.\n",
    "t1=(12,5,8,1,7,5,8)\n",
    "print(\"The tuple is :\",t1)\n",
    "t2=tuple(sorted(t1))\n",
    "print(\"sorted list is : \",t2)\n",
    "n=int(input(\"Enter the kth minimum element: \"))\n",
    "x=slice(n)\n",
    "print(t2[x])\n",
    "n=int(input(\"Enter the kth maximun element: \"))\n",
    "print(t2[-n:])"
   ]
  },
  {
   "cell_type": "code",
   "execution_count": 1,
   "id": "71fda977",
   "metadata": {},
   "outputs": [
    {
     "name": "stdout",
     "output_type": "stream",
     "text": [
      "Help on built-in function print in module builtins:\n",
      "\n",
      "print(...)\n",
      "    print(value, ..., sep=' ', end='\\n', file=sys.stdout, flush=False)\n",
      "    \n",
      "    Prints the values to a stream, or to sys.stdout by default.\n",
      "    Optional keyword arguments:\n",
      "    file:  a file-like object (stream); defaults to the current sys.stdout.\n",
      "    sep:   string inserted between values, default a space.\n",
      "    end:   string appended after the last value, default a newline.\n",
      "    flush: whether to forcibly flush the stream.\n",
      "\n"
     ]
    }
   ],
   "source": [
    "help(print)"
   ]
  },
  {
   "cell_type": "code",
   "execution_count": 1,
   "id": "40d1f13b",
   "metadata": {},
   "outputs": [
    {
     "name": "stdout",
     "output_type": "stream",
     "text": [
      "The dictionary is : {'a': 5, 'b': 5, 'c': 5, 'd': 2}\n"
     ]
    },
    {
     "data": {
      "text/plain": [
       "{2, 5}"
      ]
     },
     "execution_count": 1,
     "metadata": {},
     "output_type": "execute_result"
    }
   ],
   "source": [
    "#Extract unique values from a dictionary.\n",
    "d1 = {'a':5, 'b':5,'c':5 ,'d':2}\n",
    "print(\"The dictionary is : \" + str(d1))\n",
    "result=(set)(d1.values())\n",
    "result"
   ]
  },
  {
   "cell_type": "code",
   "execution_count": 5,
   "id": "42734e80",
   "metadata": {},
   "outputs": [
    {
     "name": "stdout",
     "output_type": "stream",
     "text": [
      "[1, 2, 3, 'Jan', 'Feb', 'Mar']\n"
     ]
    }
   ],
   "source": [
    "'''Append dictionary keys and values (in order), all keys before all values.\n",
    "Sample Input: {1: \"Jan\", 2: \"Feb\", 3: \"Mar\"}\n",
    "Output: [1, 2, 3, 'Jan', 'Feb', 'Mar']'''\n",
    "\n",
    "d1={1: \"Jan\", 2: \"Feb\", 3: \"Mar\"}\n",
    "res = list(d1.keys()) + list(d1.values())\n",
    "print(res)"
   ]
  },
  {
   "cell_type": "code",
   "execution_count": 32,
   "id": "440b2cc8",
   "metadata": {},
   "outputs": [
    {
     "name": "stdout",
     "output_type": "stream",
     "text": [
      "dict_items([(1, 'Jan'), (7, 'Feb'), (3, 'Mar')])\n",
      "{1: 'Jan', 3: 'Mar', 7: 'Feb'}\n",
      "{7: 'Feb', 1: 'Jan', 3: 'Mar'}\n"
     ]
    }
   ],
   "source": [
    "#Sort the items of a dictionary (i) by keys, (ii) by values\n",
    "d1={1: \"Jan\", 7: \"Feb\", 3: \"Mar\"}\n",
    "k = list(d1.keys())\n",
    "# k.sort()\n",
    "# s_d1 = {i: d1[i] for i in k}\n",
    "# print(s_d1)\n",
    "\n",
    "# k1 = list(d1.values())\n",
    "# k1.sort()\n",
    "# s_d2 = {d1[i]:i for i in k1}\n",
    "# print(s_d2)\n",
    "print(d1.items())\n",
    "lst=dict(sorted(d1.items()))\n",
    "print(lst)\n",
    "lst2=dict(sorted(d1.items() ,key=lambda x:x[1]))\n",
    "print(lst2)"
   ]
  },
  {
   "cell_type": "code",
   "execution_count": 2,
   "id": "8b663b6c",
   "metadata": {},
   "outputs": [
    {
     "name": "stdout",
     "output_type": "stream",
     "text": [
      "Enter the sentence: java is is \n",
      " java is\n"
     ]
    }
   ],
   "source": [
    "#Remove all duplicates words from a givensentence.\n",
    "s=input(\"Enter the sentence: \")\n",
    "s1=s.split(\" \")\n",
    "result=(set)(s1)\n",
    "print(\" \".join(result))"
   ]
  },
  {
   "cell_type": "code",
   "execution_count": 10,
   "id": "738a74aa",
   "metadata": {},
   "outputs": [
    {
     "name": "stdout",
     "output_type": "stream",
     "text": [
      "Help on built-in function sorted in module builtins:\n",
      "\n",
      "sorted(iterable, /, *, key=None, reverse=False)\n",
      "    Return a new list containing all items from the iterable in ascending order.\n",
      "    \n",
      "    A custom key function can be supplied to customize the sort order, and the\n",
      "    reverse flag can be set to request the result in descending order.\n",
      "\n"
     ]
    }
   ],
   "source": [
    "help(sorted)"
   ]
  },
  {
   "cell_type": "code",
   "execution_count": 46,
   "id": "dd0f6dd0",
   "metadata": {},
   "outputs": [
    {
     "name": "stdout",
     "output_type": "stream",
     "text": [
      "['fear', 'leads', 'to', 'anger', ';', 'anger', 'leads', 'to', 'hatred;', 'hatred', 'leads', 'to', 'conflict', ';', 'conflict', 'leads', 'to', 'suffering']\n"
     ]
    },
    {
     "data": {
      "text/plain": [
       "{'fear': 1,\n",
       " 'leads': 4,\n",
       " 'to': 4,\n",
       " 'anger': 2,\n",
       " ';': 2,\n",
       " 'hatred;': 1,\n",
       " 'hatred': 1,\n",
       " 'conflict': 2,\n",
       " 'suffering': 1}"
      ]
     },
     "execution_count": 46,
     "metadata": {},
     "output_type": "execute_result"
    }
   ],
   "source": [
    "'''Use a dictionary to count the frequency of words in an input string. Only words should be counted,\n",
    "not blank spaces, numbers, or punctuation. Upper case should be considered the same as lowercase.\n",
    "Sample Input: Fear leads to anger ; Anger leads to hatred; Hatred leads to conflict; Conflict leads to suffering.\n",
    "Output: {'fear': 1, 'leads': 4, 'to': 4, 'anger': 2, 'hatred': 2, 'conflict': 2, 'suffering': 1} '''\n",
    "n=\"Fear leads to anger ; Anger leads to hatred; Hatred leads to conflict ; Conflict leads to suffering\"\n",
    "l=list(n.lower().split(\" \"))\n",
    "print(l)\n",
    "d=dict()\n",
    "for i in l:\n",
    "    if i in d:\n",
    "        d[i]+=1\n",
    "    else:\n",
    "        d[i]=1\n",
    "d"
   ]
  },
  {
   "cell_type": "code",
   "execution_count": 50,
   "id": "4e3bb50a",
   "metadata": {},
   "outputs": [
    {
     "name": "stdout",
     "output_type": "stream",
     "text": [
      "dict_items([('gmail.com', ['paul.buchheit', 'sanjeev.singh', 'kevin.fox']), ('yahoo.com', ['jerry.yang', 'david.filo']), ('hotmail.com', ['sabeer.bhatia'])])\n"
     ]
    },
    {
     "data": {
      "text/plain": [
       "['paul.buchheit@gmail.com',\n",
       " 'sanjeev.singh@gmail.com',\n",
       " 'kevin.fox@gmail.com',\n",
       " 'jerry.yang@yahoo.com',\n",
       " 'david.filo@yahoo.com',\n",
       " 'sabeer.bhatia@hotmail.com']"
      ]
     },
     "execution_count": 50,
     "metadata": {},
     "output_type": "execute_result"
    }
   ],
   "source": [
    "#Given a dictionary, which contains domain names as keys, and a list of users as values, generate a list\n",
    "#that contains complete email addresses.\n",
    "#Sample\n",
    "#Input: {\"gmail.com\": [\"paul.buchheit\", \"sanjeev.singh\", \"kevin.fox\"], \"yahoo.com\":\n",
    "#[\"jerry.yang\", \"david.filo\"], \"hotmail.com\": [\"sabeer.bhatia\"]}\n",
    "\n",
    "#Output: ['paul.buchheit@gmail.com', 'sanjeev.singh@gmail.com', 'kevin.fox@gmail.com',\n",
    "#'jerry.yang@yahoo.com', 'david.filo@yahoo.com', 'sabeer.bhatia@hotmail.com']\n",
    "d={\"gmail.com\": [\"paul.buchheit\", \"sanjeev.singh\", \"kevin.fox\"],\"yahoo.com\":[\"jerry.yang\", \"david.filo\"],\"hotmail.com\": [\"sabeer.bhatia\"]}\n",
    "emails = []\n",
    "print(d.items())\n",
    "for domain, users in d.items():\n",
    "    for user in users:\n",
    "        emails.append(user+\"@\"+domain)\n",
    "emails"
   ]
  },
  {
   "cell_type": "code",
   "execution_count": 57,
   "id": "734dcc1e",
   "metadata": {},
   "outputs": [
    {
     "data": {
      "text/plain": [
       "{'admin': ['local', 'public', 'administrator'],\n",
       " 'Ananya': ['local'],\n",
       " 'Zahir': ['public']}"
      ]
     },
     "execution_count": 57,
     "metadata": {},
     "output_type": "execute_result"
    }
   ],
   "source": [
    "#Given a dictionary, which contains group names with the list of users (Users can belong to multiple\n",
    "#groups), create a dictionary with the users as keys and a list of their groups asvalues.\n",
    "#Sample\n",
    "#Input: {\"local\": [\"admin\", \"Ananya\"],\"public\": [\"admin\", \"Zahir\"], \"administrator”: [\"admin\"] }\n",
    "#Output: {'admin': ['local', 'public', 'administrator'], 'Ananya': ['local'], 'Zahir':['public']}\n",
    "\n",
    "d={\"local\": [\"admin\", \"Ananya\"],\"public\": [\"admin\", \"Zahir\"], \"administrator\": [\"admin\"] }\n",
    "res={}\n",
    "for x,y in d.items():\n",
    "    for i in y:\n",
    "        if i in res:\n",
    "            res[i].append(x)\n",
    "        else:\n",
    "            res[i]=[x]\n",
    "res"
   ]
  },
  {
   "cell_type": "code",
   "execution_count": 65,
   "id": "9dd351fd",
   "metadata": {},
   "outputs": [
    {
     "data": {
      "text/plain": [
       "{'roll': 5, 'Name': 'Ananya', 'marks': [79, 88, 92], 'total': 259}"
      ]
     },
     "execution_count": 65,
     "metadata": {},
     "output_type": "execute_result"
    }
   ],
   "source": [
    "# 10. Given a dictionary that contains a student’s roll, name and a list of marks,\n",
    "# (i) Update the dictionary with an added item of the total of the student’s marks.\n",
    "# Sample\n",
    "# Input: {\"roll\": 5, \"Name\": \"Ananya\", \"marks\": [79, 88, 92]}\n",
    "# Output: {'roll': 5, 'Name': 'Ananya', 'marks': [79, 88, 92], 'total': 259}\n",
    "\n",
    "student={\"roll\": 5, \"Name\": \"Ananya\", \"marks\": [79, 88, 92]}\n",
    "s=sum(student['marks'])\n",
    "student['total']=s\n",
    "student"
   ]
  },
  {
   "cell_type": "code",
   "execution_count": 66,
   "id": "808c5d4b",
   "metadata": {},
   "outputs": [
    {
     "data": {
      "text/plain": [
       "{'roll': 5, 'Name': 'Ananya', 'marks': [79, 88, 92, 259]}"
      ]
     },
     "execution_count": 66,
     "metadata": {},
     "output_type": "execute_result"
    }
   ],
   "source": [
    "# (ii) Update the dictionary with an added entry of the total of the student’s marks in the list.\n",
    "# Sample Input: {\"roll\": 5, \"Name\": \"Ananya\", \"marks\": [79, 88, 92]}\n",
    "# Output: {'roll': 5, 'Name': 'Ananya', 'marks': [79, 88, 92, 259]}\n",
    "\n",
    "student={\"roll\": 5, \"Name\": \"Ananya\", \"marks\": [79, 88, 92]}\n",
    "s=sum(student['marks'])\n",
    "student['marks'].append(s)\n",
    "student"
   ]
  },
  {
   "cell_type": "code",
   "execution_count": 67,
   "id": "867d6777",
   "metadata": {},
   "outputs": [
    {
     "data": {
      "text/plain": [
       "{'roll': 5, 'Name': 'Ananya', 'marks': 259}"
      ]
     },
     "execution_count": 67,
     "metadata": {},
     "output_type": "execute_result"
    }
   ],
   "source": [
    "# (iii) Update the dictionary with the students’ marks list replaced by the total marks of the student\n",
    "# Sample\n",
    "# Input: {\"roll\": 5, \"Name\": \"Ananya\", \"marks\": [79, 88, 92]}\n",
    "# Output: {'roll': 5, 'Name': 'Ananya', 'marks': 259}\n",
    "student={\"roll\": 5, \"Name\": \"Ananya\", \"marks\": [79, 88, 92]}\n",
    "s=sum(student['marks'])\n",
    "student['marks']=s\n",
    "student"
   ]
  },
  {
   "cell_type": "code",
   "execution_count": null,
   "id": "211add6f",
   "metadata": {},
   "outputs": [],
   "source": [
    "# Convert a Linux (UNIX) file permission in octal format into a string format.\n",
    "# [The permissions are split into three sets of three permissions: read, write,\n",
    "# and execute for the owner, group, and others. Each of the three values can be\n",
    "# expressed as an octal number summing each permission, with 4 corresponding to \n",
    "# read, 2 to write, and 1 to execute. Or, it can be written with a string using\n",
    "# the letters r, w, and x or - when the permission is not granted]\n",
    "\n",
    "# input  output\n",
    "# 755    rwxr-xr-x\n",
    "# 750    rwxr-x---\n",
    "# 642    rw-r---w-\n",
    "\n"
   ]
  }
 ],
 "metadata": {
  "kernelspec": {
   "display_name": "Python 3 (ipykernel)",
   "language": "python",
   "name": "python3"
  },
  "language_info": {
   "codemirror_mode": {
    "name": "ipython",
    "version": 3
   },
   "file_extension": ".py",
   "mimetype": "text/x-python",
   "name": "python",
   "nbconvert_exporter": "python",
   "pygments_lexer": "ipython3",
   "version": "3.9.7"
  }
 },
 "nbformat": 4,
 "nbformat_minor": 5
}
