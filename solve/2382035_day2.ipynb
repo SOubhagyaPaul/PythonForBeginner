{
 "cells": [
  {
   "cell_type": "code",
   "execution_count": 2,
   "id": "33d2bbd6",
   "metadata": {},
   "outputs": [
    {
     "name": "stdout",
     "output_type": "stream",
     "text": [
      "Enter the string : Never odd or even\n",
      "This is a palindrome.\n"
     ]
    }
   ],
   "source": [
    "#Check if a string is palindrome or not.\n",
    "s=input(\"Enter the string : \").replace(' ','').lower()\n",
    "s1=s[::-1]\n",
    "if s1==s:\n",
    "    print(\"This is a palindrome.\")\n",
    "else:\n",
    "    print(\"This is not a palindrome.\")"
   ]
  },
  {
   "cell_type": "code",
   "execution_count": 32,
   "id": "36096724",
   "metadata": {},
   "outputs": [
    {
     "name": "stdout",
     "output_type": "stream",
     "text": [
      "Enter the string: My yi MMM jsfd\n"
     ]
    },
    {
     "data": {
      "text/plain": [
       "['y', ' ', 'M', 'M', 'M', ' ']"
      ]
     },
     "execution_count": 32,
     "metadata": {},
     "output_type": "execute_result"
    }
   ],
   "source": [
    "#Find all duplicate characters in a string.\n",
    "\n",
    "s=input(\"Enter the string: \")\n",
    "a=[]\n",
    "for i in s:\n",
    "   a.append(i)\n",
    "unique=[]\n",
    "duplicate=[]\n",
    "for i in a:\n",
    "    if i not in unique:\n",
    "        unique.append(i)\n",
    "    else:\n",
    "        duplicate.append(i)\n",
    "duplicate"
   ]
  },
  {
   "cell_type": "code",
   "execution_count": 2,
   "id": "1e2ed921",
   "metadata": {},
   "outputs": [
    {
     "name": "stdout",
     "output_type": "stream",
     "text": [
      "Enter the string : hhhh aaaa d d dhehhh\n",
      "Enter the length : 3\n",
      "hhhh\n",
      "aaaa\n",
      "dhehhh\n"
     ]
    }
   ],
   "source": [
    "#Find words in a string which are greater than some given length k.\n",
    "s=input(\"Enter the string : \")\n",
    "n=int(input(\"Enter the length : \"))\n",
    "a=s.split()\n",
    "for i in a:\n",
    "    if len(i)>n:\n",
    "        print(i)"
   ]
  },
  {
   "cell_type": "code",
   "execution_count": 5,
   "id": "862fe5b5",
   "metadata": {},
   "outputs": [
    {
     "name": "stdout",
     "output_type": "stream",
     "text": [
      "Enter the name: aaa ddd ccc\n",
      "['aaa', 'ddd', 'ccc']\n",
      "a .d .ccc\n"
     ]
    }
   ],
   "source": [
    "#Format input names, given as strings, as follows\n",
    "name=input(\"Enter the name: \")\n",
    "a=name.split()\n",
    "print(a)\n",
    "l_name=a[-1]\n",
    "for i in range (len(a)-1):\n",
    "    print(a[i][0],\".\",end='')\n",
    "print(l_name)"
   ]
  },
  {
   "cell_type": "code",
   "execution_count": 20,
   "id": "6c2aadf0",
   "metadata": {},
   "outputs": [
    {
     "name": "stdout",
     "output_type": "stream",
     "text": [
      "Enter the string: MBA,BCA,BTECH,MCA\n",
      "['BCA', 'BTECH', 'MBA', 'MCA']\n"
     ]
    }
   ],
   "source": [
    "'''Accept a string of comma separated words as input and generate a string of comma\n",
    "separated words (from the input string) sorted alphabetically.'''\n",
    "\n",
    "s=input(\"Enter the string: \")\n",
    "s=s.split(',')\n",
    "print(sorted(s))"
   ]
  },
  {
   "cell_type": "code",
   "execution_count": 38,
   "id": "e44dd9c9",
   "metadata": {},
   "outputs": [
    {
     "name": "stdout",
     "output_type": "stream",
     "text": [
      "Enter comma separated 4-digit binary: 0100,0011,1101,1001\n",
      "not divisable\n",
      "divisable\n",
      "not divisable\n",
      "divisable\n"
     ]
    }
   ],
   "source": [
    "#Accept a string of comma separated 4-digit binary numbers as input and print a comma\n",
    "#separated string containing the numbers that are divisible by3.\n",
    "s=input(\"Enter comma separated 4-digit binary: \")\n",
    "s=s.split(',')\n",
    "for i in s:\n",
    "    decimal=int(i,2)\n",
    "    if(decimal%3)==0:\n",
    "        print(\"divisable\")\n",
    "    else:\n",
    "        print(\"not divisable\")\n",
    "    "
   ]
  },
  {
   "cell_type": "code",
   "execution_count": 36,
   "id": "f92b2816",
   "metadata": {},
   "outputs": [
    {
     "name": "stdout",
     "output_type": "stream",
     "text": [
      "Help on built-in function pow in module builtins:\n",
      "\n",
      "pow(base, exp, mod=None)\n",
      "    Equivalent to base**exp with 2 arguments or base**exp % mod with 3 arguments\n",
      "    \n",
      "    Some types, such as ints, are able to use a more efficient algorithm when\n",
      "    invoked using the three argument form.\n",
      "\n"
     ]
    }
   ],
   "source": [
    "help(pow)"
   ]
  },
  {
   "cell_type": "code",
   "execution_count": 7,
   "id": "88e9885e",
   "metadata": {},
   "outputs": [
    {
     "name": "stdout",
     "output_type": "stream",
     "text": [
      "The list is sorted in descending order .\n"
     ]
    }
   ],
   "source": [
    "#Check if the items in a list are sorted in ascending order, or descending order, or not sorted.\n",
    "lst=[12,5,3]\n",
    "if(lst == sorted(lst)):\n",
    "    print(\"The list is sorted in ascending .\")\n",
    "elif(lst == sorted(lst,reverse=True)):\n",
    "    print(\"The list is sorted in descending order .\")\n",
    "else:\n",
    "   print(\"not sorted.\")"
   ]
  },
  {
   "cell_type": "code",
   "execution_count": 41,
   "id": "a67d3825",
   "metadata": {},
   "outputs": [
    {
     "name": "stdout",
     "output_type": "stream",
     "text": [
      "Help on built-in function sorted in module builtins:\n",
      "\n",
      "sorted(iterable, /, *, key=None, reverse=False)\n",
      "    Return a new list containing all items from the iterable in ascending order.\n",
      "    \n",
      "    A custom key function can be supplied to customize the sort order, and the\n",
      "    reverse flag can be set to request the result in descending order.\n",
      "\n"
     ]
    }
   ],
   "source": [
    "help(sorted)"
   ]
  },
  {
   "cell_type": "code",
   "execution_count": 10,
   "id": "aed3e14f",
   "metadata": {},
   "outputs": [
    {
     "name": "stdout",
     "output_type": "stream",
     "text": [
      "Enter the N value to find n largest element: 6\n",
      "[12, 8, 5, 66, 1, 22]\n",
      "[1, 5, 8, 12, 22, 66]\n",
      "66\n"
     ]
    }
   ],
   "source": [
    "#Find N largest elements from a list.\n",
    "lst=[12,8,5,66,1,22]\n",
    "n=int(input(\"Enter the N value to find n largest element: \"))\n",
    "print(lst)\n",
    "lst1=sorted(lst)\n",
    "print(lst1)\n",
    "max=lst1[n-1]\n",
    "print(max)"
   ]
  },
  {
   "cell_type": "code",
   "execution_count": 12,
   "id": "8f792788",
   "metadata": {},
   "outputs": [
    {
     "name": "stdout",
     "output_type": "stream",
     "text": [
      "['BSC', 'MSC', 'BTECH', 'MTECH', 'BLIB', 'MLIB']\n",
      "Enter the element you want to bring last : BLIB\n",
      "None\n"
     ]
    },
    {
     "data": {
      "text/plain": [
       "['BSC', 'MSC', 'BTECH', 'MTECH', 'MLIB', 'BLIB']"
      ]
     },
     "execution_count": 12,
     "metadata": {},
     "output_type": "execute_result"
    }
   ],
   "source": [
    "#Move a specified element to the end of a list.\n",
    "lst=['BSC', 'MSC', 'BTECH', 'MTECH', 'BLIB', 'MLIB']\n",
    "print(lst)\n",
    "element=input(\"Enter the element you want to bring last : \")\n",
    "ind= lst.index(element)\n",
    "temp=lst.pop(ind)\n",
    "print(str(lst.append(temp)))\n",
    "lst"
   ]
  },
  {
   "cell_type": "code",
   "execution_count": 2,
   "id": "2af0e129",
   "metadata": {},
   "outputs": [
    {
     "name": "stdout",
     "output_type": "stream",
     "text": [
      "['__add__', '__class__', '__class_getitem__', '__contains__', '__delattr__', '__delitem__', '__dir__', '__doc__', '__eq__', '__format__', '__ge__', '__getattribute__', '__getitem__', '__gt__', '__hash__', '__iadd__', '__imul__', '__init__', '__init_subclass__', '__iter__', '__le__', '__len__', '__lt__', '__mul__', '__ne__', '__new__', '__reduce__', '__reduce_ex__', '__repr__', '__reversed__', '__rmul__', '__setattr__', '__setitem__', '__sizeof__', '__str__', '__subclasshook__', 'append', 'clear', 'copy', 'count', 'extend', 'index', 'insert', 'pop', 'remove', 'reverse', 'sort']\n"
     ]
    }
   ],
   "source": [
    "print(dir(list))"
   ]
  },
  {
   "cell_type": "code",
   "execution_count": 4,
   "id": "238fa5d3",
   "metadata": {},
   "outputs": [
    {
     "name": "stdout",
     "output_type": "stream",
     "text": [
      "Help on method_descriptor:\n",
      "\n",
      "pop(self, index=-1, /)\n",
      "    Remove and return item at index (default last).\n",
      "    \n",
      "    Raises IndexError if list is empty or index is out of range.\n",
      "\n"
     ]
    }
   ],
   "source": [
    "help(list.pop)"
   ]
  },
  {
   "cell_type": "code",
   "execution_count": 32,
   "id": "b02263e6",
   "metadata": {},
   "outputs": [
    {
     "data": {
      "text/plain": [
       "[3, 7, 8, 12]"
      ]
     },
     "execution_count": 32,
     "metadata": {},
     "output_type": "execute_result"
    }
   ],
   "source": [
    "#Sum the digits of individual elements in a list of numbers.\n",
    "lst=[21,34,35,66]\n",
    "output=[]\n",
    "for i in lst:\n",
    "    sum=0\n",
    "    temp=int(i)\n",
    "    while temp>0:\n",
    "        digit=int(temp%10)\n",
    "        sum=sum+digit\n",
    "        temp=temp/10\n",
    "    output.append(sum)\n",
    "output"
   ]
  },
  {
   "cell_type": "code",
   "execution_count": 26,
   "id": "a82ff9d2",
   "metadata": {},
   "outputs": [
    {
     "name": "stdout",
     "output_type": "stream",
     "text": [
      "Enter the string : banana\n",
      "['b', 'ba', 'ban', 'bana', 'banan', 'banana']\n"
     ]
    }
   ],
   "source": [
    "#11. Given a string, generate a list of nonempty prefixes of the string, ordered from shortest to longest.\n",
    "s=input(\"Enter the string : \")\n",
    "a=[]\n",
    "x=''\n",
    "for i in s:\n",
    "    x+=i\n",
    "    a.append(x)\n",
    "print(a)"
   ]
  },
  {
   "cell_type": "code",
   "execution_count": 28,
   "id": "443d0b0e",
   "metadata": {},
   "outputs": [
    {
     "data": {
      "text/plain": [
       "['program.c', 'stdio.h', 'sample.h', 'a.out', 'math.h', 'cpp.out']"
      ]
     },
     "execution_count": 28,
     "metadata": {},
     "output_type": "execute_result"
    }
   ],
   "source": [
    "#Given a list of filenames, generate a new list to rename all the files with extension ‘cpp’ to the extension ‘h’.\n",
    "\n",
    "lst=[\"program.c\", \"stdio.cpp\", \"sample.cpp\", \"a.out\", \"math.cpp\", \"cpp.out\"]\n",
    "lst2=[]\n",
    "for i in lst:\n",
    "    lst2.append(i.replace('.cpp','.h'))\n",
    "lst2"
   ]
  },
  {
   "cell_type": "code",
   "execution_count": 51,
   "id": "6a1933c9",
   "metadata": {},
   "outputs": [
    {
     "data": {
      "text/plain": [
       "['MCA1205', 'MCA2125', 'MCA1295']"
      ]
     },
     "execution_count": 51,
     "metadata": {},
     "output_type": "execute_result"
    }
   ],
   "source": [
    "#13. Given a list of courses, create a new list of courses that are offered by the department of\n",
    "#Computer Applications (i.e., courses that start with MCA]\n",
    "\n",
    "\n",
    "lst=[\"MCA1205\", \"MCA2125\", \"HUM2191\", \"MTH2102\", \"MCA1295\"]\n",
    "lst2=[]\n",
    "for i in lst:\n",
    "    if(i.startswith(\"MCA\")):\n",
    "        lst2.append(i)\n",
    "lst2\n"
   ]
  },
  {
   "cell_type": "code",
   "execution_count": 33,
   "id": "f915c91a",
   "metadata": {},
   "outputs": [
    {
     "name": "stdout",
     "output_type": "stream",
     "text": [
      "the list of 1st year students [2182001, 2182023, 2182049, 2182053]\n",
      "the list of 2nd year students [2282022, 2282056, 2282036]\n"
     ]
    }
   ],
   "source": [
    "#14. A list contains the roll nos. of students of MCA 1st and 2nd year who enrolled in the debate\n",
    "#club. The roll no. of the students is prefixed with the year (2 digits) of admission. From that\n",
    "#given list, create two separate lists for 1st year students and 2nd year students.\n",
    "# Sample Input: [2182001, 2182023, 2282022, 2282056, 2182049, 2282036, 2182053]\n",
    "# Output: [2182001, 2182023, 2182049, 2182053]\n",
    "# [2282022, 2282056, 2282036]\n",
    "\n",
    "roll= [2182001, 2182023, 2282022, 2282056, 2182049, 2282036, 2182053]\n",
    "roll_1st_yr=[]\n",
    "roll_2nd_yr=[]\n",
    "for i in roll:\n",
    "    if str(i).startswith(\"21\"):\n",
    "        roll_1st_yr.append(i)\n",
    "    elif str(i).startswith(\"22\"):\n",
    "        roll_2nd_yr.append(i)\n",
    "print(f\"the list of 1st year students {roll_1st_yr}\")\n",
    "print(f\"the list of 2nd year students {roll_2nd_yr}\")"
   ]
  },
  {
   "cell_type": "code",
   "execution_count": 34,
   "id": "05bbcc9f",
   "metadata": {},
   "outputs": [
    {
     "data": {
      "text/plain": [
       "['Sen', 'Chand', 'Juhuri', 'Das', 'Mudi']"
      ]
     },
     "execution_count": 34,
     "metadata": {},
     "output_type": "execute_result"
    }
   ],
   "source": [
    "# Given a list of names, generate a list where each element is the surname of the\n",
    "# corresponding element in the input list.\n",
    "# Sample Input: [‘A Prasad Sen’, ‘Ananth B Chand’, ’Heera Juhuri’, ’Tapasi Das’, ’Gambhir\n",
    "# Mudi’]\n",
    "# Output: [‘Sen’, ‘Chand’, ’Juhuri’, ‘Das’, ‘Mudi’]\n",
    "\n",
    "names= ['A Prasad Sen', 'Ananth B Chand', 'Heera Juhuri', 'Tapasi Das', 'Gambhir Mudi']\n",
    "lname=[]\n",
    "for name in names:\n",
    "    lname.append(name.split()[-1])\n",
    "lname"
   ]
  },
  {
   "cell_type": "code",
   "execution_count": 39,
   "id": "75f48753",
   "metadata": {},
   "outputs": [
    {
     "name": "stdout",
     "output_type": "stream",
     "text": [
      "Enter the chunk value you want to divide the list: 3\n"
     ]
    },
    {
     "data": {
      "text/plain": [
       "[[1, 2, 2], [3, 4, 4], [5, 6, 6], [77, 8, 8]]"
      ]
     },
     "execution_count": 39,
     "metadata": {},
     "output_type": "execute_result"
    }
   ],
   "source": [
    "# Break a list into chunks of size N.\n",
    "lst=[1,2,2,3,4,4,5,6,6,77,8,8]\n",
    "chunk=int(input(\"Enter the chunk value you want to divide the list: \"))\n",
    "x=[lst[i:i+chunk] for i in range(0,len(lst),chunk)]\n",
    "x"
   ]
  },
  {
   "cell_type": "code",
   "execution_count": 42,
   "id": "cde9eb2e",
   "metadata": {},
   "outputs": [
    {
     "data": {
      "text/plain": [
       "[[1, 2],\n",
       " [2, 2],\n",
       " [2, 3],\n",
       " [3, 4],\n",
       " [4, 4],\n",
       " [4, 5],\n",
       " [5, 6],\n",
       " [6, 6],\n",
       " [6, 77],\n",
       " [77, 8],\n",
       " [8, 8],\n",
       " [8]]"
      ]
     },
     "execution_count": 42,
     "metadata": {},
     "output_type": "execute_result"
    }
   ],
   "source": [
    "# Pair up consecutive elements of a given list.\n",
    "lst=[1,2,2,3,4,4,5,6,6,77,8,8]\n",
    "pair=[lst[i:i+2] for i in range(len(lst))]\n",
    "pair"
   ]
  },
  {
   "cell_type": "code",
   "execution_count": null,
   "id": "67922078",
   "metadata": {},
   "outputs": [],
   "source": []
  }
 ],
 "metadata": {
  "kernelspec": {
   "display_name": "Python 3 (ipykernel)",
   "language": "python",
   "name": "python3"
  },
  "language_info": {
   "codemirror_mode": {
    "name": "ipython",
    "version": 3
   },
   "file_extension": ".py",
   "mimetype": "text/x-python",
   "name": "python",
   "nbconvert_exporter": "python",
   "pygments_lexer": "ipython3",
   "version": "3.9.7"
  }
 },
 "nbformat": 4,
 "nbformat_minor": 5
}
