{
 "cells": [
  {
   "cell_type": "code",
   "execution_count": 4,
   "id": "3fac1a84",
   "metadata": {},
   "outputs": [
    {
     "name": "stdout",
     "output_type": "stream",
     "text": [
      "Enter 1st integer: 12\n",
      "Enter 2nd integer: 88\n",
      "the avarage value of 12 and 88 is 50.0\n",
      "the max value between 12 and 88 is 88\n"
     ]
    }
   ],
   "source": [
    "# i) Write a script that reads two integers, and prints the average of the two numbers.\n",
    "# ii) Modify 1.i) to print the larger of the two numbers.\n",
    "x=int(input(\"Enter 1st integer: \"))\n",
    "y=int(input(\"Enter 2nd integer: \"))\n",
    "avg=(x+y)/2\n",
    "print(f\"the avarage value of {x} and {y} is {avg}\")\n",
    "print(f\"the max value between {x} and {y} is {max(x,y)}\")"
   ]
  },
  {
   "cell_type": "code",
   "execution_count": 6,
   "id": "251e95a0",
   "metadata": {},
   "outputs": [
    {
     "name": "stdout",
     "output_type": "stream",
     "text": [
      "Enter 1st integer: 12.6\n",
      "Enter 2nd integer: 8.7\n",
      "Enter 3rd integer: 6.0\n",
      "the avarage value of 12.6 , 8.7 and 6.0 is 9.1\n",
      "the max value between 12.6, 8.7 and 6.0 is 12.6\n",
      "the min value between 12.6, 8.7 and 6.0 is 6.0\n"
     ]
    }
   ],
   "source": [
    "# Write a script that reads three floating point numbers, and does the \n",
    "# following: i) It prints the smallest and largest among the three.\n",
    "# ii) It prints the average of the three numbers up to 2 decimal places.\n",
    "x=float(input(\"Enter 1st integer: \"))\n",
    "y=float(input(\"Enter 2nd integer: \"))\n",
    "z=float(input(\"Enter 3rd integer: \"))\n",
    "avg=(x+y+z)/3\n",
    "print(f\"the avarage value of {x} , {y} and {z} is {round(avg,2)}\")\n",
    "print(f\"the max value between {x}, {y} and {z} is {max(x,y,z)}\")\n",
    "print(f\"the min value between {x}, {y} and {z} is {min(x,y,z)}\")"
   ]
  },
  {
   "cell_type": "code",
   "execution_count": 6,
   "id": "f90d3c98",
   "metadata": {},
   "outputs": [
    {
     "name": "stdout",
     "output_type": "stream",
     "text": [
      "Enter the marks of student :87\n",
      "Grade : B\n"
     ]
    }
   ],
   "source": [
    "#python program for grade system\n",
    "x=int(input(\"Enter the marks of student :\"))\n",
    "if x>=90 and x<=100:\n",
    "    print(f\"Grade : A\")\n",
    "elif x<=89 and x >=70:\n",
    "    print(f\"Grade : B\")\n",
    "elif x<=69 and x >=50:\n",
    "    print(f\"Grade : C\")\n",
    "else:\n",
    "    print(f\"Grade : F\")"
   ]
  },
  {
   "cell_type": "code",
   "execution_count": 9,
   "id": "d14ac0b6",
   "metadata": {},
   "outputs": [
    {
     "name": "stdout",
     "output_type": "stream",
     "text": [
      "Enter the year: 2024\n",
      "Leap year.\n"
     ]
    }
   ],
   "source": [
    "#Write a script that prompts the user to input a year and \n",
    "#determine whether that year is a leap year or not.\n",
    "\n",
    "year=int(input(\"Enter the year: \"))\n",
    "if year%400==0:\n",
    "    print(\"Leap year.\")\n",
    "elif year%100 ==0:\n",
    "    print(\"Not Leap year.\")\n",
    "elif year%4==0:\n",
    "    print(\"Leap year.\")\n",
    "else:\n",
    "    print(\"Leap year.\")"
   ]
  },
  {
   "cell_type": "code",
   "execution_count": 17,
   "id": "ebacb3cf",
   "metadata": {},
   "outputs": [
    {
     "name": "stdout",
     "output_type": "stream",
     "text": [
      "* * * * * \n",
      "* * * * * \n",
      "* * * * * \n",
      "* * * * * \n",
      "* * * * * \n"
     ]
    }
   ],
   "source": [
    "n=int(input(\"Enter the number of the rows: \"))\n",
    "i,j=0,0\n",
    "for i in range (n):\n",
    "    for j in range (n):\n",
    "        print(f\"*\" ,end=' ')\n",
    "    print()"
   ]
  },
  {
   "cell_type": "code",
   "execution_count": 19,
   "id": "304f2ede",
   "metadata": {},
   "outputs": [
    {
     "name": "stdout",
     "output_type": "stream",
     "text": [
      "Enter the number of the rows: 5\n",
      "*         \n",
      "* *       \n",
      "* * *     \n",
      "* * * *   \n",
      "* * * * * \n"
     ]
    }
   ],
   "source": [
    "#question 4i\n",
    "n=int(input(\"Enter the number of the rows: \"))\n",
    "x,y=0,0\n",
    "for x in range (n):\n",
    "    for y in range (n):\n",
    "        if x>=y:\n",
    "            print(\"*\", end=' ')\n",
    "        else:\n",
    "            print(\" \", end=' ')\n",
    "    print()"
   ]
  },
  {
   "cell_type": "code",
   "execution_count": 5,
   "id": "0397de50",
   "metadata": {},
   "outputs": [
    {
     "name": "stdout",
     "output_type": "stream",
     "text": [
      "Enter the number of the rows: 5\n",
      "* * * * * \n",
      "  * * * * \n",
      "    * * * \n",
      "      * * \n",
      "        * \n"
     ]
    }
   ],
   "source": [
    "#question 4 ii\n",
    "n=int(input(\"Enter the number of the rows: \"))\n",
    "x,y=0,0\n",
    "n=n-1\n",
    "for x in range (n+1):\n",
    "    for y in range (n+1):\n",
    "        if x<=y:\n",
    "            print(\"*\", end=' ')\n",
    "        else:\n",
    "            print(\" \", end=' ')\n",
    "    print()"
   ]
  },
  {
   "cell_type": "code",
   "execution_count": 32,
   "id": "487648c5",
   "metadata": {},
   "outputs": [
    {
     "name": "stdout",
     "output_type": "stream",
     "text": [
      "Enter the number of the rows: 5\n",
      "        * \n",
      "      * * \n",
      "    * * * \n",
      "  * * * * \n",
      "* * * * * \n"
     ]
    }
   ],
   "source": [
    "#question 4iv\n",
    "n=int(input(\"Enter the number of the rows: \"))\n",
    "x,y=0,0\n",
    "n=n-1\n",
    "for x in range (n+1):\n",
    "    for y in range (n+1):\n",
    "        if x+y>=n :\n",
    "            print(\"*\", end=' ')\n",
    "        else:\n",
    "            print(\" \", end=' ')\n",
    "    print()"
   ]
  },
  {
   "cell_type": "code",
   "execution_count": 38,
   "id": "c7d4d4d6",
   "metadata": {},
   "outputs": [
    {
     "name": "stdout",
     "output_type": "stream",
     "text": [
      "Enter the number of the rows: 5\n",
      "* * * * * \n",
      "* * * *   \n",
      "* * *     \n",
      "* *       \n",
      "*         \n"
     ]
    }
   ],
   "source": [
    "#question 4 iii\n",
    "n=int(input(\"Enter the number of the rows: \"))\n",
    "x,y=0,0\n",
    "n=n-1\n",
    "for x in range (n+1):\n",
    "    for y in range (n+1):\n",
    "        if x+y<=n :\n",
    "            print(\"*\", end=' ')\n",
    "        else:\n",
    "            print(\" \", end=' ')\n",
    "    print()"
   ]
  },
  {
   "cell_type": "code",
   "execution_count": 57,
   "id": "8e02b77a",
   "metadata": {},
   "outputs": [
    {
     "name": "stdout",
     "output_type": "stream",
     "text": [
      "Enter the number of the rows: 5\n",
      "* * * * * \n",
      "  * * *   \n",
      "    *     \n",
      "  * * *   \n",
      "* * * * * \n"
     ]
    }
   ],
   "source": [
    "#question 4 x\n",
    "n=int(input(\"Enter the number of the rows: \"))\n",
    "x,y=0,0\n",
    "n=(n-1)//2\n",
    "for x in range (2*n+1):\n",
    "    for y in range (2*n+1):\n",
    "        if (x<=y and x+y<=2*n) or (x+y>=2*n and x>=y):\n",
    "            print(\"*\", end=' ')\n",
    "        else:\n",
    "            print(\" \", end=' ')\n",
    "    print()\n",
    "\n"
   ]
  },
  {
   "cell_type": "code",
   "execution_count": 7,
   "id": "6c51defe",
   "metadata": {},
   "outputs": [
    {
     "name": "stdout",
     "output_type": "stream",
     "text": [
      "Enter the number of the rows: 10\n",
      "                * \n",
      "              * * \n",
      "            * * * \n",
      "          * * * * \n",
      "        * * * * * \n",
      "          * * * * \n",
      "            * * * \n",
      "              * * \n",
      "                * \n"
     ]
    }
   ],
   "source": [
    "n=int(input(\"Enter the number of the rows: \"))\n",
    "x,y=0,0\n",
    "n=(n-1)//2\n",
    "for x in range (2*n+1):\n",
    "    for y in range (2*n+1):\n",
    "        if (x<=y and x+y>=2*n) :\n",
    "            print(\"*\", end=' ')\n",
    "        else:\n",
    "            print(\" \", end=' ')\n",
    "    print()"
   ]
  },
  {
   "cell_type": "code",
   "execution_count": null,
   "id": "d83b269b",
   "metadata": {},
   "outputs": [],
   "source": []
  },
  {
   "cell_type": "code",
   "execution_count": null,
   "id": "d6188867",
   "metadata": {},
   "outputs": [],
   "source": []
  },
  {
   "cell_type": "code",
   "execution_count": 8,
   "id": "fc85bcd9",
   "metadata": {},
   "outputs": [
    {
     "name": "stdout",
     "output_type": "stream",
     "text": [
      "Enter the number of the rows: 7\n",
      "*             \n",
      "* *           \n",
      "* * *         \n",
      "* * * *       \n",
      "* * *         \n",
      "* *           \n",
      "*             \n"
     ]
    }
   ],
   "source": [
    "#question 4 v\n",
    "n=int(input(\"Enter the number of the rows: \"))\n",
    "x,y=0,0\n",
    "n=(n-1)//2\n",
    "for x in range (2*n+1):\n",
    "    for y in range (2*n+1):\n",
    "        if x>=y and x+y<=n*2:\n",
    "               print(\"*\", end=' ')\n",
    "        else:\n",
    "            print(\" \", end=' ')\n",
    "    print()\n",
    "            "
   ]
  },
  {
   "cell_type": "code",
   "execution_count": 10,
   "id": "e09dd487",
   "metadata": {},
   "outputs": [
    {
     "name": "stdout",
     "output_type": "stream",
     "text": [
      "Enter the number of the rows: 5\n",
      "        * \n",
      "      * * \n",
      "    * * * \n",
      "      * * \n",
      "        * \n"
     ]
    }
   ],
   "source": [
    "#question 4 vi\n",
    "n=int(input(\"Enter the number of the rows: \"))\n",
    "x,y=0,0\n",
    "n=(n-1)//2\n",
    "for x in range (2*n+1):\n",
    "    for y in range (2*n+1):\n",
    "        if x<=y and x+y>=n*2:\n",
    "               print(\"*\", end=' ')\n",
    "        else:\n",
    "            print(\" \", end=' ')\n",
    "    print()\n",
    "            "
   ]
  },
  {
   "cell_type": "code",
   "execution_count": 11,
   "id": "23d02319",
   "metadata": {},
   "outputs": [
    {
     "name": "stdout",
     "output_type": "stream",
     "text": [
      "Enter the number of the rows: 5\n",
      "* * * * * \n",
      "  * * *   \n",
      "    *     \n",
      "          \n",
      "          \n"
     ]
    }
   ],
   "source": [
    "#question 4 vii\n",
    "n=int(input(\"Enter the number of the rows: \"))\n",
    "x,y=0,0\n",
    "n=(n-1)//2\n",
    "for x in range (2*n+1):\n",
    "    for y in range (2*n+1):\n",
    "        if x<=y and x+y<=n*2:\n",
    "            print(\"*\", end=' ')\n",
    "        else:\n",
    "            print(\" \", end=' ')\n",
    "    print()"
   ]
  },
  {
   "cell_type": "code",
   "execution_count": 12,
   "id": "f1380441",
   "metadata": {},
   "outputs": [
    {
     "name": "stdout",
     "output_type": "stream",
     "text": [
      "Enter the number of the rows: 5\n",
      "          \n",
      "          \n",
      "    *     \n",
      "  * * *   \n",
      "* * * * * \n"
     ]
    }
   ],
   "source": [
    "#question 4 viii\n",
    "n=int(input(\"Enter the number of the rows: \"))\n",
    "x,y=0,0\n",
    "n=(n-1)//2\n",
    "for x in range (2*n+1):\n",
    "    for y in range (2*n+1):\n",
    "        if  x+y>=n*2 and x>=y:\n",
    "            print(\"*\", end=' ')\n",
    "        else:\n",
    "            print(\" \", end=' ')\n",
    "    print()"
   ]
  },
  {
   "cell_type": "code",
   "execution_count": 13,
   "id": "4be4d2a1",
   "metadata": {},
   "outputs": [
    {
     "name": "stdout",
     "output_type": "stream",
     "text": [
      "Enter the number of the rows: 5\n",
      "*       * \n",
      "* *   * * \n",
      "* * * * * \n",
      "* *   * * \n",
      "*       * \n"
     ]
    }
   ],
   "source": [
    "#question 4 ix\n",
    "n=int(input(\"Enter the number of the rows: \"))\n",
    "x,y=0,0\n",
    "n=(n-1)//2\n",
    "for x in range (2*n+1):\n",
    "    for y in range (2*n+1):\n",
    "        if (x>=y and x+y<=n*2) or (x<=y and x+y>=n*2) :\n",
    "               print(\"*\", end=' ')\n",
    "        else:\n",
    "            print(\" \", end=' ')\n",
    "    print()"
   ]
  },
  {
   "cell_type": "code",
   "execution_count": 14,
   "id": "a12e0805",
   "metadata": {},
   "outputs": [
    {
     "name": "stdout",
     "output_type": "stream",
     "text": [
      "Enter the number of the rows: 5\n",
      "* * * * * \n",
      "  * * *   \n",
      "    *     \n",
      "  * * *   \n",
      "* * * * * \n"
     ]
    }
   ],
   "source": [
    "#question 4 x\n",
    "n=int(input(\"Enter the number of the rows: \"))\n",
    "x,y=0,0\n",
    "n=(n-1)//2\n",
    "for x in range (2*n+1):\n",
    "    for y in range (2*n+1):\n",
    "        if (x<=y and x+y<=n*2)or ( x+y>=n*2 and x>=y):\n",
    "            print(\"*\", end=' ')\n",
    "        else:\n",
    "            print(\" \", end=' ')\n",
    "    print()"
   ]
  },
  {
   "cell_type": "code",
   "execution_count": 15,
   "id": "00f7036d",
   "metadata": {},
   "outputs": [
    {
     "name": "stdout",
     "output_type": "stream",
     "text": [
      "Enter the number of the rows: 5\n",
      "    *     \n",
      "  * * *   \n",
      "* * * * * \n",
      "  * * *   \n",
      "    *     \n"
     ]
    }
   ],
   "source": [
    "#question 4 xi\n",
    "n=int(input(\"Enter the number of the rows: \"))\n",
    "x,y=0,0\n",
    "n=(n-1)//2\n",
    "for x in range (2*n+1):\n",
    "    for y in range (2*n+1):\n",
    "        if x+y>=n and y-x<=n and x+y<=3*n and x-y<=n:\n",
    "            print(\"*\", end=' ')\n",
    "        else:\n",
    "            print(\" \", end=' ')\n",
    "    print()"
   ]
  },
  {
   "cell_type": "code",
   "execution_count": 9,
   "id": "19cb85ae",
   "metadata": {},
   "outputs": [
    {
     "name": "stdout",
     "output_type": "stream",
     "text": [
      "Enter the number of the rows: 10\n",
      "* * * * * * * * * \n",
      "* * * *   * * * * \n",
      "* * *       * * * \n",
      "* *           * * \n",
      "*               * \n",
      "* *           * * \n",
      "* * *       * * * \n",
      "* * * *   * * * * \n",
      "* * * * * * * * * \n"
     ]
    }
   ],
   "source": [
    "#question 4 xii\n",
    "n=int(input(\"Enter the number of the rows: \"))\n",
    "x,y=0,0\n",
    "n=(n-1)//2\n",
    "for x in range (2*n+1):\n",
    "    for y in range (2*n+1):\n",
    "        if not(x+y>n and y-x<n and x+y<3*n and x-y<n):\n",
    "            print(\"*\", end=' ')\n",
    "        else:\n",
    "            print(\" \", end=' ')\n",
    "    print()"
   ]
  },
  {
   "cell_type": "code",
   "execution_count": 10,
   "id": "d606ad02",
   "metadata": {},
   "outputs": [
    {
     "name": "stdout",
     "output_type": "stream",
     "text": [
      "Enter the number of the rows: 6\n",
      "*       * \n",
      "* *   * * \n",
      "* * * * * \n",
      "  * * *   \n",
      "    *     \n"
     ]
    }
   ],
   "source": [
    "n=int(input(\"Enter the number of the rows: \"))\n",
    "n=(n-1)//2\n",
    "x,y=0,0\n",
    "for x in range (2*n+1):\n",
    "    for y in range (2*n+1):\n",
    "        if (y<=x and y>=0 and x <=n) or(x-y<=n and x>=n and y<=n) or (x+y<=3*n and x>=n and y>=n) or (x<=n and y<=2*n and y+x>=2*n):\n",
    "            print(\"*\",end=' ')\n",
    "        else:\n",
    "            print(\" \", end=' ')\n",
    "    print()"
   ]
  },
  {
   "cell_type": "code",
   "execution_count": 11,
   "id": "ca143092",
   "metadata": {},
   "outputs": [
    {
     "name": "stdout",
     "output_type": "stream",
     "text": [
      "Enter the number of the rows: 7\n",
      "      *       \n",
      "      * *     \n",
      "      * * *   \n",
      "* * * * * * * \n",
      "  * * *       \n",
      "    * *       \n",
      "      *       \n"
     ]
    }
   ],
   "source": [
    "n=int(input(\"Enter the number of the rows: \"))\n",
    "n=(n-1)//2\n",
    "x,y=0,0\n",
    "for x in range (2*n+1):\n",
    "    for y in range (2*n+1):\n",
    "        if (y-x<=n and x<=n and y>=n) or (x>=n and x-y<=n and y<=n) :\n",
    "            print(\"*\",end=' ')\n",
    "        else:\n",
    "            print(\" \", end=' ')\n",
    "    print()"
   ]
  },
  {
   "cell_type": "code",
   "execution_count": 22,
   "id": "61b89a9c",
   "metadata": {},
   "outputs": [
    {
     "name": "stdout",
     "output_type": "stream",
     "text": [
      "Enter the number of the rows: 10\n",
      "        *         \n",
      "      * *         \n",
      "    * * *         \n",
      "  * * * *         \n",
      "* * * * * * * * * \n",
      "        * * * *   \n",
      "        * * *     \n",
      "        * *       \n",
      "        *         \n"
     ]
    }
   ],
   "source": [
    "n=int(input(\"Enter the number of the rows: \"))\n",
    "n=(n-1)//2\n",
    "x,y=0,0\n",
    "for x in range (2*n+1):\n",
    "    for y in range (2*n+1):\n",
    "        if (x+y>=n and x<=n and y<=n) or (x+y<=3*n and x>=n and y>=n):\n",
    "            print(\"*\",end=' ')\n",
    "        else:\n",
    "            print(\" \", end=' ')\n",
    "    print()"
   ]
  },
  {
   "cell_type": "code",
   "execution_count": 35,
   "id": "9743e75a",
   "metadata": {},
   "outputs": [
    {
     "name": "stdout",
     "output_type": "stream",
     "text": [
      "Enter the number of the rows: 10\n",
      "* * * * *       * \n",
      "  * * * *     * * \n",
      "    * * *   * * * \n",
      "      * * * * * * \n",
      "* * * * * * * * * \n",
      "* * *   * *       \n",
      "* *     * * *     \n",
      "*       * * * *   \n",
      "        * * * * * \n"
     ]
    }
   ],
   "source": [
    "n=int(input(\"Enter the number of the rows: \"))\n",
    "n=(n-1)//2\n",
    "x,y=0,0\n",
    "for x in range (2*n+1):\n",
    "    for y in range (2*n+1):\n",
    "        if (y>=x  and y<=n)or(x+y>=2*n and x<=n) or (y<=x and y>=n) or (x+y<2*n and x>=n):\n",
    "            print(\"*\",end=' ')\n",
    "        else:\n",
    "            print(\" \", end=' ')\n",
    "    print()"
   ]
  },
  {
   "cell_type": "code",
   "execution_count": null,
   "id": "26b02d78",
   "metadata": {},
   "outputs": [],
   "source": []
  }
 ],
 "metadata": {
  "kernelspec": {
   "display_name": "Python 3 (ipykernel)",
   "language": "python",
   "name": "python3"
  },
  "language_info": {
   "codemirror_mode": {
    "name": "ipython",
    "version": 3
   },
   "file_extension": ".py",
   "mimetype": "text/x-python",
   "name": "python",
   "nbconvert_exporter": "python",
   "pygments_lexer": "ipython3",
   "version": "3.9.7"
  }
 },
 "nbformat": 4,
 "nbformat_minor": 5
}
