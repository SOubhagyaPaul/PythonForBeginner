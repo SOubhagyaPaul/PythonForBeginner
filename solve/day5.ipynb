{
 "cells": [
  {
   "cell_type": "code",
   "execution_count": null,
   "id": "3f3dce71",
   "metadata": {},
   "outputs": [],
   "source": [
    "help(open)"
   ]
  },
  {
   "cell_type": "code",
   "execution_count": null,
   "id": "062c26bd",
   "metadata": {},
   "outputs": [],
   "source": [
    "#Write a Python script to copy a text file.\n",
    "f = open(\"cpyStudent.txt\", \"w\")\n",
    "f1=open(\"student.txt\",\"r\")\n",
    "for l in f1:\n",
    "    f.write(l)\n",
    "f = open(\"cpyStudent.txt\", \"r\")\n",
    "print(f.read())"
   ]
  },
  {
   "cell_type": "code",
   "execution_count": null,
   "id": "17fb9de0",
   "metadata": {},
   "outputs": [],
   "source": [
    "#Write a Python script to find number of characters, words and lines in a file.\n",
    "f1=open(\"student.txt\",\"r\")\n",
    "countLine=0\n",
    "countWord=0\n",
    "countChar=0\n",
    "for l in f1:\n",
    "    countLine+=1\n",
    "    countWord+= len(l.split())\n",
    "    countChar+=len(l)\n",
    "print(\"The line number is\",countLine,\"The word number is\",countWord,\"The char number is \",countChar)\n"
   ]
  },
  {
   "cell_type": "code",
   "execution_count": null,
   "id": "3af60f1b",
   "metadata": {},
   "outputs": [],
   "source": [
    "#Write a Python script to obtain the line number in a file in which a given word is present\n",
    "f1=open(\"student.txt\",\"r\")\n",
    "target=input(\"Enter the target word: \")\n",
    "countLine=0\n",
    "for l in f1:\n",
    "    countLine+=1\n",
    "    if target in l:\n",
    "        print(\"The line number is \",countLine)\n",
    "        break\n",
    "    "
   ]
  },
  {
   "cell_type": "code",
   "execution_count": null,
   "id": "1b67bf6b",
   "metadata": {},
   "outputs": [],
   "source": [
    "#Write a Python script to accept string/sentences from the user till the user enters “END”.\n",
    "#Save the data in a text file and then display only those sentences which begin with ‘T’. \n",
    "file=open(\"demo.txt\",'a')\n",
    "while(True):\n",
    "    lines=input(\"Enter the lines: \")\n",
    "    if 'END'==lines:\n",
    "        break\n",
    "    else:\n",
    "        file.write(lines)\n",
    "file=open(\"demo.txt\",'r')\n",
    "for i in file:\n",
    "    if i[0]==\"T\":\n",
    "        print(i)\n"
   ]
  },
  {
   "cell_type": "code",
   "execution_count": 1,
   "id": "50e120cd",
   "metadata": {},
   "outputs": [
    {
     "name": "stdout",
     "output_type": "stream",
     "text": [
      "Ramesh\n",
      "Jessica\n",
      "Jennifer\n"
     ]
    }
   ],
   "source": [
    "# The sample file student.txt contains one line for each student. The student’s name is the first\n",
    "# entry on each line, followed by some exam scores. The number of scores might be different\n",
    "# for each student. Using the text file student.txt, write a Python script that prints out the\n",
    "# names of students those have a total score more than 500.\n",
    "# def sumA(lst):\n",
    "#     sum=0\n",
    "#     for i in lst:\n",
    "#         sum+=i\n",
    "#     return sum\n",
    "\n",
    "file=open(\"student.txt\",\"r\")\n",
    "\n",
    "sname=''\n",
    "for line in file:\n",
    "    data=line.split()\n",
    "    sname=data[0]\n",
    "    marks=[int(mark)for mark in data[1:]]\n",
    "    if sum(marks)>500:\n",
    "        print(sname)"
   ]
  },
  {
   "cell_type": "code",
   "execution_count": 8,
   "id": "a663ad6b",
   "metadata": {},
   "outputs": [
    {
     "name": "stdout",
     "output_type": "stream",
     "text": [
      "Enter filename:input.txt\n",
      "Enter the new file name: output.txt\n"
     ]
    }
   ],
   "source": [
    "#Write a Python script that reads lines from a file, adds line numbers to them, and then\n",
    "# stores the numbered lines into a new file. The name of the input file and also the new file\n",
    "# will be read from the user. Each line in the output file should begin with the line number,\n",
    "# followed by a colon and a space, followed by the line from the inputfile.\n",
    "directory = \"C:\\\\Users\\\\Admin\\\\2382035\\\\\"\n",
    "filepath = directory + input(\"Enter filename:\")\n",
    "nfilepath=directory+input(\"Enter the new file name: \")\n",
    "file=open(filepath,'w')\n",
    "file2=open(nfilepath,'w')\n",
    "file.write(\"Import moduleGet source file name Get destination file name Rename source file.\\n\")\n",
    "file.write(\"directory to the destination specified Return a new instance of the Path to the destination.\\n\")\n",
    "file.write(\"On Unix, if the target exists and the user has permission, it will be replaced.\\n\")\n",
    "file=open(filepath,'r')\n",
    "countL=0\n",
    "for line in file:\n",
    "    countL+=1\n",
    "    file2.write(str(countL)+\": \"+line)\n",
    "    "
   ]
  },
  {
   "cell_type": "code",
   "execution_count": 3,
   "id": "2917cf07",
   "metadata": {},
   "outputs": [
    {
     "name": "stdout",
     "output_type": "stream",
     "text": [
      "The maximun number of len of a word: 13\n",
      "soubhagyapaul\n",
      "ouubsdbkjbskd\n"
     ]
    }
   ],
   "source": [
    "# Write a Python script that identifies the longest word(s) in a file and output a message that\n",
    "# includes the length of the longest word, along with all the words of that length that\n",
    "# occurred in the file.\n",
    "file=open(\"input.txt\",'r')\n",
    "word=[]\n",
    "wordlen=0\n",
    "for line in file:\n",
    "    word+=line.split()\n",
    "    for i in word:\n",
    "        temp=len(i)\n",
    "        if temp>wordlen:\n",
    "            wordlen=temp\n",
    "print(\"The maximun number of len of a word:\",wordlen)\n",
    "for j in word:\n",
    "    if len(j)==wordlen:\n",
    "        print(j)"
   ]
  },
  {
   "cell_type": "code",
   "execution_count": null,
   "id": "957c62b8",
   "metadata": {},
   "outputs": [],
   "source": []
  }
 ],
 "metadata": {
  "kernelspec": {
   "display_name": "Python 3 (ipykernel)",
   "language": "python",
   "name": "python3"
  },
  "language_info": {
   "codemirror_mode": {
    "name": "ipython",
    "version": 3
   },
   "file_extension": ".py",
   "mimetype": "text/x-python",
   "name": "python",
   "nbconvert_exporter": "python",
   "pygments_lexer": "ipython3",
   "version": "3.9.7"
  }
 },
 "nbformat": 4,
 "nbformat_minor": 5
}
