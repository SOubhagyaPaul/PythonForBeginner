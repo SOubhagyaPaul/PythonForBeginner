{
 "cells": [
  {
   "cell_type": "code",
   "execution_count": 10,
   "id": "ee4d2782",
   "metadata": {},
   "outputs": [
    {
     "data": {
      "text/plain": [
       "'12:python'"
      ]
     },
     "execution_count": 10,
     "metadata": {},
     "output_type": "execute_result"
    }
   ],
   "source": [
    "#Write a function attached() that takes three parameters, the first an integer (required\n",
    "#parameter), the second a string (required parameter), and the third an optional parameter\n",
    "#whose default vale is “:”. Returned value will be the first parameter, concatenated with the\n",
    "#second, using the third.\n",
    "def attached(x,y,z=\":\"):\n",
    "    return str(x)+z+y\n",
    "attached(12,'python')\n",
    "    "
   ]
  },
  {
   "cell_type": "code",
   "execution_count": 15,
   "id": "d74c39ed",
   "metadata": {},
   "outputs": [
    {
     "name": "stdout",
     "output_type": "stream",
     "text": [
      "20\n",
      "-20\n"
     ]
    }
   ],
   "source": [
    "#Give an implementation of a function called nums() that has three parameters, the first, an\n",
    "#integer, is required, the second parameter multInt, an integer, is optional with a default value of\n",
    "#10, the final parameter switch, is also optional with a default value of False. The function should\n",
    "#multiply the two integers together, and if switch is True, should change the sign of the product\n",
    "#before returningit.\n",
    "def nums(x:int,mulInt=10,switch=False):\n",
    "    result=x*mulInt\n",
    "    if(switch):\n",
    "        return -result\n",
    "    else:\n",
    "        return result\n",
    "print(nums(2))\n",
    "print(nums(2,switch=True))"
   ]
  },
  {
   "cell_type": "code",
   "execution_count": null,
   "id": "561095a2",
   "metadata": {},
   "outputs": [],
   "source": [
    "#The p-norm of a vector v = (v1, v2, …, vn) in n-dimensional space is defined as \n",
    "#For the special case of p = 2, this results in the traditional Euclidean norm, which represents the\n",
    "#length of the vector. For example, a two-dimensional vector with coordinates (4,3) has a\n",
    "#Euclidean norm of √(4^2+3^2)= 5 . Give an implementation of a function named norm() such that\n",
    "#norm(v, p) returns the p-norm value of v and norm(v) returns the Euclidean norm of v. \n"
   ]
  },
  {
   "cell_type": "code",
   "execution_count": 27,
   "id": "6ac449ba",
   "metadata": {},
   "outputs": [
    {
     "data": {
      "text/plain": [
       "5.0"
      ]
     },
     "execution_count": 27,
     "metadata": {},
     "output_type": "execute_result"
    }
   ],
   "source": [
    "import math\n",
    "def calc(V,p=2):\n",
    "    return sum(v**p for v in V )**(1/p)\n",
    "V=[4,3]\n",
    "calc(V)"
   ]
  },
  {
   "cell_type": "code",
   "execution_count": 30,
   "id": "50152f5a",
   "metadata": {},
   "outputs": [
    {
     "data": {
      "text/plain": [
       "[10, 9]"
      ]
     },
     "execution_count": 30,
     "metadata": {},
     "output_type": "execute_result"
    }
   ],
   "source": [
    "#Define a function to return a tuple containing a pair, the sum of all the even integers and odd\n",
    "#integers respectively, in a list of integers passed as anargument to the function\n",
    "def func(lst):\n",
    "    res_lst=[]\n",
    "    sumEven,sumOdd=0,0\n",
    "    for i in lst:\n",
    "        if i%2==0:\n",
    "            sumEven+=i\n",
    "        else:\n",
    "            sumOdd+=i\n",
    "    res_lst.append(sumEven)\n",
    "    res_lst.append(sumOdd)\n",
    "    return res_lst\n",
    "lst=[1,2,3,5,8]\n",
    "func(lst)"
   ]
  },
  {
   "cell_type": "code",
   "execution_count": 33,
   "id": "dc57e569",
   "metadata": {},
   "outputs": [
    {
     "data": {
      "text/plain": [
       "[1, 2, 3, 5, 8]"
      ]
     },
     "execution_count": 33,
     "metadata": {},
     "output_type": "execute_result"
    }
   ],
   "source": [
    "#Write a function that accepts a list and returns a new list with unique elements of that list\n",
    "def uniquelst(lst):\n",
    "    s=(set)(lst)\n",
    "    return list(s)\n",
    "    \n",
    "lst=[1,2,3,5,8,8,5]\n",
    "uniquelst(lst)"
   ]
  },
  {
   "cell_type": "code",
   "execution_count": 37,
   "id": "17d9b2a2",
   "metadata": {},
   "outputs": [
    {
     "data": {
      "text/plain": [
       "['19', '3478', '9817', '96', '9005', '84', '23', '12', '781', '150']"
      ]
     },
     "execution_count": 37,
     "metadata": {},
     "output_type": "execute_result"
    }
   ],
   "source": [
    "#Write a function lastChar() that takes a string as input, and returns only its last character. Use\n",
    "#this function to sort list of strings by the last character of each string, from highest to lowest.\n",
    "s=['150', '23', '781', '19', '3478', '12', '9005', '84', '9817', '96']\n",
    "result_lst= sorted(s, key=lambda x: x[-1], reverse=True)\n",
    "result_lst\n"
   ]
  },
  {
   "cell_type": "code",
   "execution_count": 47,
   "id": "e8a473db",
   "metadata": {},
   "outputs": [
    {
     "data": {
      "text/plain": [
       "[-2, 4, -5, -7, -9]"
      ]
     },
     "execution_count": 47,
     "metadata": {},
     "output_type": "execute_result"
    }
   ],
   "source": [
    "#Sort a list of numbers based on their absolute values, writing your own function for calculating\n",
    "#absolute value of a number and (i) using it in sorted() without lambda, (ii) using it in sorted()\n",
    "#with lambda.\n",
    "def my_abs(n):\n",
    "    if (n < 0):\n",
    "        n = (-1) * n;\n",
    "        return n\n",
    "    else: return n\n",
    "n=[-5, -7, 4, -2, -9]\n",
    "sort_lst=sorted(n,key=my_abs)\n",
    "sort_lst"
   ]
  },
  {
   "cell_type": "code",
   "execution_count": 50,
   "id": "b8d22dca",
   "metadata": {},
   "outputs": [
    {
     "data": {
      "text/plain": [
       "[-2, 4, -5, -7, -9]"
      ]
     },
     "execution_count": 50,
     "metadata": {},
     "output_type": "execute_result"
    }
   ],
   "source": [
    "#ii\n",
    "n=[-5, -7, 4, -2, -9]\n",
    "sort_lst=sorted(n,key= lambda n:(-1)*n if n<0 else n )\n",
    "sort_lst"
   ]
  },
  {
   "cell_type": "code",
   "execution_count": 67,
   "id": "b5e5a9e6",
   "metadata": {},
   "outputs": [
    {
     "data": {
      "text/plain": [
       "['bca', 'dsc', 'mca', 'btech', 'mtech', 'diploma']"
      ]
     },
     "execution_count": 67,
     "metadata": {},
     "output_type": "execute_result"
    }
   ],
   "source": [
    "#Sort a list of words first by their length, smallest to largest, and then alphabetically to break ties\n",
    "#among words of the same length (using sorted() and lambda)\n",
    "s=['mtech', 'btech', 'mca', 'bca', 'diploma', 'dsc']\n",
    "s_lst=sorted(s,key=lambda x:(len(x),x))\n",
    "\n",
    "s_lst"
   ]
  },
  {
   "cell_type": "code",
   "execution_count": 44,
   "id": "a94355f2",
   "metadata": {},
   "outputs": [
    {
     "name": "stdout",
     "output_type": "stream",
     "text": [
      " sort the states in order by the first city name ['West Bengal', 'Maharastra', 'Kerala']\n",
      "sort the states by the length of the second city name, break ties of equal length by name of the second cities: ['Maharastra', 'West Bengal', 'Kerala']\n"
     ]
    }
   ],
   "source": [
    "# Given a dictionary as stated in the sample input,\n",
    "# (i) sort the states in order by the first city name. (Sample Output: ['West Bengal', 'Maharastra', 'Kerala'])\n",
    "# (ii) sort the states by the length of the second city name, break ties of equal length by name of the second cities.\n",
    "# (Sample Output: ['Maharastra', 'West Bengal', 'Kerala'])\n",
    "# (iii) sort the states in order by the number of cities having length greater than 6. \n",
    "# (Sample Output: ['Maharastra', 'Kerala', 'West Bengal'])\n",
    "\n",
    "# Sample Input: {\"Kerala\": [\"Kannur\", \"Palakkad\", \"Thalassery\"],\n",
    "# \"Maharastra\": [\"Bhandara\", \"Nagpur\", \"Wardha\"],\n",
    "# \"West Bengal\": [\"Asansol\", \"Basirhat\", \"Bardhaman\"]}\n",
    "\n",
    "state_dict={\"Kerala\": [\"Kannur\", \"Palakkad\", \"Thalassery\"],\n",
    "        \"Maharastra\": [\"Bhandara\", \"Nagpur\", \"Wardha\"],\n",
    "        \"West Bengal\": [\"Asansol\", \"Basirhat\", \"Bardhaman\"]}\n",
    "res1=list(sorted(state_dict.keys(),key=lambda city: state_dict[city][0]))\n",
    "\n",
    "res2=list(sorted(state_dict.keys(),key=lambda city: (len(state_dict[city][1]),state_dict[city][1])))\n",
    "\n",
    "print(f\" sort the states in order by the first city name {res1}\")\n",
    "print(f\"sort the states by the length of the second city name, break ties of equal length by name of the second cities: {res2}\")"
   ]
  },
  {
   "cell_type": "code",
   "execution_count": 57,
   "id": "cbde6fed",
   "metadata": {},
   "outputs": [
    {
     "data": {
      "text/plain": [
       "'a'"
      ]
     },
     "execution_count": 57,
     "metadata": {},
     "output_type": "execute_result"
    }
   ],
   "source": [
    "# Write a function that takes a string as a parameter and returns a list of the five most frequent characters in the string.\n",
    "def foo(s):\n",
    "    f_dict={}\n",
    "    for i in s:\n",
    "        \n",
    "        if i not in f_dict:\n",
    "            f_dict[i]=1\n",
    "        else:\n",
    "            f_dict[i]=f_dict[i]+1\n",
    "    return(max(f_dict,key=f_dict.get))\n",
    "s='raaam'\n",
    "foo(s)"
   ]
  },
  {
   "cell_type": "code",
   "execution_count": 60,
   "id": "085341bd",
   "metadata": {},
   "outputs": [
    {
     "data": {
      "text/plain": [
       "[20229000, 20220002, 20223005, 20229329, 20222342, 20222345]"
      ]
     },
     "execution_count": 60,
     "metadata": {},
     "output_type": "execute_result"
    }
   ],
   "source": [
    "# Sort a list of roll numbers by the last three digits of the roll number.\n",
    "# Sample Input: [20223005, 20222342, 20229000, 20220002, 20222345, 20229329]\n",
    "# Output: [20229000, 20220002, 20223005, 20229329, 20222342, 20222345]\n",
    "\n",
    "roll=[20223005, 20222342, 20229000, 20220002, 20222345, 20229329]\n",
    "res=list(sorted(roll,key= lambda i :str(i)[-3:]))\n",
    "res"
   ]
  },
  {
   "cell_type": "code",
   "execution_count": 66,
   "id": "bf7a437b",
   "metadata": {},
   "outputs": [
    {
     "data": {
      "text/plain": [
       "['Alain Aspect', 'Ales Bialiatski', 'Douglas Diamond', 'Anton Zeilinger']"
      ]
     },
     "execution_count": 66,
     "metadata": {},
     "output_type": "execute_result"
    }
   ],
   "source": [
    "# Sort a list of names alphabetically by last name.\n",
    "# Sample Input: ['Ales Bialiatski', 'Alain Aspect', 'Anton Zeilinger', 'Douglas Diamond']\n",
    "# Output: ['Alain Aspect', 'Ales Bialiatski', 'Douglas Diamond', 'Anton Zeilinger']\n",
    "\n",
    "name=['Ales Bialiatski', 'Alain Aspect', 'Anton Zeilinger', 'Douglas Diamond']\n",
    "res=list(sorted(name,key=lambda x:  x.split()[-1]))\n",
    "res"
   ]
  },
  {
   "cell_type": "code",
   "execution_count": null,
   "id": "b6d86e96",
   "metadata": {},
   "outputs": [],
   "source": []
  }
 ],
 "metadata": {
  "kernelspec": {
   "display_name": "Python 3 (ipykernel)",
   "language": "python",
   "name": "python3"
  },
  "language_info": {
   "codemirror_mode": {
    "name": "ipython",
    "version": 3
   },
   "file_extension": ".py",
   "mimetype": "text/x-python",
   "name": "python",
   "nbconvert_exporter": "python",
   "pygments_lexer": "ipython3",
   "version": "3.9.7"
  }
 },
 "nbformat": 4,
 "nbformat_minor": 5
}
