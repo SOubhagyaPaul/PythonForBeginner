{
 "cells": [
  {
   "cell_type": "code",
   "execution_count": 43,
   "id": "780c0d27",
   "metadata": {},
   "outputs": [
    {
     "name": "stdout",
     "output_type": "stream",
     "text": [
      "        A \n",
      "      B B B \n",
      "    C C C C C \n",
      "  D D D D D D D \n",
      "E E E E E E E E E \n"
     ]
    }
   ],
   "source": [
    "size = 5\n",
    "asciiNumber = 65\n",
    "m = (size*2)-2\n",
    "for i in range(0, size):\n",
    "    for j in range(0, m):\n",
    "        print(end=\" \")\n",
    "    m = m-2\n",
    "    for j in range(0, (i*2) + 1):\n",
    "        character = chr(asciiNumber)\n",
    "        print(character, end=' ')\n",
    "    asciiNumber += 1\n",
    "    print()"
   ]
  },
  {
   "cell_type": "code",
   "execution_count": 58,
   "id": "7e416886",
   "metadata": {},
   "outputs": [
    {
     "name": "stdout",
     "output_type": "stream",
     "text": [
      "        A \n",
      "      B C D \n",
      "    C D E F G \n",
      "  D E F G H I J \n",
      "E F G H I J K L M \n"
     ]
    }
   ],
   "source": [
    "size = 5\n",
    "asciiNumber = 65\n",
    "count=0\n",
    "m = (size*2)-2\n",
    "for i in range(0, size):\n",
    "    for j in range(0, m):\n",
    "        print(\" \",end=\"\")\n",
    "    m = m-2\n",
    "    for j in range(0, (i*2) + 1):\n",
    "        character = chr(asciiNumber)\n",
    "        print(character, end=' ')\n",
    "        count+=1\n",
    "        asciiNumber += 1\n",
    "    asciiNumber=asciiNumber-count+1\n",
    "    count=0\n",
    "    print()"
   ]
  },
  {
   "cell_type": "code",
   "execution_count": 2,
   "id": "07e18547",
   "metadata": {},
   "outputs": [
    {
     "name": "stdout",
     "output_type": "stream",
     "text": [
      "        A \n",
      "      A B A \n",
      "    A B C B A \n",
      "  A B C D C B A \n",
      "A B C D E D C B A \n"
     ]
    }
   ],
   "source": [
    "size = 5\n",
    "asciiNumber = 65\n",
    "count=0\n",
    "m = (size*2)-2\n",
    "for i in range(0, size):\n",
    "    for j in range(0, m):\n",
    "        print(\" \",end=\"\")\n",
    "    m = m-2\n",
    "    for j in range(i + 1):\n",
    "        print(chr(asciiNumber + j), end=\" \")\n",
    "        \n",
    "    for j in range(i - 1, -1, -1):\n",
    "        print(chr(asciiNumber + j), end=\" \")\n",
    "    \n",
    "    print()"
   ]
  },
  {
   "cell_type": "code",
   "execution_count": 8,
   "id": "fe741dab",
   "metadata": {},
   "outputs": [
    {
     "name": "stdout",
     "output_type": "stream",
     "text": [
      "        E \n",
      "      E D E \n",
      "    E D C D E \n",
      "  E D C B C D E \n",
      "E D C B A B C D E \n"
     ]
    }
   ],
   "source": [
    "size = 5\n",
    "asciiNumber = 69\n",
    "count=0\n",
    "m = (size*2)-2\n",
    "for i in range(0, size):\n",
    "    for j in range(0, m):\n",
    "        print(\" \",end=\"\")\n",
    "    m = m-2\n",
    "    for j in range(i+1):\n",
    "        print(chr(asciiNumber - j), end=\" \")\n",
    "    for j in range(i - 1, -1, -1):\n",
    "        print(chr(asciiNumber - j), end=\" \")\n",
    "    print()"
   ]
  },
  {
   "cell_type": "code",
   "execution_count": 11,
   "id": "34939963",
   "metadata": {},
   "outputs": [
    {
     "data": {
      "text/html": [
       "<div>\n",
       "<style scoped>\n",
       "    .dataframe tbody tr th:only-of-type {\n",
       "        vertical-align: middle;\n",
       "    }\n",
       "\n",
       "    .dataframe tbody tr th {\n",
       "        vertical-align: top;\n",
       "    }\n",
       "\n",
       "    .dataframe thead th {\n",
       "        text-align: right;\n",
       "    }\n",
       "</style>\n",
       "<table border=\"1\" class=\"dataframe\">\n",
       "  <thead>\n",
       "    <tr style=\"text-align: right;\">\n",
       "      <th></th>\n",
       "      <th>roll</th>\n",
       "      <th>marks</th>\n",
       "    </tr>\n",
       "  </thead>\n",
       "  <tbody>\n",
       "    <tr>\n",
       "      <th>0</th>\n",
       "      <td>1</td>\n",
       "      <td>25</td>\n",
       "    </tr>\n",
       "    <tr>\n",
       "      <th>1</th>\n",
       "      <td>2</td>\n",
       "      <td>25</td>\n",
       "    </tr>\n",
       "    <tr>\n",
       "      <th>2</th>\n",
       "      <td>3</td>\n",
       "      <td>20</td>\n",
       "    </tr>\n",
       "    <tr>\n",
       "      <th>3</th>\n",
       "      <td>4</td>\n",
       "      <td>26</td>\n",
       "    </tr>\n",
       "    <tr>\n",
       "      <th>4</th>\n",
       "      <td>5</td>\n",
       "      <td>38</td>\n",
       "    </tr>\n",
       "    <tr>\n",
       "      <th>5</th>\n",
       "      <td>6</td>\n",
       "      <td>32</td>\n",
       "    </tr>\n",
       "    <tr>\n",
       "      <th>6</th>\n",
       "      <td>7</td>\n",
       "      <td>36</td>\n",
       "    </tr>\n",
       "    <tr>\n",
       "      <th>7</th>\n",
       "      <td>8</td>\n",
       "      <td>32</td>\n",
       "    </tr>\n",
       "    <tr>\n",
       "      <th>8</th>\n",
       "      <td>9</td>\n",
       "      <td>19</td>\n",
       "    </tr>\n",
       "    <tr>\n",
       "      <th>9</th>\n",
       "      <td>10</td>\n",
       "      <td>23</td>\n",
       "    </tr>\n",
       "    <tr>\n",
       "      <th>10</th>\n",
       "      <td>11</td>\n",
       "      <td>25</td>\n",
       "    </tr>\n",
       "    <tr>\n",
       "      <th>11</th>\n",
       "      <td>12</td>\n",
       "      <td>32</td>\n",
       "    </tr>\n",
       "  </tbody>\n",
       "</table>\n",
       "</div>"
      ],
      "text/plain": [
       "    roll  marks\n",
       "0      1     25\n",
       "1      2     25\n",
       "2      3     20\n",
       "3      4     26\n",
       "4      5     38\n",
       "5      6     32\n",
       "6      7     36\n",
       "7      8     32\n",
       "8      9     19\n",
       "9     10     23\n",
       "10    11     25\n",
       "11    12     32"
      ]
     },
     "execution_count": 11,
     "metadata": {},
     "output_type": "execute_result"
    }
   ],
   "source": [
    "# students = {\n",
    "# 'roll' : [1, 2, 3, 4, 5, 6, 7, 8, 9, 10, 11, 12],\n",
    "# 'marks' : [25, 25, 20, 26, 38, 32, 36, 32, 19, 23, 25, 32]\n",
    "# }\n",
    "# (i) Load the dictionary in a Pandas DataFrame.\n",
    "# (ii) Find the maximum and minimum marks.\n",
    "# (iii) Find the average marks and how many students scored more than the average\n",
    "# marks. Also find the students scoring those marks.\n",
    "# (iv) Find the most common marks scored by students. And also find the students\n",
    "# scoring those marks.\n",
    "# (v) Find the three maximum marks in the dataset and the students scoring those\n",
    "# marks.\n",
    "import pandas as pd\n",
    "students = {\n",
    "'roll' : [1, 2, 3, 4, 5, 6, 7, 8, 9, 10, 11, 12],\n",
    "'marks' : [25, 25, 20, 26, 38, 32, 36, 32, 19, 23, 25, 32]\n",
    "}\n",
    "\n",
    "df=pd.DataFrame(students)\n",
    "df"
   ]
  },
  {
   "cell_type": "code",
   "execution_count": 18,
   "id": "2b1129d4",
   "metadata": {},
   "outputs": [
    {
     "data": {
      "text/plain": [
       "38"
      ]
     },
     "execution_count": 18,
     "metadata": {},
     "output_type": "execute_result"
    }
   ],
   "source": [
    "df['marks'].max()"
   ]
  },
  {
   "cell_type": "code",
   "execution_count": 19,
   "id": "06dd13e1",
   "metadata": {},
   "outputs": [
    {
     "data": {
      "text/plain": [
       "19"
      ]
     },
     "execution_count": 19,
     "metadata": {},
     "output_type": "execute_result"
    }
   ],
   "source": [
    "df['marks'].min()"
   ]
  },
  {
   "cell_type": "code",
   "execution_count": 35,
   "id": "fa24bf2f",
   "metadata": {},
   "outputs": [
    {
     "name": "stdout",
     "output_type": "stream",
     "text": [
      "the avg mmarks is: 27.75\n",
      "The number of student scored above avg is 5\n",
      "The list of the student scored above avg\n"
     ]
    },
    {
     "data": {
      "text/html": [
       "<div>\n",
       "<style scoped>\n",
       "    .dataframe tbody tr th:only-of-type {\n",
       "        vertical-align: middle;\n",
       "    }\n",
       "\n",
       "    .dataframe tbody tr th {\n",
       "        vertical-align: top;\n",
       "    }\n",
       "\n",
       "    .dataframe thead th {\n",
       "        text-align: right;\n",
       "    }\n",
       "</style>\n",
       "<table border=\"1\" class=\"dataframe\">\n",
       "  <thead>\n",
       "    <tr style=\"text-align: right;\">\n",
       "      <th></th>\n",
       "      <th>roll</th>\n",
       "      <th>marks</th>\n",
       "    </tr>\n",
       "  </thead>\n",
       "  <tbody>\n",
       "    <tr>\n",
       "      <th>4</th>\n",
       "      <td>5</td>\n",
       "      <td>38</td>\n",
       "    </tr>\n",
       "    <tr>\n",
       "      <th>5</th>\n",
       "      <td>6</td>\n",
       "      <td>32</td>\n",
       "    </tr>\n",
       "    <tr>\n",
       "      <th>6</th>\n",
       "      <td>7</td>\n",
       "      <td>36</td>\n",
       "    </tr>\n",
       "    <tr>\n",
       "      <th>7</th>\n",
       "      <td>8</td>\n",
       "      <td>32</td>\n",
       "    </tr>\n",
       "    <tr>\n",
       "      <th>11</th>\n",
       "      <td>12</td>\n",
       "      <td>32</td>\n",
       "    </tr>\n",
       "  </tbody>\n",
       "</table>\n",
       "</div>"
      ],
      "text/plain": [
       "    roll  marks\n",
       "4      5     38\n",
       "5      6     32\n",
       "6      7     36\n",
       "7      8     32\n",
       "11    12     32"
      ]
     },
     "execution_count": 35,
     "metadata": {},
     "output_type": "execute_result"
    }
   ],
   "source": [
    "avg = df['marks'].mean()\n",
    "print(f\"the avg mmarks is: {avg}\")\n",
    "count=df[df['marks']>avg].shape[0]\n",
    "print(f\"The number of student scored above avg is {count}\")\n",
    "print(\"The list of the student scored above avg\")\n",
    "above_avg = df[df['marks'] > avg]\n",
    "above_avg"
   ]
  },
  {
   "cell_type": "code",
   "execution_count": 44,
   "id": "f242981f",
   "metadata": {},
   "outputs": [
    {
     "data": {
      "text/html": [
       "<div>\n",
       "<style scoped>\n",
       "    .dataframe tbody tr th:only-of-type {\n",
       "        vertical-align: middle;\n",
       "    }\n",
       "\n",
       "    .dataframe tbody tr th {\n",
       "        vertical-align: top;\n",
       "    }\n",
       "\n",
       "    .dataframe thead th {\n",
       "        text-align: right;\n",
       "    }\n",
       "</style>\n",
       "<table border=\"1\" class=\"dataframe\">\n",
       "  <thead>\n",
       "    <tr style=\"text-align: right;\">\n",
       "      <th></th>\n",
       "      <th>roll</th>\n",
       "      <th>marks</th>\n",
       "    </tr>\n",
       "  </thead>\n",
       "  <tbody>\n",
       "    <tr>\n",
       "      <th>0</th>\n",
       "      <td>1</td>\n",
       "      <td>25</td>\n",
       "    </tr>\n",
       "    <tr>\n",
       "      <th>1</th>\n",
       "      <td>2</td>\n",
       "      <td>25</td>\n",
       "    </tr>\n",
       "    <tr>\n",
       "      <th>10</th>\n",
       "      <td>11</td>\n",
       "      <td>25</td>\n",
       "    </tr>\n",
       "  </tbody>\n",
       "</table>\n",
       "</div>"
      ],
      "text/plain": [
       "    roll  marks\n",
       "0      1     25\n",
       "1      2     25\n",
       "10    11     25"
      ]
     },
     "execution_count": 44,
     "metadata": {},
     "output_type": "execute_result"
    }
   ],
   "source": [
    "common_marks=df['marks'].mode()[0]\n",
    "lst_common_marks=df[df['marks']==common_marks]\n",
    "lst_common_marks"
   ]
  },
  {
   "cell_type": "code",
   "execution_count": 48,
   "id": "dd9f2ecf",
   "metadata": {},
   "outputs": [
    {
     "data": {
      "text/plain": [
       "4    38\n",
       "6    36\n",
       "5    32\n",
       "Name: marks, dtype: int64"
      ]
     },
     "execution_count": 48,
     "metadata": {},
     "output_type": "execute_result"
    }
   ],
   "source": [
    "top_three=df['marks'].nlargest(3)\n",
    "top_three"
   ]
  },
  {
   "cell_type": "code",
   "execution_count": 53,
   "id": "a8b2b3e8",
   "metadata": {},
   "outputs": [
    {
     "data": {
      "text/html": [
       "<div>\n",
       "<style scoped>\n",
       "    .dataframe tbody tr th:only-of-type {\n",
       "        vertical-align: middle;\n",
       "    }\n",
       "\n",
       "    .dataframe tbody tr th {\n",
       "        vertical-align: top;\n",
       "    }\n",
       "\n",
       "    .dataframe thead th {\n",
       "        text-align: right;\n",
       "    }\n",
       "</style>\n",
       "<table border=\"1\" class=\"dataframe\">\n",
       "  <thead>\n",
       "    <tr style=\"text-align: right;\">\n",
       "      <th></th>\n",
       "      <th>roll</th>\n",
       "      <th>marks</th>\n",
       "    </tr>\n",
       "  </thead>\n",
       "  <tbody>\n",
       "    <tr>\n",
       "      <th>4</th>\n",
       "      <td>5</td>\n",
       "      <td>38</td>\n",
       "    </tr>\n",
       "    <tr>\n",
       "      <th>5</th>\n",
       "      <td>6</td>\n",
       "      <td>32</td>\n",
       "    </tr>\n",
       "    <tr>\n",
       "      <th>6</th>\n",
       "      <td>7</td>\n",
       "      <td>36</td>\n",
       "    </tr>\n",
       "    <tr>\n",
       "      <th>7</th>\n",
       "      <td>8</td>\n",
       "      <td>32</td>\n",
       "    </tr>\n",
       "    <tr>\n",
       "      <th>11</th>\n",
       "      <td>12</td>\n",
       "      <td>32</td>\n",
       "    </tr>\n",
       "  </tbody>\n",
       "</table>\n",
       "</div>"
      ],
      "text/plain": [
       "    roll  marks\n",
       "4      5     38\n",
       "5      6     32\n",
       "6      7     36\n",
       "7      8     32\n",
       "11    12     32"
      ]
     },
     "execution_count": 53,
     "metadata": {},
     "output_type": "execute_result"
    }
   ],
   "source": [
    "lst=df[df['marks'].isin(top_three)]\n",
    "lst"
   ]
  },
  {
   "cell_type": "code",
   "execution_count": 24,
   "id": "8732d066",
   "metadata": {},
   "outputs": [
    {
     "name": "stdout",
     "output_type": "stream",
     "text": [
      "division by zero\n",
      "name 'x' is not defined\n",
      "can only concatenate str (not \"int\") to str\n",
      "math domain error\n",
      "string index out of range\n"
     ]
    }
   ],
   "source": [
    "# List any five types of exceptions that you faced during programming with Python. Show with\n",
    "# relevant examples when those exceptions occurred.\n",
    "import math\n",
    "try:\n",
    "    x=9/0\n",
    "except ArithmeticError as e:\n",
    "    print(e)\n",
    "try:\n",
    "    print (x+8)\n",
    "except NameError as e:\n",
    "    print(e)\n",
    "try:\n",
    "    d=''\n",
    "    d=d+9\n",
    "except TypeError as e:\n",
    "    print(e)\n",
    "try:\n",
    "    math.sqrt(-9)\n",
    "except ValueError as e:\n",
    "    print(e)\n",
    "\n",
    "def fetch(y,ind):\n",
    "    return y[ind]\n",
    "try:\n",
    "    y='spam'\n",
    "    fetch(y,4)\n",
    "except IndexError as e:\n",
    "    print(e)"
   ]
  },
  {
   "cell_type": "code",
   "execution_count": null,
   "id": "0b5256b1",
   "metadata": {},
   "outputs": [],
   "source": []
  }
 ],
 "metadata": {
  "kernelspec": {
   "display_name": "Python 3 (ipykernel)",
   "language": "python",
   "name": "python3"
  },
  "language_info": {
   "codemirror_mode": {
    "name": "ipython",
    "version": 3
   },
   "file_extension": ".py",
   "mimetype": "text/x-python",
   "name": "python",
   "nbconvert_exporter": "python",
   "pygments_lexer": "ipython3",
   "version": "3.9.7"
  }
 },
 "nbformat": 4,
 "nbformat_minor": 5
}
