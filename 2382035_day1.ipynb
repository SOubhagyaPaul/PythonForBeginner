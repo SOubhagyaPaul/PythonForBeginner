{
 "cells": [
  {
   "cell_type": "code",
   "execution_count": 2,
   "id": "e561ef36",
   "metadata": {},
   "outputs": [
    {
     "name": "stdout",
     "output_type": "stream",
     "text": [
      "Enter the marks of student :10\n",
      "Grade : F\n"
     ]
    }
   ],
   "source": [
    "# problem 1\n",
    "x=int(input(\"Enter the marks of student :\"))\n",
    "if x>=90 and x<=100:\n",
    "    print(f\"Grade : A\")\n",
    "elif x<=89 and x >=70:\n",
    "    print(f\"Grade : B\")\n",
    "elif x<=69 and x >=50:\n",
    "    print(f\"Grade : C\")\n",
    "else:\n",
    "    print(f\"Grade : F\")"
   ]
  },
  {
   "cell_type": "code",
   "execution_count": 3,
   "id": "490a6fdf",
   "metadata": {},
   "outputs": [
    {
     "name": "stdout",
     "output_type": "stream",
     "text": [
      "Enter the year: 2002\n",
      "Leap year.\n"
     ]
    }
   ],
   "source": [
    "year=int(input(\"Enter the year: \"))\n",
    "if year%400==0:\n",
    "    print(\"Leap year.\")\n",
    "elif year%100 ==0:\n",
    "    print(\"Not Leap year.\")\n",
    "elif year%4==0:\n",
    "    print(\"Leap year.\")\n",
    "else:\n",
    "    print(\"Leap year.\")"
   ]
  },
  {
   "cell_type": "code",
   "execution_count": 17,
   "id": "a06aebda",
   "metadata": {},
   "outputs": [
    {
     "name": "stdout",
     "output_type": "stream",
     "text": [
      "* * * * * \n",
      "* * * * * \n",
      "* * * * * \n",
      "* * * * * \n",
      "* * * * * \n"
     ]
    }
   ],
   "source": [
    "n=int(input(\"Enter the number of the rows: \"))\n",
    "i,j=0,0\n",
    "for i in range (n):\n",
    "    for j in range (n):\n",
    "        print(f\"*\" ,end=' ')\n",
    "    print()"
   ]
  },
  {
   "cell_type": "code",
   "execution_count": 4,
   "id": "4042a2fd",
   "metadata": {},
   "outputs": [
    {
     "name": "stdout",
     "output_type": "stream",
     "text": [
      "Enter the number of the rows: 6\n",
      "*           \n",
      "* *         \n",
      "* * *       \n",
      "* * * *     \n",
      "* * * * *   \n",
      "* * * * * * \n"
     ]
    }
   ],
   "source": [
    "#question 4i\n",
    "n=int(input(\"Enter the number of the rows: \"))\n",
    "x,y=0,0\n",
    "for x in range (n):\n",
    "    for y in range (n):\n",
    "        if x>=y:\n",
    "            print(\"*\", end=' ')\n",
    "        else:\n",
    "            print(\" \", end=' ')\n",
    "    print()"
   ]
  },
  {
   "cell_type": "code",
   "execution_count": 5,
   "id": "51052af7",
   "metadata": {},
   "outputs": [
    {
     "name": "stdout",
     "output_type": "stream",
     "text": [
      "Enter the number of the rows: 5\n",
      "* * * * * \n",
      "  * * * * \n",
      "    * * * \n",
      "      * * \n",
      "        * \n"
     ]
    }
   ],
   "source": [
    "#question 4 ii\n",
    "n=int(input(\"Enter the number of the rows: \"))\n",
    "x,y=0,0\n",
    "n=n-1\n",
    "for x in range (n+1):\n",
    "    for y in range (n+1):\n",
    "        if x<=y:\n",
    "            print(\"*\", end=' ')\n",
    "        else:\n",
    "            print(\" \", end=' ')\n",
    "    print()"
   ]
  },
  {
   "cell_type": "code",
   "execution_count": 32,
   "id": "afd66e83",
   "metadata": {},
   "outputs": [
    {
     "name": "stdout",
     "output_type": "stream",
     "text": [
      "Enter the number of the rows: 5\n",
      "        * \n",
      "      * * \n",
      "    * * * \n",
      "  * * * * \n",
      "* * * * * \n"
     ]
    }
   ],
   "source": [
    "#question 4iv\n",
    "n=int(input(\"Enter the number of the rows: \"))\n",
    "x,y=0,0\n",
    "n=n-1\n",
    "for x in range (n+1):\n",
    "    for y in range (n+1):\n",
    "        if x+y>=n :\n",
    "            print(\"*\", end=' ')\n",
    "        else:\n",
    "            print(\" \", end=' ')\n",
    "    print()"
   ]
  },
  {
   "cell_type": "code",
   "execution_count": 1,
   "id": "460c03e2",
   "metadata": {},
   "outputs": [
    {
     "name": "stdout",
     "output_type": "stream",
     "text": [
      "Enter the number of the rows: 5\n",
      "        * \n",
      "      * * \n",
      "    * * * \n",
      "  * * * * \n",
      "* * * * * \n"
     ]
    }
   ],
   "source": [
    "#question 4 iii\n",
    "n=int(input(\"Enter the number of the rows: \"))\n",
    "x,y=0,0\n",
    "n=n-1\n",
    "for x in range (n+1):\n",
    "    for y in range (n+1):\n",
    "        if x+y>=n :\n",
    "            print(\"*\", end=' ')\n",
    "        else:\n",
    "            print(\" \", end=' ')\n",
    "    print()"
   ]
  },
  {
   "cell_type": "code",
   "execution_count": 57,
   "id": "a80e8b26",
   "metadata": {},
   "outputs": [
    {
     "name": "stdout",
     "output_type": "stream",
     "text": [
      "Enter the number of the rows: 5\n",
      "* * * * * \n",
      "  * * *   \n",
      "    *     \n",
      "  * * *   \n",
      "* * * * * \n"
     ]
    }
   ],
   "source": [
    "#question 4 x\n",
    "n=int(input(\"Enter the number of the rows: \"))\n",
    "x,y=0,0\n",
    "n=(n-1)//2\n",
    "for x in range (2*n+1):\n",
    "    for y in range (2*n+1):\n",
    "        if (x<=y and x+y<=2*n) or (x+y>=2*n and x>=y):\n",
    "            print(\"*\", end=' ')\n",
    "        else:\n",
    "            print(\" \", end=' ')\n",
    "    print()\n",
    "\n"
   ]
  },
  {
   "cell_type": "code",
   "execution_count": 67,
   "id": "f67fdfe4",
   "metadata": {},
   "outputs": [
    {
     "name": "stdout",
     "output_type": "stream",
     "text": [
      "Enter the number of the rows: 5\n",
      "        * \n",
      "      * * \n",
      "    * * * \n",
      "      * * \n",
      "        * \n"
     ]
    }
   ],
   "source": [
    "n=int(input(\"Enter the number of the rows: \"))\n",
    "x,y=0,0\n",
    "n=(n-1)//2\n",
    "for x in range (2*n+1):\n",
    "    for y in range (2*n+1):\n",
    "        if (x<=y and x+y>=2*n) :\n",
    "            print(\"*\", end=' ')\n",
    "        else:\n",
    "            print(\" \", end=' ')\n",
    "    print()\n",
    "\n"
   ]
  },
  {
   "cell_type": "code",
   "execution_count": 74,
   "id": "fc4c6d92",
   "metadata": {},
   "outputs": [
    {
     "name": "stdout",
     "output_type": "stream",
     "text": [
      "Enter the first number : 5\n",
      "Enter the second number : 2\n",
      "The avarage of two number : 3.5\n",
      " X is the largest.\n"
     ]
    }
   ],
   "source": [
    "#qoustion1 \n",
    "\n",
    "x=int(input(\"Enter the first number : \"))\n",
    "y=int(input(\"Enter the second number : \"))\n",
    "print(f\"The avarage of two number : {(x+y)/2}\")\n",
    "\n",
    "if x<y:\n",
    "    print(f\" Y is the largest.\")\n",
    "elif x>y:\n",
    "    print(f\" X is the largest.\")\n",
    "else:\n",
    "    print(f\"Two numbers are equal\")"
   ]
  },
  {
   "cell_type": "code",
   "execution_count": 3,
   "id": "0017f738",
   "metadata": {},
   "outputs": [
    {
     "name": "stdout",
     "output_type": "stream",
     "text": [
      "Enter the first number : 2\n",
      "Enter the second number : 6\n",
      "Enter the third number : 5\n",
      "The smalest number is:2.0\n",
      "The greatest number is:6.0\n",
      "4.33 .2f\n"
     ]
    }
   ],
   "source": [
    "#question 2 \n",
    "x=float(input(\"Enter the first number : \"))\n",
    "y=float(input(\"Enter the second number : \"))\n",
    "z=float(input(\"Enter the third number : \"))\n",
    "\n",
    "if x<y:\n",
    "    if x<z:\n",
    "        min=x\n",
    "    else:\n",
    "        min=z\n",
    "else:\n",
    "    if y<z:\n",
    "        min=y\n",
    "    else:\n",
    "        min=z\n",
    "if x>y:\n",
    "    if x>z:\n",
    "        max=x\n",
    "    else:\n",
    "        max=z\n",
    "else:\n",
    "    if y>z:\n",
    "        max=y\n",
    "    else:\n",
    "        max=z\n",
    "print(f\"The smalest number is:{min}\")\n",
    "print(f\"The greatest number is:{max}\")\n",
    "avg=format((x+y+z)/3, \".2f\")\n",
    "print(avg,)"
   ]
  },
  {
   "cell_type": "code",
   "execution_count": 9,
   "id": "bac06c85",
   "metadata": {},
   "outputs": [
    {
     "name": "stdout",
     "output_type": "stream",
     "text": [
      "Enter the number of the rows: 5\n",
      "*         \n",
      "* *       \n",
      "* * *     \n",
      "* *       \n",
      "*         \n"
     ]
    }
   ],
   "source": [
    "#question 4 v\n",
    "n=int(input(\"Enter the number of the rows: \"))\n",
    "x,y=0,0\n",
    "n=(n-1)//2\n",
    "for x in range (2*n+1):\n",
    "    for y in range (2*n+1):\n",
    "        if x>=y and x+y<=n*2:\n",
    "               print(\"*\", end=' ')\n",
    "        else:\n",
    "            print(\" \", end=' ')\n",
    "    print()\n",
    "            "
   ]
  },
  {
   "cell_type": "code",
   "execution_count": 10,
   "id": "d188b234",
   "metadata": {},
   "outputs": [
    {
     "name": "stdout",
     "output_type": "stream",
     "text": [
      "Enter the number of the rows: 5\n",
      "        * \n",
      "      * * \n",
      "    * * * \n",
      "      * * \n",
      "        * \n"
     ]
    }
   ],
   "source": [
    "#question 4 vi\n",
    "n=int(input(\"Enter the number of the rows: \"))\n",
    "x,y=0,0\n",
    "n=(n-1)//2\n",
    "for x in range (2*n+1):\n",
    "    for y in range (2*n+1):\n",
    "        if x<=y and x+y>=n*2:\n",
    "               print(\"*\", end=' ')\n",
    "        else:\n",
    "            print(\" \", end=' ')\n",
    "    print()\n",
    "            "
   ]
  },
  {
   "cell_type": "code",
   "execution_count": 11,
   "id": "ea3d54c1",
   "metadata": {},
   "outputs": [
    {
     "name": "stdout",
     "output_type": "stream",
     "text": [
      "Enter the number of the rows: 5\n",
      "* * * * * \n",
      "  * * *   \n",
      "    *     \n",
      "          \n",
      "          \n"
     ]
    }
   ],
   "source": [
    "#question 4 vii\n",
    "n=int(input(\"Enter the number of the rows: \"))\n",
    "x,y=0,0\n",
    "n=(n-1)//2\n",
    "for x in range (2*n+1):\n",
    "    for y in range (2*n+1):\n",
    "        if x<=y and x+y<=n*2:\n",
    "            print(\"*\", end=' ')\n",
    "        else:\n",
    "            print(\" \", end=' ')\n",
    "    print()"
   ]
  },
  {
   "cell_type": "code",
   "execution_count": 10,
   "id": "efd493e4",
   "metadata": {},
   "outputs": [
    {
     "name": "stdout",
     "output_type": "stream",
     "text": [
      "Enter the number of the rows: 5\n",
      "          \n",
      "          \n",
      "    *     \n",
      "  * * *   \n",
      "* * * * * \n"
     ]
    }
   ],
   "source": [
    "#question 4 viii\n",
    "n=int(input(\"Enter the number of the rows: \"))\n",
    "x,y=0,0\n",
    "n=(n-1)//2\n",
    "for x in range (2*n+1):\n",
    "    for y in range (2*n+1):\n",
    "        if  x+y>=n*2 and x>=y:\n",
    "            print(\"*\", end=' ')\n",
    "        else:\n",
    "            print(\" \", end=' ')\n",
    "    print()"
   ]
  },
  {
   "cell_type": "code",
   "execution_count": 13,
   "id": "850e744c",
   "metadata": {},
   "outputs": [
    {
     "name": "stdout",
     "output_type": "stream",
     "text": [
      "Enter the number of the rows: 5\n",
      "*       * \n",
      "* *   * * \n",
      "* * * * * \n",
      "* *   * * \n",
      "*       * \n"
     ]
    }
   ],
   "source": [
    "#question 4 ix\n",
    "n=int(input(\"Enter the number of the rows: \"))\n",
    "x,y=0,0\n",
    "n=(n-1)//2\n",
    "for x in range (2*n+1):\n",
    "    for y in range (2*n+1):\n",
    "        if (x>=y and x+y<=n*2) or (x<=y and x+y>=n*2) :\n",
    "               print(\"*\", end=' ')\n",
    "        else:\n",
    "            print(\" \", end=' ')\n",
    "    print()"
   ]
  },
  {
   "cell_type": "code",
   "execution_count": 14,
   "id": "f916ee69",
   "metadata": {},
   "outputs": [
    {
     "name": "stdout",
     "output_type": "stream",
     "text": [
      "Enter the number of the rows: 5\n",
      "* * * * * \n",
      "  * * *   \n",
      "    *     \n",
      "  * * *   \n",
      "* * * * * \n"
     ]
    }
   ],
   "source": [
    "#question 4 x\n",
    "n=int(input(\"Enter the number of the rows: \"))\n",
    "x,y=0,0\n",
    "n=(n-1)//2\n",
    "for x in range (2*n+1):\n",
    "    for y in range (2*n+1):\n",
    "        if (x<=y and x+y<=n*2)or ( x+y>=n*2 and x>=y):\n",
    "            print(\"*\", end=' ')\n",
    "        else:\n",
    "            print(\" \", end=' ')\n",
    "    print()"
   ]
  },
  {
   "cell_type": "code",
   "execution_count": 15,
   "id": "59aebb1d",
   "metadata": {},
   "outputs": [
    {
     "name": "stdout",
     "output_type": "stream",
     "text": [
      "Enter the number of the rows: 5\n",
      "    *     \n",
      "  * * *   \n",
      "* * * * * \n",
      "  * * *   \n",
      "    *     \n"
     ]
    }
   ],
   "source": [
    "#question 4 xi\n",
    "n=int(input(\"Enter the number of the rows: \"))\n",
    "x,y=0,0\n",
    "n=(n-1)//2\n",
    "for x in range (2*n+1):\n",
    "    for y in range (2*n+1):\n",
    "        if x+y>=n and y-x<=n and x+y<=3*n and x-y<=n:\n",
    "            print(\"*\", end=' ')\n",
    "        else:\n",
    "            print(\" \", end=' ')\n",
    "    print()"
   ]
  },
  {
   "cell_type": "code",
   "execution_count": 8,
   "id": "d1e37b3c",
   "metadata": {},
   "outputs": [
    {
     "name": "stdout",
     "output_type": "stream",
     "text": [
      "Enter the number of the rows: 5\n",
      "* * * * * \n",
      "* *   * * \n",
      "*       * \n",
      "* *   * * \n",
      "* * * * * \n"
     ]
    }
   ],
   "source": [
    "#question 4 xii\n",
    "n=int(input(\"Enter the number of the rows: \"))\n",
    "x,y=0,0\n",
    "n=(n-1)//2\n",
    "for x in range (2*n+1):\n",
    "    for y in range (2*n+1):\n",
    "        if not(x+y>n and y-x<n and x+y<3*n and x-y<n):\n",
    "            print(\"*\", end=' ')\n",
    "        else:\n",
    "            print(\" \", end=' ')\n",
    "    print()"
   ]
  },
  {
   "cell_type": "code",
   "execution_count": 19,
   "id": "13a2a62e",
   "metadata": {},
   "outputs": [
    {
     "name": "stdout",
     "output_type": "stream",
     "text": [
      "Enter the number of the rows: 5\n",
      "    *     \n",
      "  * *     \n",
      "* * * * * \n",
      "    * *   \n",
      "    *     \n"
     ]
    }
   ],
   "source": [
    "n=int(input(\"Enter the number of the rows: \"))\n",
    "n=(n-1)//2\n",
    "x,y=0,0\n",
    "for x in range (2*n+1):\n",
    "    for y in range (2*n+1):\n",
    "        if (x+y>=n and x<=n and y<=n) or (x+y<=3*n and x>=n and y>=n):\n",
    "            print(\"*\",end=' ')\n",
    "        else:\n",
    "            print(\" \", end=' ')\n",
    "    print()"
   ]
  },
  {
   "cell_type": "code",
   "execution_count": 27,
   "id": "baa89c92",
   "metadata": {},
   "outputs": [
    {
     "name": "stdout",
     "output_type": "stream",
     "text": [
      "Enter the number of the rows: 5\n",
      "    *     \n",
      "    * *   \n",
      "* * * * * \n",
      "  * *     \n",
      "    *     \n"
     ]
    }
   ],
   "source": [
    "n=int(input(\"Enter the number of the rows: \"))\n",
    "n=(n-1)//2\n",
    "x,y=0,0\n",
    "for x in range (2*n+1):\n",
    "    for y in range (2*n+1):\n",
    "        if (y-x<=n and x<=n and y>=n) or (x>=n and x-y<=n and y<=n) :\n",
    "            print(\"*\",end=' ')\n",
    "        else:\n",
    "            print(\" \", end=' ')\n",
    "    print()"
   ]
  },
  {
   "cell_type": "code",
   "execution_count": 2,
   "id": "69bda99d",
   "metadata": {},
   "outputs": [
    {
     "name": "stdout",
     "output_type": "stream",
     "text": [
      "Enter the number of the rows: 6\n",
      "*       * \n",
      "* *   * * \n",
      "* * * * * \n",
      "  * * *   \n",
      "    *     \n"
     ]
    }
   ],
   "source": [
    "n=int(input(\"Enter the number of the rows: \"))\n",
    "n=(n-1)//2\n",
    "x,y=0,0\n",
    "for x in range (2*n+1):\n",
    "    for y in range (2*n+1):\n",
    "        if (y<=x and y>=0 and x <=n) or(x-y<=n and x>=n and y<=n) or (x+y<=3*n and x>=n and y>=n) or (x<=n and y<=2*n and y+x>=2*n):\n",
    "            print(\"*\",end=' ')\n",
    "        else:\n",
    "            print(\" \", end=' ')\n",
    "    print()"
   ]
  },
  {
   "cell_type": "code",
   "execution_count": 5,
   "id": "35cfb7d5",
   "metadata": {},
   "outputs": [
    {
     "name": "stdout",
     "output_type": "stream",
     "text": [
      "Enter the number of the rows: 6\n",
      "*       * \n",
      "* *   * * \n",
      "* * * * * \n",
      "  * * *   \n",
      "    *     \n"
     ]
    }
   ],
   "source": [
    "n=int(input(\"Enter the number of the rows: \"))\n",
    "n=(n-1)//2\n",
    "x,y=0,0\n",
    "for x in range (2*n+1):\n",
    "    for y in range (2*n+1):\n",
    "        if (y<=x and y>=0 and x <=n) or(x-y<=n and x>=n and y<=n) or (x+y<=3*n and x>=n and y>=n) or (x<=n and y<=2*n and y+x>=2*n):\n",
    "            print(\"*\",end=' ')\n",
    "        else:\n",
    "            print(\" \", end=' ')\n",
    "    print()"
   ]
  },
  {
   "cell_type": "code",
   "execution_count": null,
   "id": "c3422f17",
   "metadata": {},
   "outputs": [],
   "source": []
  }
 ],
 "metadata": {
  "kernelspec": {
   "display_name": "Python 3 (ipykernel)",
   "language": "python",
   "name": "python3"
  },
  "language_info": {
   "codemirror_mode": {
    "name": "ipython",
    "version": 3
   },
   "file_extension": ".py",
   "mimetype": "text/x-python",
   "name": "python",
   "nbconvert_exporter": "python",
   "pygments_lexer": "ipython3",
   "version": "3.9.7"
  }
 },
 "nbformat": 4,
 "nbformat_minor": 5
}
