{
 "cells": [
  {
   "cell_type": "code",
   "execution_count": 1,
   "metadata": {},
   "outputs": [],
   "source": [
    "# lambda expression to pass a function to a function\n",
    "# Examples with filter, map and sorted"
   ]
  },
  {
   "cell_type": "code",
   "execution_count": 2,
   "metadata": {
    "scrolled": true
   },
   "outputs": [
    {
     "name": "stdout",
     "output_type": "stream",
     "text": [
      "Help on class filter in module builtins:\n",
      "\n",
      "class filter(object)\n",
      " |  filter(function or None, iterable) --> filter object\n",
      " |  \n",
      " |  Return an iterator yielding those items of iterable for which function(item)\n",
      " |  is true. If function is None, return the items that are true.\n",
      " |  \n",
      " |  Methods defined here:\n",
      " |  \n",
      " |  __getattribute__(self, name, /)\n",
      " |      Return getattr(self, name).\n",
      " |  \n",
      " |  __iter__(self, /)\n",
      " |      Implement iter(self).\n",
      " |  \n",
      " |  __next__(self, /)\n",
      " |      Implement next(self).\n",
      " |  \n",
      " |  __reduce__(...)\n",
      " |      Return state information for pickling.\n",
      " |  \n",
      " |  ----------------------------------------------------------------------\n",
      " |  Static methods defined here:\n",
      " |  \n",
      " |  __new__(*args, **kwargs) from builtins.type\n",
      " |      Create and return a new object.  See help(type) for accurate signature.\n",
      "\n"
     ]
    }
   ],
   "source": [
    "help(filter)"
   ]
  },
  {
   "cell_type": "code",
   "execution_count": 3,
   "metadata": {},
   "outputs": [
    {
     "name": "stdout",
     "output_type": "stream",
     "text": [
      "(87, 99, 89, 85)\n"
     ]
    }
   ],
   "source": [
    "# Example - create a tuple from the list where marks is greater than 80.\n",
    "\n",
    "marks = [55, 87, 99, 63, 89, 48, 85, 76]\n",
    "\n",
    "highMarks = tuple(filter(lambda x: x > 80, marks))\n",
    "\n",
    "print(highMarks)"
   ]
  },
  {
   "cell_type": "code",
   "execution_count": 4,
   "metadata": {},
   "outputs": [
    {
     "name": "stdout",
     "output_type": "stream",
     "text": [
      "[85, 87, 89, 99]\n"
     ]
    }
   ],
   "source": [
    "# Example - create a sorted list of marks greater than 80.\n",
    "\n",
    "marks = [55, 87, 99, 63, 89, 48, 85, 76]\n",
    "\n",
    "sortedHighMarks = sorted(filter(lambda x: x > 80, marks))\n",
    "\n",
    "print(sortedHighMarks)"
   ]
  },
  {
   "cell_type": "code",
   "execution_count": 5,
   "metadata": {},
   "outputs": [
    {
     "name": "stdout",
     "output_type": "stream",
     "text": [
      "Help on class map in module builtins:\n",
      "\n",
      "class map(object)\n",
      " |  map(func, *iterables) --> map object\n",
      " |  \n",
      " |  Make an iterator that computes the function using arguments from\n",
      " |  each of the iterables.  Stops when the shortest iterable is exhausted.\n",
      " |  \n",
      " |  Methods defined here:\n",
      " |  \n",
      " |  __getattribute__(self, name, /)\n",
      " |      Return getattr(self, name).\n",
      " |  \n",
      " |  __iter__(self, /)\n",
      " |      Implement iter(self).\n",
      " |  \n",
      " |  __next__(self, /)\n",
      " |      Implement next(self).\n",
      " |  \n",
      " |  __reduce__(...)\n",
      " |      Return state information for pickling.\n",
      " |  \n",
      " |  ----------------------------------------------------------------------\n",
      " |  Static methods defined here:\n",
      " |  \n",
      " |  __new__(*args, **kwargs) from builtins.type\n",
      " |      Create and return a new object.  See help(type) for accurate signature.\n",
      "\n"
     ]
    }
   ],
   "source": [
    "help(map)"
   ]
  },
  {
   "cell_type": "code",
   "execution_count": 6,
   "metadata": {},
   "outputs": [
    {
     "name": "stdout",
     "output_type": "stream",
     "text": [
      "(22.0, 30.8, 39.6, 25.6)\n"
     ]
    }
   ],
   "source": [
    "# Example - create a tuple from the given list to \n",
    "# scale the marks out of 40 instead of 100\n",
    "\n",
    "marks = [55, 77, 99, 64]\n",
    "\n",
    "highMarks = tuple(map(lambda x: x * .4, marks))\n",
    "\n",
    "print(highMarks)"
   ]
  },
  {
   "cell_type": "code",
   "execution_count": 7,
   "metadata": {},
   "outputs": [
    {
     "name": "stdout",
     "output_type": "stream",
     "text": [
      "Help on built-in function sorted in module builtins:\n",
      "\n",
      "sorted(iterable, /, *, key=None, reverse=False)\n",
      "    Return a new list containing all items from the iterable in ascending order.\n",
      "    \n",
      "    A custom key function can be supplied to customize the sort order, and the\n",
      "    reverse flag can be set to request the result in descending order.\n",
      "\n"
     ]
    }
   ],
   "source": [
    "help(sorted)"
   ]
  },
  {
   "cell_type": "code",
   "execution_count": 8,
   "metadata": {},
   "outputs": [
    {
     "name": "stdout",
     "output_type": "stream",
     "text": [
      "['Bardhaman', 'Jalpaiguri', 'Kolkata', 'Malda']\n"
     ]
    }
   ],
   "source": [
    "cities = ['Kolkata','Bardhaman','Malda','Jalpaiguri']\n",
    "sortedCities = sorted(cities)\n",
    "print(sortedCities)"
   ]
  },
  {
   "cell_type": "code",
   "execution_count": 9,
   "metadata": {},
   "outputs": [
    {
     "name": "stdout",
     "output_type": "stream",
     "text": [
      "['Malda', 'Kolkata', 'Bardhaman', 'Jalpaiguri']\n"
     ]
    }
   ],
   "source": [
    "# Sorting the cities by length of the city name\n",
    "\n",
    "cities = ['Kolkata','Bardhaman','Malda','Jalpaiguri']\n",
    "\n",
    "sortedCities = sorted(cities, key = len)\n",
    "\n",
    "print(sortedCities)"
   ]
  },
  {
   "cell_type": "code",
   "execution_count": 10,
   "metadata": {},
   "outputs": [
    {
     "name": "stdout",
     "output_type": "stream",
     "text": [
      "[('Aditi', 30, 70, 90), ('Amirul', 80, 65, 55), ('Sayani', 40, 60, 80)]\n"
     ]
    }
   ],
   "source": [
    "# sorting a list of tuples\n",
    "\n",
    "marks = [('Sayani',40,60,80), ('Aditi',30,70,90),('Amirul',80,65,55)]\n",
    "\n",
    "sorted_marks = sorted(marks)\n",
    "\n",
    "print(sorted_marks)"
   ]
  },
  {
   "cell_type": "code",
   "execution_count": 11,
   "metadata": {},
   "outputs": [
    {
     "name": "stdout",
     "output_type": "stream",
     "text": [
      "[('Amirul', 80, 65, 55), ('Sayani', 40, 60, 80), ('Aditi', 30, 70, 90)]\n"
     ]
    }
   ],
   "source": [
    "# sorting by the third marks in each tuple\n",
    "\n",
    "marks = [('Sayani',40,60,80), ('Aditi',30, 70, 90),('Amirul',80, 65, 55)]\n",
    "\n",
    "sorted_marks = sorted(marks, key = lambda x : x[3])\n",
    "\n",
    "print(sorted_marks)"
   ]
  },
  {
   "cell_type": "code",
   "execution_count": 12,
   "metadata": {},
   "outputs": [
    {
     "name": "stdout",
     "output_type": "stream",
     "text": [
      "[('Aditi', 30, 70, 90), ('Sayani', 40, 60, 80), ('Amirul', 80, 65, 55)]\n"
     ]
    }
   ],
   "source": [
    "# descending sort by the third marks in each tuple\n",
    "\n",
    "marks = [('Sayani',40,60,80), ('Aditi',30, 70, 90),('Amirul',80, 65, 55)]\n",
    "\n",
    "sorted_marks = sorted(marks, key = lambda x : x[3], reverse=True)\n",
    "\n",
    "print(sorted_marks)"
   ]
  },
  {
   "cell_type": "code",
   "execution_count": 13,
   "metadata": {},
   "outputs": [
    {
     "name": "stdout",
     "output_type": "stream",
     "text": [
      "[('Aditi', 30, 50, 90), ('Amirul', 80, 60, 55), ('Sayani', 40, 60, 80)]\n"
     ]
    }
   ],
   "source": [
    "# sorting by the second, third marks in each tuple\n",
    "\n",
    "marks = [('Sayani',40,60,80), ('Aditi',30, 50, 90),('Amirul',80, 60, 55)]\n",
    "\n",
    "sorted_marks = sorted(marks, key = lambda x : (x[2],x[3]))\n",
    "\n",
    "print(sorted_marks)"
   ]
  },
  {
   "cell_type": "code",
   "execution_count": 14,
   "metadata": {},
   "outputs": [
    {
     "name": "stdout",
     "output_type": "stream",
     "text": [
      "[('Aditi', [30, 50, 90]), ('Sayani', [40, 60, 80]), ('Amirul', [80, 60, 55])]\n"
     ]
    }
   ],
   "source": [
    "# sorting by the sum of the marks\n",
    "\n",
    "marks = [('Sayani',[40,60,80]), ('Aditi',[30, 50, 90]),('Amirul',[80, 60, 55])]\n",
    "\n",
    "sorted_marks = sorted(marks, key = lambda x : sum(x[1]))\n",
    "\n",
    "print(sorted_marks)"
   ]
  },
  {
   "cell_type": "code",
   "execution_count": 15,
   "metadata": {},
   "outputs": [
    {
     "name": "stdout",
     "output_type": "stream",
     "text": [
      "{'Aditi': 73, 'Anand': 59, 'Zahir': 42}\n"
     ]
    }
   ],
   "source": [
    "# sorting the items in a dictionary by key\n",
    "\n",
    "marks = {\"Aditi\":73, \"Zahir\":42, \"Anand\":59}\n",
    "sorted_marks = dict(sorted(marks.items()))\n",
    "print(sorted_marks)"
   ]
  },
  {
   "cell_type": "code",
   "execution_count": 16,
   "metadata": {},
   "outputs": [
    {
     "name": "stdout",
     "output_type": "stream",
     "text": [
      "{'Zahir': 42, 'Anand': 59, 'Aditi': 73}\n"
     ]
    }
   ],
   "source": [
    "# sorting the items in a dictionary by value\n",
    "\n",
    "marks = {\"Aditi\":73, \"Zahir\":42, \"Anand\":59}\n",
    "\n",
    "sorted_marks = dict(sorted(marks.items(), key = lambda x : x[1]))\n",
    "\n",
    "print(sorted_marks)"
   ]
  },
  {
   "cell_type": "code",
   "execution_count": null,
   "metadata": {},
   "outputs": [],
   "source": [
    "'''\n",
    "all variable 'assignments' in a function store the value in \n",
    "the local symbol table; \n",
    "\n",
    "whereas variable 'references' \n",
    "first look in the local symbol table, then \n",
    "in the local symbol tables of enclosing functions, \n",
    "then in the global symbol table, \n",
    "and finally in the table of built-in names. \n",
    "\n",
    "Thus, global variables and variables of enclosing functions \n",
    "cannot be directly assigned a value within a function \n",
    "(unless, for global variables, using 'global; or, \n",
    "for variables of enclosing functions, using 'nonlocal'), \n",
    "although they may be referenced.\n",
    "'''"
   ]
  },
  {
   "cell_type": "code",
   "execution_count": 17,
   "metadata": {},
   "outputs": [
    {
     "name": "stdout",
     "output_type": "stream",
     "text": [
      "8\n"
     ]
    },
    {
     "ename": "NameError",
     "evalue": "name 'num1' is not defined",
     "output_type": "error",
     "traceback": [
      "\u001b[1;31m---------------------------------------------------------------------------\u001b[0m",
      "\u001b[1;31mNameError\u001b[0m                                 Traceback (most recent call last)",
      "Cell \u001b[1;32mIn[17], line 12\u001b[0m\n\u001b[0;32m      9\u001b[0m     \u001b[38;5;28;01mreturn\u001b[39;00m x \u001b[38;5;241m-\u001b[39m num1\n\u001b[0;32m     11\u001b[0m \u001b[38;5;28mprint\u001b[39m(f(\u001b[38;5;241m13\u001b[39m))\n\u001b[1;32m---> 12\u001b[0m \u001b[38;5;28mprint\u001b[39m(\u001b[43mnum1\u001b[49m)\n",
      "\u001b[1;31mNameError\u001b[0m: name 'num1' is not defined"
     ]
    }
   ],
   "source": [
    "# an assignment statement in a function creates a local variable\n",
    "# this variable only exists inside the function and cannot be used outside it\n",
    "# when the execution of the function terminates (returns), \n",
    "# the local variables are destroyed.\n",
    "# formal parameters are also local\n",
    "\n",
    "def f(x):\n",
    "    num1 = 5\n",
    "    return x - num1\n",
    "\n",
    "print(f(13))\n",
    "print(num1)"
   ]
  },
  {
   "cell_type": "code",
   "execution_count": 18,
   "metadata": {},
   "outputs": [
    {
     "name": "stdout",
     "output_type": "stream",
     "text": [
      "5\n",
      "8\n"
     ]
    }
   ],
   "source": [
    "# it is legal for a function to 'access' a global variable\n",
    "\n",
    "def f(x):\n",
    "    print(y)\n",
    "    return x - y\n",
    "\n",
    "y = 5\n",
    "print(f(13))"
   ]
  },
  {
   "cell_type": "code",
   "execution_count": 19,
   "metadata": {},
   "outputs": [
    {
     "name": "stdout",
     "output_type": "stream",
     "text": [
      "3\n",
      "5\n"
     ]
    }
   ],
   "source": [
    "# variable 'references' in a function first look in the local symbol table.\n",
    "# A new local variable is created in the function’s namespace if another\n",
    "# value is assigned to a globally declared variable inside the function. \n",
    "# The value of the global variable will not be changed.\n",
    "# So, when a local variable has the same name as a global variable,\n",
    "# the local variable is accessed when the variable name \n",
    "# in the function is referenced\n",
    "\n",
    "y = 5            # this y is a global variable\n",
    "\n",
    "def f(x):\n",
    "    y = 10       # this y is a local variable\n",
    "    z = x - y    # local y is accessed i.e 10, not 5\n",
    "    return z    \n",
    "\n",
    "  \n",
    "print(f(13))\n",
    "print(y)"
   ]
  },
  {
   "cell_type": "code",
   "execution_count": 20,
   "metadata": {},
   "outputs": [
    {
     "ename": "UnboundLocalError",
     "evalue": "local variable 'y' referenced before assignment",
     "output_type": "error",
     "traceback": [
      "\u001b[1;31m---------------------------------------------------------------------------\u001b[0m",
      "\u001b[1;31mUnboundLocalError\u001b[0m                         Traceback (most recent call last)",
      "Cell \u001b[1;32mIn[20], line 8\u001b[0m\n\u001b[0;32m      5\u001b[0m                     \u001b[38;5;66;03m# before it is assigned a value\u001b[39;00m\n\u001b[0;32m      6\u001b[0m     \u001b[38;5;28;01mreturn\u001b[39;00m x \u001b[38;5;241m-\u001b[39m y\n\u001b[1;32m----> 8\u001b[0m \u001b[38;5;28mprint\u001b[39m(\u001b[43mf\u001b[49m\u001b[43m(\u001b[49m\u001b[38;5;241;43m13\u001b[39;49m\u001b[43m)\u001b[49m)\n",
      "Cell \u001b[1;32mIn[20], line 4\u001b[0m, in \u001b[0;36mf\u001b[1;34m(x)\u001b[0m\n\u001b[0;32m      3\u001b[0m \u001b[38;5;28;01mdef\u001b[39;00m \u001b[38;5;21mf\u001b[39m(x):\n\u001b[1;32m----> 4\u001b[0m     y \u001b[38;5;241m=\u001b[39m \u001b[43my\u001b[49m \u001b[38;5;241m-\u001b[39m \u001b[38;5;241m1\u001b[39m       \u001b[38;5;66;03m# local variable 'y' is referenced in the local scope \u001b[39;00m\n\u001b[0;32m      5\u001b[0m                     \u001b[38;5;66;03m# before it is assigned a value\u001b[39;00m\n\u001b[0;32m      6\u001b[0m     \u001b[38;5;28;01mreturn\u001b[39;00m x \u001b[38;5;241m-\u001b[39m y\n",
      "\u001b[1;31mUnboundLocalError\u001b[0m: local variable 'y' referenced before assignment"
     ]
    }
   ],
   "source": [
    "y=5                 # this y is a global variable\n",
    "\n",
    "def f(x):\n",
    "    y = y - 1       # local variable 'y' is referenced in the local scope \n",
    "                    # before it is assigned a value\n",
    "    return x - y\n",
    "               \n",
    "print(f(13))"
   ]
  },
  {
   "cell_type": "code",
   "execution_count": 22,
   "metadata": {},
   "outputs": [
    {
     "name": "stdout",
     "output_type": "stream",
     "text": [
      "3\n",
      "10\n"
     ]
    }
   ],
   "source": [
    "y=5                 # this y is a global variable\n",
    "\n",
    "def f(x):\n",
    "    global y\n",
    "    y = 10       \n",
    "    return x - y\n",
    "               \n",
    "print(f(13))\n",
    "print(y)"
   ]
  }
 ],
 "metadata": {
  "kernelspec": {
   "display_name": "Python 3 (ipykernel)",
   "language": "python",
   "name": "python3"
  },
  "language_info": {
   "codemirror_mode": {
    "name": "ipython",
    "version": 3
   },
   "file_extension": ".py",
   "mimetype": "text/x-python",
   "name": "python",
   "nbconvert_exporter": "python",
   "pygments_lexer": "ipython3",
   "version": "3.9.7"
  }
 },
 "nbformat": 4,
 "nbformat_minor": 4
}
