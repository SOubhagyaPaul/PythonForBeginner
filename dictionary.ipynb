{
 "cells": [
  {
   "cell_type": "code",
   "execution_count": 1,
   "id": "22454942",
   "metadata": {},
   "outputs": [
    {
     "name": "stdout",
     "output_type": "stream",
     "text": [
      "type= <class 'dict'>, student: {'roll': 5, 'name': 'Animesh', 'age': 22}\n"
     ]
    }
   ],
   "source": [
    "# dictionary - used to store items as key:value pairs\n",
    "# ordered (since Python 3.7), mutable, no duplicate keys\n",
    "# dictionaries are indexed by keys, which can be any immutable type\n",
    "\n",
    "student = {'roll': 5, \"name\": \"Animesh\", \"age\":22}\n",
    "print(f\"type= {type(student)}, student: {student}\")"
   ]
  },
  {
   "cell_type": "code",
   "execution_count": 2,
   "id": "c91c8911",
   "metadata": {},
   "outputs": [
    {
     "name": "stdout",
     "output_type": "stream",
     "text": [
      "student: {'roll': 10, 'name': 'Animesh', 'age': 22}\n"
     ]
    }
   ],
   "source": [
    "# no duplicate keys\n",
    "\n",
    "student = {\"roll\": 5, \"name\": \"Animesh\", \"age\":22, \"roll\": 10}\n",
    "print(f\"student: {student}\")"
   ]
  },
  {
   "cell_type": "code",
   "execution_count": 3,
   "id": "1f27d12b",
   "metadata": {},
   "outputs": [
    {
     "name": "stdout",
     "output_type": "stream",
     "text": [
      "{}\n"
     ]
    }
   ],
   "source": [
    "# use of dict() to create dictionary\n",
    "\n",
    "student = dict()\n",
    "print(student)"
   ]
  },
  {
   "cell_type": "code",
   "execution_count": 4,
   "id": "849a8633",
   "metadata": {},
   "outputs": [
    {
     "name": "stdout",
     "output_type": "stream",
     "text": [
      "{'roll': 5, 'name': 'Animesh', 'age': 22}\n"
     ]
    }
   ],
   "source": [
    "# dict() builds dictionaries directly from sequences of key-value pairs\n",
    "\n",
    "student = dict([('roll', 5), ('name', \"Animesh\"), ('age', 22)])\n",
    "print(student)"
   ]
  },
  {
   "cell_type": "code",
   "execution_count": 5,
   "id": "b91cd33d",
   "metadata": {},
   "outputs": [
    {
     "name": "stdout",
     "output_type": "stream",
     "text": [
      "{'roll': 5, 'name': 'Animesh', 'age': 22}\n"
     ]
    }
   ],
   "source": [
    "# When the keys are simple strings, it is easier \n",
    "# to specify pairs using keyword arguments\n",
    "\n",
    "student = dict(roll=5, name = \"Animesh\", age = 22)\n",
    "print(student)"
   ]
  },
  {
   "cell_type": "code",
   "execution_count": 6,
   "id": "47b9871c",
   "metadata": {},
   "outputs": [
    {
     "data": {
      "text/plain": [
       "3"
      ]
     },
     "execution_count": 6,
     "metadata": {},
     "output_type": "execute_result"
    }
   ],
   "source": [
    "# len() function - how many items a dictionary has\n",
    "\n",
    "len(student)"
   ]
  },
  {
   "cell_type": "code",
   "execution_count": 7,
   "id": "c73593e8",
   "metadata": {},
   "outputs": [
    {
     "name": "stdout",
     "output_type": "stream",
     "text": [
      "True\n",
      "False\n",
      "False\n",
      "True\n"
     ]
    }
   ],
   "source": [
    "# To check whether a single key is in the dictionary: in, not in\n",
    "\n",
    "student = {'roll': 5, \"name\": \"Animesh\", \"age\":22}\n",
    "print(\"roll\" in student)\n",
    "print(\"city\" in student)\n",
    "print(\"roll\" not in student)\n",
    "print(\"city\" not in student)"
   ]
  },
  {
   "cell_type": "code",
   "execution_count": 8,
   "id": "58d267b4",
   "metadata": {},
   "outputs": [
    {
     "name": "stdout",
     "output_type": "stream",
     "text": [
      "Animesh\n"
     ]
    }
   ],
   "source": [
    "# access values of an item with specified key\n",
    "# key within square brackets\n",
    "\n",
    "student = {'roll': 5, 'name': \"Animesh\", 'age': 22}\n",
    "print(student['name'])"
   ]
  },
  {
   "cell_type": "code",
   "execution_count": 9,
   "id": "7633c5a1",
   "metadata": {},
   "outputs": [
    {
     "ename": "KeyError",
     "evalue": "'email'",
     "output_type": "error",
     "traceback": [
      "\u001b[1;31m---------------------------------------------------------------------------\u001b[0m",
      "\u001b[1;31mKeyError\u001b[0m                                  Traceback (most recent call last)",
      "Cell \u001b[1;32mIn[9], line 4\u001b[0m\n\u001b[0;32m      1\u001b[0m \u001b[38;5;66;03m# if key is not present, a KeyError occurs\u001b[39;00m\n\u001b[0;32m      3\u001b[0m student \u001b[38;5;241m=\u001b[39m {\u001b[38;5;124m'\u001b[39m\u001b[38;5;124mroll\u001b[39m\u001b[38;5;124m'\u001b[39m: \u001b[38;5;241m5\u001b[39m, \u001b[38;5;124m'\u001b[39m\u001b[38;5;124mname\u001b[39m\u001b[38;5;124m'\u001b[39m: \u001b[38;5;124m\"\u001b[39m\u001b[38;5;124mAnimesh\u001b[39m\u001b[38;5;124m\"\u001b[39m, \u001b[38;5;124m'\u001b[39m\u001b[38;5;124mage\u001b[39m\u001b[38;5;124m'\u001b[39m: \u001b[38;5;241m22\u001b[39m}\n\u001b[1;32m----> 4\u001b[0m \u001b[38;5;28mprint\u001b[39m(\u001b[43mstudent\u001b[49m\u001b[43m[\u001b[49m\u001b[38;5;124;43m\"\u001b[39;49m\u001b[38;5;124;43memail\u001b[39;49m\u001b[38;5;124;43m\"\u001b[39;49m\u001b[43m]\u001b[49m)\n",
      "\u001b[1;31mKeyError\u001b[0m: 'email'"
     ]
    }
   ],
   "source": [
    "# if key is not present, a KeyError occurs\n",
    "\n",
    "student = {'roll': 5, 'name': \"Animesh\", 'age': 22}\n",
    "print(student[\"email\"])"
   ]
  },
  {
   "cell_type": "code",
   "execution_count": 10,
   "id": "c4c413d4",
   "metadata": {},
   "outputs": [
    {
     "name": "stdout",
     "output_type": "stream",
     "text": [
      "Help on method_descriptor:\n",
      "\n",
      "get(self, key, default=None, /)\n",
      "    Return the value for key if key is in the dictionary, else default.\n",
      "\n"
     ]
    }
   ],
   "source": [
    "help(dict.get)"
   ]
  },
  {
   "cell_type": "code",
   "execution_count": 2,
   "id": "eee2860d",
   "metadata": {},
   "outputs": [
    {
     "name": "stdout",
     "output_type": "stream",
     "text": [
      "5\n"
     ]
    }
   ],
   "source": [
    "# access values of an item with specified key\n",
    "# get() method \n",
    "\n",
    "student = {'roll': 5, 'name': \"Animesh\", 'age': 22}\n",
    "print(student.get(\"roll\"))"
   ]
  },
  {
   "cell_type": "code",
   "execution_count": 12,
   "id": "0abd2305",
   "metadata": {},
   "outputs": [
    {
     "name": "stdout",
     "output_type": "stream",
     "text": [
      "None\n"
     ]
    }
   ],
   "source": [
    "student = {'roll': 5, 'name': \"Animesh\", 'age': 22}\n",
    "print(student.get(\"city\"))"
   ]
  },
  {
   "cell_type": "code",
   "execution_count": 13,
   "id": "ff78ff87",
   "metadata": {},
   "outputs": [
    {
     "name": "stdout",
     "output_type": "stream",
     "text": [
      "Kolkata\n",
      "{'roll': 5, 'name': 'Animesh', 'age': 22}\n"
     ]
    }
   ],
   "source": [
    "# a value to return if the specified key does not exist\n",
    "\n",
    "student = {'roll': 5, 'name': \"Animesh\", 'age': 22}\n",
    "print(student.get(\"city\",\"Kolkata\"))\n",
    "print(student)"
   ]
  },
  {
   "cell_type": "code",
   "execution_count": 14,
   "id": "82e9455b",
   "metadata": {},
   "outputs": [
    {
     "name": "stdout",
     "output_type": "stream",
     "text": [
      "roll\n",
      "name\n",
      "age\n"
     ]
    }
   ],
   "source": [
    "# traversing a dictionary\n",
    "# value are the keys of the dictionary\n",
    "\n",
    "student = {'roll': 5, 'name': \"Animesh\", 'age': 22}\n",
    "for x in student:\n",
    "    print(x)"
   ]
  },
  {
   "cell_type": "code",
   "execution_count": 15,
   "id": "0b4dc585",
   "metadata": {},
   "outputs": [
    {
     "name": "stdout",
     "output_type": "stream",
     "text": [
      "roll 5\n",
      "name Animesh\n",
      "age 22\n"
     ]
    }
   ],
   "source": [
    "for x in student:\n",
    "    print(x, student[x])"
   ]
  },
  {
   "cell_type": "code",
   "execution_count": 17,
   "id": "848b9ed4",
   "metadata": {},
   "outputs": [
    {
     "name": "stdout",
     "output_type": "stream",
     "text": [
      "Help on method_descriptor:\n",
      "\n",
      "items(...)\n",
      "    D.items() -> a set-like object providing a view on D's items\n",
      "\n"
     ]
    }
   ],
   "source": [
    "help(dict.items)"
   ]
  },
  {
   "cell_type": "code",
   "execution_count": 16,
   "id": "af073eac",
   "metadata": {},
   "outputs": [
    {
     "name": "stdout",
     "output_type": "stream",
     "text": [
      "dict_items([('roll', 5), ('name', 'Ananya'), ('age', 21)])\n"
     ]
    }
   ],
   "source": [
    "# items() method returns the key:value pair as list of tuples\n",
    "\n",
    "student = {'roll': 5, 'name': \"Ananya\", 'age': 21}\n",
    "print(student.items())"
   ]
  },
  {
   "cell_type": "code",
   "execution_count": 17,
   "id": "e2df49a0",
   "metadata": {},
   "outputs": [
    {
     "name": "stdout",
     "output_type": "stream",
     "text": [
      "('roll', 5)\n",
      "('name', 'Ananya')\n",
      "('age', 21)\n"
     ]
    }
   ],
   "source": [
    "for x in student.items():\n",
    "    print(x)"
   ]
  },
  {
   "cell_type": "code",
   "execution_count": 18,
   "id": "54bae85c",
   "metadata": {},
   "outputs": [
    {
     "name": "stdout",
     "output_type": "stream",
     "text": [
      "roll 5\n",
      "name Ananya\n",
      "age 21\n"
     ]
    }
   ],
   "source": [
    "for x, y in student.items():\n",
    "    print(x,y)"
   ]
  },
  {
   "cell_type": "code",
   "execution_count": 19,
   "id": "34dba6fe",
   "metadata": {},
   "outputs": [
    {
     "name": "stdout",
     "output_type": "stream",
     "text": [
      "Help on method_descriptor:\n",
      "\n",
      "keys(...)\n",
      "    D.keys() -> a set-like object providing a view on D's keys\n",
      "\n"
     ]
    }
   ],
   "source": [
    "help(dict.keys)"
   ]
  },
  {
   "cell_type": "code",
   "execution_count": 20,
   "id": "4c0e60ba",
   "metadata": {},
   "outputs": [
    {
     "name": "stdout",
     "output_type": "stream",
     "text": [
      "dict_keys(['roll', 'name', 'age'])\n"
     ]
    }
   ],
   "source": [
    "# keys() method returns a view object\n",
    "# the view object contains the keys of the dictionary, as a list.\n",
    "# the view object will reflect any changes done to the dictionary\n",
    "\n",
    "student = {'roll': 5, 'name': \"Animesh\", 'age': 22}\n",
    "print(student.keys())"
   ]
  },
  {
   "cell_type": "code",
   "execution_count": 21,
   "id": "44f43715",
   "metadata": {},
   "outputs": [
    {
     "name": "stdout",
     "output_type": "stream",
     "text": [
      "roll\n",
      "name\n",
      "age\n"
     ]
    }
   ],
   "source": [
    "for x in student.keys():\n",
    "    print(x)"
   ]
  },
  {
   "cell_type": "code",
   "execution_count": 22,
   "id": "f2c14371",
   "metadata": {},
   "outputs": [
    {
     "name": "stdout",
     "output_type": "stream",
     "text": [
      "dict_keys(['roll', 'name', 'age', 'email'])\n"
     ]
    }
   ],
   "source": [
    "student = {\"roll\": 5, \"name\": \"Animesh\", \"age\":22}\n",
    "\n",
    "x = student.keys()\n",
    "\n",
    "student[\"email\"] = \"animesh.patra@heritageit.edu.in\"\n",
    "\n",
    "print(x)"
   ]
  },
  {
   "cell_type": "code",
   "execution_count": 23,
   "id": "08dec68d",
   "metadata": {},
   "outputs": [
    {
     "name": "stdout",
     "output_type": "stream",
     "text": [
      "Help on method_descriptor:\n",
      "\n",
      "values(...)\n",
      "    D.values() -> an object providing a view on D's values\n",
      "\n"
     ]
    }
   ],
   "source": [
    "help(dict.values)"
   ]
  },
  {
   "cell_type": "code",
   "execution_count": 24,
   "id": "b4ecebf4",
   "metadata": {},
   "outputs": [
    {
     "name": "stdout",
     "output_type": "stream",
     "text": [
      "dict_values([5, 'Animesh', 22])\n"
     ]
    }
   ],
   "source": [
    "# values() method returns a view object\n",
    "# the view object contains the values of the dictionary, as a list\n",
    "# the view object will reflect any changes done to the dictionary\n",
    "\n",
    "student = {'roll': 5, 'name': \"Animesh\", 'age': 22}\n",
    "print(student.values())"
   ]
  },
  {
   "cell_type": "code",
   "execution_count": 25,
   "id": "d0e11a24",
   "metadata": {},
   "outputs": [
    {
     "name": "stdout",
     "output_type": "stream",
     "text": [
      "5\n",
      "Animesh\n",
      "22\n"
     ]
    }
   ],
   "source": [
    "for x in student.values():\n",
    "    print(x)"
   ]
  },
  {
   "cell_type": "code",
   "execution_count": 26,
   "id": "f340e465",
   "metadata": {},
   "outputs": [
    {
     "name": "stdout",
     "output_type": "stream",
     "text": [
      "dict_values([5, 'Animesh', 22, 'animesh.patra@heritageit.edu.in'])\n"
     ]
    }
   ],
   "source": [
    "student = {\"roll\": 5, \"name\": \"Animesh\", \"age\":22}\n",
    "x = student.values()\n",
    "student[\"email\"] = \"animesh.patra@heritageit.edu.in\"\n",
    "print(x)"
   ]
  },
  {
   "cell_type": "code",
   "execution_count": 27,
   "id": "6575a8cf",
   "metadata": {},
   "outputs": [],
   "source": [
    "# The objects returned by dict.keys(), dict.values() and dict.items() \n",
    "# are view objects. They provide a dynamic view on the dictionary’s entries, \n",
    "# which means that when the dictionary changes, the view reflects these changes."
   ]
  },
  {
   "cell_type": "code",
   "execution_count": 28,
   "id": "8922e082",
   "metadata": {},
   "outputs": [
    {
     "name": "stdout",
     "output_type": "stream",
     "text": [
      "Help on method_descriptor:\n",
      "\n",
      "pop(...)\n",
      "    D.pop(k[,d]) -> v, remove specified key and return the corresponding value.\n",
      "    \n",
      "    If the key is not found, return the default if given; otherwise,\n",
      "    raise a KeyError.\n",
      "\n",
      "Help on method_descriptor:\n",
      "\n",
      "popitem(self, /)\n",
      "    Remove and return a (key, value) pair as a 2-tuple.\n",
      "    \n",
      "    Pairs are returned in LIFO (last-in, first-out) order.\n",
      "    Raises KeyError if the dict is empty.\n",
      "\n",
      "Help on method_descriptor:\n",
      "\n",
      "clear(...)\n",
      "    D.clear() -> None.  Remove all items from D.\n",
      "\n"
     ]
    }
   ],
   "source": [
    "help(dict.pop)\n",
    "help(dict.popitem)\n",
    "help(dict.clear)"
   ]
  },
  {
   "cell_type": "code",
   "execution_count": 29,
   "id": "e45eb6a6",
   "metadata": {},
   "outputs": [
    {
     "name": "stdout",
     "output_type": "stream",
     "text": [
      "Removed item: Animesh\n",
      "Dictionary after removal: {'roll': 5, 'age': 22}\n"
     ]
    }
   ],
   "source": [
    "# remove items from a dictionary\n",
    "# pop(), popitem(), clear(), del\n",
    "\n",
    "# pop() method removes the specified item from the dictionary\n",
    "\n",
    "student = {\"roll\": 5, \"name\": \"Animesh\", \"age\":22}\n",
    "\n",
    "x = student.pop(\"name\")\n",
    "print(f\"Removed item: {x}\")\n",
    "\n",
    "print(f\"Dictionary after removal: {student}\")"
   ]
  },
  {
   "cell_type": "code",
   "execution_count": 30,
   "id": "344e6dd7",
   "metadata": {},
   "outputs": [
    {
     "name": "stdout",
     "output_type": "stream",
     "text": [
      "Removed item: ('age', 22)\n",
      "Dictionary after removal: {'roll': 5, 'name': 'Animesh'}\n"
     ]
    }
   ],
   "source": [
    "# popitem() method removes the item that was last inserted into the dictionary\n",
    "# removed item is the return value of the popitem() method, as a tuple\n",
    "\n",
    "student = {\"roll\": 5, \"name\": \"Animesh\", \"age\":22}\n",
    "x = student.popitem()\n",
    "print(f\"Removed item: {x}\")\n",
    "print(f\"Dictionary after removal: {student}\")"
   ]
  },
  {
   "cell_type": "code",
   "execution_count": 31,
   "id": "c7bcfb9a",
   "metadata": {},
   "outputs": [
    {
     "name": "stdout",
     "output_type": "stream",
     "text": [
      "Dictionary after removal: {'name': 'Animesh', 'age': 22}\n"
     ]
    }
   ],
   "source": [
    "# del keyword removes the item with the specified key name\n",
    "student = {\"roll\": 5, \"name\": \"Animesh\", \"age\":22}\n",
    "del student[\"roll\"]\n",
    "print(f\"Dictionary after removal: {student}\")"
   ]
  },
  {
   "cell_type": "code",
   "execution_count": 32,
   "id": "25061aec",
   "metadata": {},
   "outputs": [
    {
     "ename": "NameError",
     "evalue": "name 'student' is not defined",
     "output_type": "error",
     "traceback": [
      "\u001b[1;31m---------------------------------------------------------------------------\u001b[0m",
      "\u001b[1;31mNameError\u001b[0m                                 Traceback (most recent call last)",
      "Cell \u001b[1;32mIn[32], line 5\u001b[0m\n\u001b[0;32m      3\u001b[0m student \u001b[38;5;241m=\u001b[39m {\u001b[38;5;124m\"\u001b[39m\u001b[38;5;124mroll\u001b[39m\u001b[38;5;124m\"\u001b[39m: \u001b[38;5;241m5\u001b[39m, \u001b[38;5;124m\"\u001b[39m\u001b[38;5;124mname\u001b[39m\u001b[38;5;124m\"\u001b[39m: \u001b[38;5;124m\"\u001b[39m\u001b[38;5;124mAnimesh\u001b[39m\u001b[38;5;124m\"\u001b[39m, \u001b[38;5;124m\"\u001b[39m\u001b[38;5;124mage\u001b[39m\u001b[38;5;124m\"\u001b[39m:\u001b[38;5;241m22\u001b[39m}\n\u001b[0;32m      4\u001b[0m \u001b[38;5;28;01mdel\u001b[39;00m student\n\u001b[1;32m----> 5\u001b[0m \u001b[38;5;28mprint\u001b[39m(\u001b[43mstudent\u001b[49m)\n",
      "\u001b[1;31mNameError\u001b[0m: name 'student' is not defined"
     ]
    }
   ],
   "source": [
    "# del keyword can also delete the dictionary completely\n",
    "\n",
    "student = {\"roll\": 5, \"name\": \"Animesh\", \"age\":22}\n",
    "del student\n",
    "print(student)"
   ]
  },
  {
   "cell_type": "code",
   "execution_count": 33,
   "id": "d5fea167",
   "metadata": {},
   "outputs": [
    {
     "name": "stdout",
     "output_type": "stream",
     "text": [
      "Dictionary after clear(): {}\n"
     ]
    }
   ],
   "source": [
    "# clear() method empties the dictionary\n",
    "\n",
    "student = {\"roll\": 5, \"name\": \"Animesh\", \"age\":22}\n",
    "student.clear()\n",
    "print(f\"Dictionary after clear(): {student}\")"
   ]
  },
  {
   "cell_type": "code",
   "execution_count": 34,
   "id": "80e85b11",
   "metadata": {},
   "outputs": [
    {
     "name": "stdout",
     "output_type": "stream",
     "text": [
      "['__class__', '__class_getitem__', '__contains__', '__delattr__', '__delitem__', '__dir__', '__doc__', '__eq__', '__format__', '__ge__', '__getattribute__', '__getitem__', '__gt__', '__hash__', '__init__', '__init_subclass__', '__ior__', '__iter__', '__le__', '__len__', '__lt__', '__ne__', '__new__', '__or__', '__reduce__', '__reduce_ex__', '__repr__', '__reversed__', '__ror__', '__setattr__', '__setitem__', '__sizeof__', '__str__', '__subclasshook__', 'clear', 'copy', 'fromkeys', 'get', 'items', 'keys', 'pop', 'popitem', 'setdefault', 'update', 'values']\n"
     ]
    }
   ],
   "source": [
    "print(dir(dict))"
   ]
  },
  {
   "cell_type": "code",
   "execution_count": 35,
   "id": "47600e59",
   "metadata": {},
   "outputs": [
    {
     "name": "stdout",
     "output_type": "stream",
     "text": [
      "Help on method_descriptor:\n",
      "\n",
      "copy(...)\n",
      "    D.copy() -> a shallow copy of D\n",
      "\n"
     ]
    }
   ],
   "source": [
    "help(dict.copy)"
   ]
  },
  {
   "cell_type": "code",
   "execution_count": 36,
   "id": "14f8e54f",
   "metadata": {},
   "outputs": [
    {
     "name": "stdout",
     "output_type": "stream",
     "text": [
      "Help on built-in function fromkeys:\n",
      "\n",
      "fromkeys(iterable, value=None, /) method of builtins.type instance\n",
      "    Create a new dictionary with keys from iterable and values set to value.\n",
      "\n"
     ]
    }
   ],
   "source": [
    "help(dict.fromkeys)"
   ]
  },
  {
   "cell_type": "code",
   "execution_count": 37,
   "id": "a6589d89",
   "metadata": {},
   "outputs": [
    {
     "name": "stdout",
     "output_type": "stream",
     "text": [
      "x: {1: None, 2: None, 3: None}\n",
      "y: {11: 'mca', 22: 'mca', 33: 'mca'}\n"
     ]
    }
   ],
   "source": [
    "x = dict.fromkeys([1,2,3])\n",
    "y = dict.fromkeys((11,22,33), \"mca\")\n",
    "print(f\"x: {x}\")\n",
    "print(f\"y: {y}\")"
   ]
  },
  {
   "cell_type": "code",
   "execution_count": 38,
   "id": "834cc494",
   "metadata": {},
   "outputs": [
    {
     "name": "stdout",
     "output_type": "stream",
     "text": [
      "Help on method_descriptor:\n",
      "\n",
      "setdefault(self, key, default=None, /)\n",
      "    Insert key with a value of default if key is not in the dictionary.\n",
      "    \n",
      "    Return the value for key if key is in the dictionary, else default.\n",
      "\n"
     ]
    }
   ],
   "source": [
    "help(dict.setdefault)"
   ]
  },
  {
   "cell_type": "code",
   "execution_count": 39,
   "id": "2114814a",
   "metadata": {},
   "outputs": [
    {
     "name": "stdout",
     "output_type": "stream",
     "text": [
      "Help on method_descriptor:\n",
      "\n",
      "update(...)\n",
      "    D.update([E, ]**F) -> None.  Update D from dict/iterable E and F.\n",
      "    If E is present and has a .keys() method, then does:  for k in E: D[k] = E[k]\n",
      "    If E is present and lacks a .keys() method, then does:  for k, v in E: D[k] = v\n",
      "    In either case, this is followed by: for k in F:  D[k] = F[k]\n",
      "\n"
     ]
    }
   ],
   "source": [
    "help(dict.update)"
   ]
  },
  {
   "cell_type": "code",
   "execution_count": 40,
   "id": "c4b8be3a",
   "metadata": {},
   "outputs": [
    {
     "name": "stdout",
     "output_type": "stream",
     "text": [
      "{'s': 2, 't': 2, 'u': 1, 'd': 1, 'e': 1, 'n': 1}\n"
     ]
    }
   ],
   "source": [
    "# frequency of characters in a string\n",
    "# Input: \"students\"\n",
    "# Output: {'s': 2, 't': 2, 'u': 1, 'd': 1, 'e': 1, 'n': 1}\n",
    "# Roll: 11\n",
    "\n",
    "myStr = \"students\"\n",
    "d = {}\n",
    "for character in myStr:\n",
    "    if character not in d:\n",
    "        d[character] = 1\n",
    "    else:\n",
    "        d[character] = d[character] + 1\n",
    "print(d)"
   ]
  },
  {
   "cell_type": "code",
   "execution_count": 42,
   "id": "ab980166",
   "metadata": {},
   "outputs": [
    {
     "name": "stdout",
     "output_type": "stream",
     "text": [
      "{'c': 1, 'o': 1, 'm': 2, 'i': 1, 't': 2, 'e': 2}\n"
     ]
    }
   ],
   "source": [
    "myStr = \"committee\"\n",
    "d = {}\n",
    "for alphabet in myStr:\n",
    "    d[alphabet] = d.get(alphabet,0) + 1\n",
    "print(d)"
   ]
  }
 ],
 "metadata": {
  "kernelspec": {
   "display_name": "Python 3 (ipykernel)",
   "language": "python",
   "name": "python3"
  },
  "language_info": {
   "codemirror_mode": {
    "name": "ipython",
    "version": 3
   },
   "file_extension": ".py",
   "mimetype": "text/x-python",
   "name": "python",
   "nbconvert_exporter": "python",
   "pygments_lexer": "ipython3",
   "version": "3.9.7"
  }
 },
 "nbformat": 4,
 "nbformat_minor": 5
}
