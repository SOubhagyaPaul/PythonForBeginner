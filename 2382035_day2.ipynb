{
 "cells": [
  {
   "cell_type": "code",
   "execution_count": 4,
   "id": "33d2bbd6",
   "metadata": {},
   "outputs": [
    {
     "name": "stdout",
     "output_type": "stream",
     "text": [
      "Enter the string : 1234321\n",
      "This is a palindrome.\n"
     ]
    }
   ],
   "source": [
    "#Check if a string is palindrome or not.\n",
    "s=input(\"Enter the string : \").replace(' ','').lower()\n",
    "s1=s[::-1]\n",
    "if s1==s:\n",
    "    print(\"This is a palindrome.\")\n",
    "else:\n",
    "    print(\"This is not a palindrome.\")"
   ]
  },
  {
   "cell_type": "code",
   "execution_count": 5,
   "id": "3012c761",
   "metadata": {},
   "outputs": [
    {
     "name": "stdout",
     "output_type": "stream",
     "text": [
      "Enter the string: soubhagya\n",
      "['a']\n"
     ]
    },
    {
     "data": {
      "text/plain": [
       "['s', 'o', 'u', 'b', 'h', 'a', 'g', 'y']"
      ]
     },
     "execution_count": 5,
     "metadata": {},
     "output_type": "execute_result"
    }
   ],
   "source": [
    "#Find all duplicate characters in a string.\n",
    "\n",
    "s=input(\"Enter the string: \")\n",
    "a=[]\n",
    "for i in s:\n",
    "   a.append(i)\n",
    "unique=[]\n",
    "duplicate=[]\n",
    "for i in a:\n",
    "    if i not in unique:\n",
    "        unique.append(i)\n",
    "    else:\n",
    "        duplicate.append(i)\n",
    "print(duplicate)\n",
    "unique"
   ]
  },
  {
   "cell_type": "code",
   "execution_count": 5,
   "id": "36096724",
   "metadata": {},
   "outputs": [
    {
     "name": "stdout",
     "output_type": "stream",
     "text": [
      "Enter the string: soubhagya\n",
      "['a']\n"
     ]
    },
    {
     "data": {
      "text/plain": [
       "['s', 'o', 'u', 'b', 'h', 'a', 'g', 'y']"
      ]
     },
     "execution_count": 5,
     "metadata": {},
     "output_type": "execute_result"
    }
   ],
   "source": [
    "#Find all duplicate characters in a string.\n",
    "\n",
    "s=input(\"Enter the string: \")\n",
    "a=[]\n",
    "for i in s:\n",
    "   a.append(i)\n",
    "unique=[]\n",
    "duplicate=[]\n",
    "for i in a:\n",
    "    if i not in unique:\n",
    "        unique.append(i)\n",
    "    else:\n",
    "        duplicate.append(i)\n",
    "print(duplicate)\n",
    "unique"
   ]
  },
  {
   "cell_type": "code",
   "execution_count": 6,
   "id": "1e2ed921",
   "metadata": {},
   "outputs": [
    {
     "name": "stdout",
     "output_type": "stream",
     "text": [
      "Enter the string : my thi dddd hhhhh\n",
      "Enter the length : 3\n",
      "dddd\n",
      "hhhhh\n"
     ]
    }
   ],
   "source": [
    "#Find words in a string which are greater than some given length k.\n",
    "s=input(\"Enter the string : \")\n",
    "n=int(input(\"Enter the length : \"))\n",
    "a=s.split()\n",
    "for i in a:\n",
    "    if len(i)>n:\n",
    "        print(i)"
   ]
  },
  {
   "cell_type": "code",
   "execution_count": 14,
   "id": "862fe5b5",
   "metadata": {},
   "outputs": [
    {
     "name": "stdout",
     "output_type": "stream",
     "text": [
      "Enter the name: Madhu sudhan paul\n",
      "M .s .paul\n"
     ]
    }
   ],
   "source": [
    "#Format input names, given as strings, as follows\n",
    "name=input(\"Enter the name: \")\n",
    "a=name.split()\n",
    "l_name=a[-1]\n",
    "for i in range (len(a)-1):\n",
    "    print(a[i][0],\".\",end='')\n",
    "print(l_name)\n"
   ]
  },
  {
   "cell_type": "code",
   "execution_count": 20,
   "id": "6c2aadf0",
   "metadata": {},
   "outputs": [
    {
     "name": "stdout",
     "output_type": "stream",
     "text": [
      "Enter the string: MBA,BCA,BTECH,MCA\n",
      "['BCA', 'BTECH', 'MBA', 'MCA']\n"
     ]
    }
   ],
   "source": [
    "'''Accept a string of comma separated words as input and generate a string of comma\n",
    "separated words (from the input string) sorted alphabetically.'''\n",
    "\n",
    "s=input(\"Enter the string: \")\n",
    "s=s.split(',')\n",
    "print(sorted(s))"
   ]
  },
  {
   "cell_type": "code",
   "execution_count": 38,
   "id": "e44dd9c9",
   "metadata": {},
   "outputs": [
    {
     "name": "stdout",
     "output_type": "stream",
     "text": [
      "Enter comma separated 4-digit binary: 0100,0011,1101,1001\n",
      "not divisable\n",
      "divisable\n",
      "not divisable\n",
      "divisable\n"
     ]
    }
   ],
   "source": [
    "#Accept a string of comma separated 4-digit binary numbers as input and print a comma\n",
    "#separated string containing the numbers that are divisible by3.\n",
    "s=input(\"Enter comma separated 4-digit binary: \")\n",
    "s=s.split(',')\n",
    "for i in s:\n",
    "    decimal=int(i,2)\n",
    "    if(decimal%3)==0:\n",
    "        print(\"divisable\")\n",
    "    else:\n",
    "        print(\"not divisable\")\n",
    "    "
   ]
  },
  {
   "cell_type": "code",
   "execution_count": 36,
   "id": "f92b2816",
   "metadata": {},
   "outputs": [
    {
     "name": "stdout",
     "output_type": "stream",
     "text": [
      "Help on built-in function pow in module builtins:\n",
      "\n",
      "pow(base, exp, mod=None)\n",
      "    Equivalent to base**exp with 2 arguments or base**exp % mod with 3 arguments\n",
      "    \n",
      "    Some types, such as ints, are able to use a more efficient algorithm when\n",
      "    invoked using the three argument form.\n",
      "\n"
     ]
    }
   ],
   "source": [
    "help(pow)"
   ]
  },
  {
   "cell_type": "code",
   "execution_count": 44,
   "id": "88e9885e",
   "metadata": {},
   "outputs": [
    {
     "name": "stdout",
     "output_type": "stream",
     "text": [
      "not sorted.\n"
     ]
    }
   ],
   "source": [
    "#Check if the items in a list are sorted in ascending order, or descending order, or not sorted.\n",
    "lst=[12,55,3]\n",
    "if(lst == sorted(lst)):\n",
    "    print(\"The list is sorted in ascending .\")\n",
    "elif(lst == sorted(lst,reverse=True)):\n",
    "    print(\"The list is sorted in descending order .\")\n",
    "else:\n",
    "   print(\"not sorted.\")"
   ]
  },
  {
   "cell_type": "code",
   "execution_count": 41,
   "id": "a67d3825",
   "metadata": {},
   "outputs": [
    {
     "name": "stdout",
     "output_type": "stream",
     "text": [
      "Help on built-in function sorted in module builtins:\n",
      "\n",
      "sorted(iterable, /, *, key=None, reverse=False)\n",
      "    Return a new list containing all items from the iterable in ascending order.\n",
      "    \n",
      "    A custom key function can be supplied to customize the sort order, and the\n",
      "    reverse flag can be set to request the result in descending order.\n",
      "\n"
     ]
    }
   ],
   "source": [
    "help(sorted)"
   ]
  },
  {
   "cell_type": "code",
   "execution_count": 53,
   "id": "aed3e14f",
   "metadata": {},
   "outputs": [
    {
     "name": "stdout",
     "output_type": "stream",
     "text": [
      "Enter the N value to find n largest element: 2\n",
      "[12, 8, 5, 66, 1, 22]\n",
      "8\n"
     ]
    }
   ],
   "source": [
    "#Find N largest elements from a list.\n",
    "lst=[12,8,5,66,1,22]\n",
    "n=int(input(\"Enter the N value to find n largest element: \"))\n",
    "print(lst)\n",
    "lst=sorted(lst)\n",
    "for i in lst:\n",
    "    max=lst[n]\n",
    "print(max)"
   ]
  },
  {
   "cell_type": "code",
   "execution_count": 15,
   "id": "8f792788",
   "metadata": {},
   "outputs": [
    {
     "name": "stdout",
     "output_type": "stream",
     "text": [
      "['BSC', 'MSC', 'BTECH', 'MTECH', 'BLIB', 'MLIB']\n",
      "Enter the element you want to bring last : MTECH\n",
      "None\n"
     ]
    },
    {
     "data": {
      "text/plain": [
       "['BSC', 'MSC', 'BTECH', 'BLIB', 'MLIB', 'MTECH']"
      ]
     },
     "execution_count": 15,
     "metadata": {},
     "output_type": "execute_result"
    }
   ],
   "source": [
    "#Move a specified element to the end of a list.\n",
    "lst=['BSC', 'MSC', 'BTECH', 'MTECH', 'BLIB', 'MLIB']\n",
    "print(lst)\n",
    "element=input(\"Enter the element you want to bring last : \")\n",
    "ind= lst.index(element)\n",
    "temp=lst.pop(ind)\n",
    "print(str(lst.append(temp)))\n",
    "lst"
   ]
  },
  {
   "cell_type": "code",
   "execution_count": 2,
   "id": "2af0e129",
   "metadata": {},
   "outputs": [
    {
     "name": "stdout",
     "output_type": "stream",
     "text": [
      "['__add__', '__class__', '__class_getitem__', '__contains__', '__delattr__', '__delitem__', '__dir__', '__doc__', '__eq__', '__format__', '__ge__', '__getattribute__', '__getitem__', '__gt__', '__hash__', '__iadd__', '__imul__', '__init__', '__init_subclass__', '__iter__', '__le__', '__len__', '__lt__', '__mul__', '__ne__', '__new__', '__reduce__', '__reduce_ex__', '__repr__', '__reversed__', '__rmul__', '__setattr__', '__setitem__', '__sizeof__', '__str__', '__subclasshook__', 'append', 'clear', 'copy', 'count', 'extend', 'index', 'insert', 'pop', 'remove', 'reverse', 'sort']\n"
     ]
    }
   ],
   "source": [
    "print(dir(list))"
   ]
  },
  {
   "cell_type": "code",
   "execution_count": 4,
   "id": "238fa5d3",
   "metadata": {},
   "outputs": [
    {
     "name": "stdout",
     "output_type": "stream",
     "text": [
      "Help on method_descriptor:\n",
      "\n",
      "pop(self, index=-1, /)\n",
      "    Remove and return item at index (default last).\n",
      "    \n",
      "    Raises IndexError if list is empty or index is out of range.\n",
      "\n"
     ]
    }
   ],
   "source": [
    "help(list.pop)"
   ]
  },
  {
   "cell_type": "code",
   "execution_count": 32,
   "id": "b02263e6",
   "metadata": {},
   "outputs": [
    {
     "data": {
      "text/plain": [
       "[3, 7, 8, 12]"
      ]
     },
     "execution_count": 32,
     "metadata": {},
     "output_type": "execute_result"
    }
   ],
   "source": [
    "#Sum the digits of individual elements in a list of numbers.\n",
    "lst=[21,34,35,66]\n",
    "output=[]\n",
    "for i in lst:\n",
    "    sum=0\n",
    "    temp=int(i)\n",
    "    while temp>0:\n",
    "        digit=int(temp%10)\n",
    "        sum=sum+digit\n",
    "        temp=temp/10\n",
    "    output.append(sum)\n",
    "output"
   ]
  },
  {
   "cell_type": "code",
   "execution_count": 5,
   "id": "a82ff9d2",
   "metadata": {},
   "outputs": [
    {
     "name": "stdout",
     "output_type": "stream",
     "text": [
      "Enter the string : banana\n",
      "['b', 'ba', 'ban', 'bana', 'banan', 'banana']\n"
     ]
    }
   ],
   "source": [
    "#11. Given a string, generate a list of nonempty prefixes of the string, ordered from shortest to longest.\n",
    "s=input(\"Enter the string : \")\n",
    "a=[]\n",
    "r=''\n",
    "for i in s:\n",
    "    r+=i\n",
    "    a.append(r)\n",
    "print(a)\n",
    "    "
   ]
  },
  {
   "cell_type": "code",
   "execution_count": 6,
   "id": "443d0b0e",
   "metadata": {},
   "outputs": [
    {
     "data": {
      "text/plain": [
       "['program.c', 'stdio.h', 'sample.h', 'a.out', 'math.h', 'cpp.out']"
      ]
     },
     "execution_count": 6,
     "metadata": {},
     "output_type": "execute_result"
    }
   ],
   "source": [
    "#Given a list of filenames, generate a new list to rename all the files with extension ‘cpp’ to the extension ‘h’.\n",
    "\n",
    "lst=[\"program.c\", \"stdio.cpp\", \"sample.cpp\", \"a.out\", \"math.cpp\", \"cpp.out\"]\n",
    "lst2=[]\n",
    "for i in lst:\n",
    "    j=i.replace('.cpp','.h')\n",
    "    lst2.append(j)\n",
    "lst2"
   ]
  },
  {
   "cell_type": "code",
   "execution_count": 51,
   "id": "6a1933c9",
   "metadata": {},
   "outputs": [
    {
     "data": {
      "text/plain": [
       "['MCA1205', 'MCA2125', 'MCA1295']"
      ]
     },
     "execution_count": 51,
     "metadata": {},
     "output_type": "execute_result"
    }
   ],
   "source": [
    "#13. Given a list of courses, create a new list of courses that are offered by the department of\n",
    "#Computer Applications (i.e., courses that start with MCA]\n",
    "\n",
    "\n",
    "lst=[\"MCA1205\", \"MCA2125\", \"HUM2191\", \"MTH2102\", \"MCA1295\"]\n",
    "lst2=[]\n",
    "for i in lst:\n",
    "    if(i.startswith(\"MCA\")):\n",
    "        lst2.append(i)\n",
    "lst2\n"
   ]
  },
  {
   "cell_type": "code",
   "execution_count": 6,
   "id": "f915c91a",
   "metadata": {},
   "outputs": [
    {
     "data": {
      "text/plain": [
       "{21: ['2182001', '2182023', '2182049', '2182053'],\n",
       " 22: ['2282022', '2282056', '2282036']}"
      ]
     },
     "execution_count": 6,
     "metadata": {},
     "output_type": "execute_result"
    }
   ],
   "source": [
    "#14. A list contains the roll nos. of students of MCA 1st and 2nd year who enrolled in the debate\n",
    "#club. The roll no. of the students is prefixed with the year (2 digits) of admission. From that\n",
    "#given list, create two separate lists for 1st year students and 2nd year students.\n",
    "lst=['2182001','2182023','2282022', '2282056', '2182049', '2282036', '2182053']\n",
    "dis={}\n",
    "for roll in lst:\n",
    "    yr=int(roll[:2])\n",
    "    if yr not in dis:\n",
    "        dis[yr]=[]\n",
    "    dis[yr].append(roll)\n",
    "dis\n",
    "    \n",
    "    "
   ]
  },
  {
   "cell_type": "code",
   "execution_count": 7,
   "id": "40be28d0",
   "metadata": {},
   "outputs": [
    {
     "name": "stdout",
     "output_type": "stream",
     "text": [
      "Help on method_descriptor:\n",
      "\n",
      "startswith(...)\n",
      "    S.startswith(prefix[, start[, end]]) -> bool\n",
      "    \n",
      "    Return True if S starts with the specified prefix, False otherwise.\n",
      "    With optional start, test S beginning at that position.\n",
      "    With optional end, stop comparing S at that position.\n",
      "    prefix can also be a tuple of strings to try.\n",
      "\n"
     ]
    }
   ],
   "source": [
    "help(str.startswith)"
   ]
  },
  {
   "cell_type": "code",
   "execution_count": 3,
   "id": "479217d1",
   "metadata": {},
   "outputs": [
    {
     "name": "stdout",
     "output_type": "stream",
     "text": [
      "Help on method_descriptor:\n",
      "\n",
      "count(...)\n",
      "    S.count(sub[, start[, end]]) -> int\n",
      "    \n",
      "    Return the number of non-overlapping occurrences of substring sub in\n",
      "    string S[start:end].  Optional arguments start and end are\n",
      "    interpreted as in slice notation.\n",
      "\n"
     ]
    }
   ],
   "source": [
    "help(str.count)"
   ]
  },
  {
   "cell_type": "code",
   "execution_count": 7,
   "id": "404c624e",
   "metadata": {},
   "outputs": [
    {
     "name": "stdout",
     "output_type": "stream",
     "text": [
      "Enter the string: tt yy i tgh j\n"
     ]
    },
    {
     "data": {
      "text/plain": [
       "['t', ' ', 'y']"
      ]
     },
     "execution_count": 7,
     "metadata": {},
     "output_type": "execute_result"
    }
   ],
   "source": [
    "s=input(\"Enter the string: \")\n",
    "x=[]\n",
    "for i in s:\n",
    "   if i not in x and s.count(i)>1:\n",
    "        x.append(i)\n",
    "x"
   ]
  },
  {
   "cell_type": "code",
   "execution_count": 13,
   "id": "cea62197",
   "metadata": {},
   "outputs": [
    {
     "data": {
      "text/plain": [
       "['Sen', 'Chand', 'Juhuri', 'Das', 'Mudi']"
      ]
     },
     "execution_count": 13,
     "metadata": {},
     "output_type": "execute_result"
    }
   ],
   "source": [
    "# Given a list of names, generate a list where each element is the surname of the corresponding element in the input list.\n",
    "# Sample Input: [‘A Prasad Sen’, ‘Ananth B Chand’, ’Heera Juhuri’, ’Tapasi Das’, ’Gambhir Mudi’]\n",
    "# Output: [‘Sen’, ‘Chand’, ’Juhuri’, ‘Das’, ‘Mudi’]\n",
    "\n",
    "names = ['A Prasad Sen', 'Ananth B Chand', 'Heera Juhuri', 'Tapasi Das', 'Gambhir Mudi']\n",
    "s_name=[]\n",
    "for i in names:\n",
    "    s_name.append(i.split()[-1])\n",
    "s_name\n",
    "    "
   ]
  },
  {
   "cell_type": "code",
   "execution_count": 36,
   "id": "6afe5a1d",
   "metadata": {},
   "outputs": [
    {
     "data": {
      "text/plain": [
       "[[1, 2, 3], [4, 5, 6], [7, 8, 9], [10]]"
      ]
     },
     "execution_count": 36,
     "metadata": {},
     "output_type": "execute_result"
    }
   ],
   "source": [
    "#Break a list into chunks of size N.\n",
    "lst = [1, 2, 3, 4, 5, 6, 7, 8, 9, 10]\n",
    "chunk=3\n",
    "result=[]\n",
    "for i in range(0,len(lst),chunk):\n",
    "    result.append(lst[i:i+chunk])\n",
    "result"
   ]
  },
  {
   "cell_type": "code",
   "execution_count": 50,
   "id": "916ad122",
   "metadata": {},
   "outputs": [
    {
     "name": "stdout",
     "output_type": "stream",
     "text": [
      "[[1, 3], [3, 2], [2, 5], [5, 4]]\n"
     ]
    }
   ],
   "source": [
    "# Pair up consecutive elements of a given list.\n",
    "# Sample Input: [1, 3, 2, 5, 4]\n",
    "# Output: [[1, 3], [3, 2], [2, 5], [5, 4]]\n",
    "Input=[1, 3, 2, 5, 4]\n",
    "result=[]\n",
    "for i in range(0,len(Input)-1):\n",
    "    result+=[[Input[i],Input[i+1]]]\n",
    "print(result)"
   ]
  },
  {
   "cell_type": "code",
   "execution_count": 59,
   "id": "51f2f5f6",
   "metadata": {},
   "outputs": [
    {
     "data": {
      "text/plain": [
       "2"
      ]
     },
     "execution_count": 59,
     "metadata": {},
     "output_type": "execute_result"
    }
   ],
   "source": [
    "#The str.count() counts the number of non-overlapping occurrences \n",
    "# of a specified substring in a string. E.g., if myStr = ‘Banana’, \n",
    "# myStr.count(‘an’) returns 2, but myStr.count(‘ana’) returns 1. \n",
    "# Write a Python script that includes the overlapping cases also.\n",
    "myStr ='Banana'\n",
    "substr='ana'\n",
    "start=count=0\n",
    "while True:\n",
    "    start=myStr.find('ana',start)+1\n",
    "    if start>0:\n",
    "        count+=1\n",
    "    else:\n",
    "        break\n",
    "count"
   ]
  },
  {
   "cell_type": "code",
   "execution_count": 55,
   "id": "281dc10c",
   "metadata": {},
   "outputs": [
    {
     "name": "stdout",
     "output_type": "stream",
     "text": [
      "Help on method_descriptor:\n",
      "\n",
      "find(...)\n",
      "    S.find(sub[, start[, end]]) -> int\n",
      "    \n",
      "    Return the lowest index in S where substring sub is found,\n",
      "    such that sub is contained within S[start:end].  Optional\n",
      "    arguments start and end are interpreted as in slice notation.\n",
      "    \n",
      "    Return -1 on failure.\n",
      "\n"
     ]
    }
   ],
   "source": [
    "help(str.find)"
   ]
  },
  {
   "cell_type": "code",
   "execution_count": 5,
   "id": "796b7a4a",
   "metadata": {},
   "outputs": [
    {
     "name": "stdout",
     "output_type": "stream",
     "text": [
      "Longest substring of consecutive consonants: Pyth\n"
     ]
    }
   ],
   "source": [
    "# Given a string, generate a string of the longest substring of consecutive consonants. \n",
    "# If more than one such substring has the same length, \n",
    "# the first should appear in the string.\n",
    "s=\"Python\"\n",
    "vowel=\"aeiouAEIOU\"\n",
    "sub,longer_sub='',''\n",
    "for i in s:\n",
    "    if i.isalpha() and i not in vowel:\n",
    "        sub+=i\n",
    "    else:\n",
    "        if len(sub)>len(longer_sub):\n",
    "            longer_sub=sub\n",
    "        sub=''\n",
    "if len(sub)>len(longer_sub):\n",
    "            longer_sub=sub\n",
    "print(f\"Longest substring of consecutive consonants: {longer_sub}\")"
   ]
  },
  {
   "cell_type": "code",
   "execution_count": null,
   "id": "6cd83957",
   "metadata": {},
   "outputs": [],
   "source": []
  }
 ],
 "metadata": {
  "kernelspec": {
   "display_name": "Python 3 (ipykernel)",
   "language": "python",
   "name": "python3"
  },
  "language_info": {
   "codemirror_mode": {
    "name": "ipython",
    "version": 3
   },
   "file_extension": ".py",
   "mimetype": "text/x-python",
   "name": "python",
   "nbconvert_exporter": "python",
   "pygments_lexer": "ipython3",
   "version": "3.9.7"
  }
 },
 "nbformat": 4,
 "nbformat_minor": 5
}
