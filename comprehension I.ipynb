{
 "cells": [
  {
   "cell_type": "code",
   "execution_count": 1,
   "id": "02058791",
   "metadata": {},
   "outputs": [
    {
     "name": "stdout",
     "output_type": "stream",
     "text": [
      "my_list: ['42', '65', '12'], my_list_int: [42, 65, 12]\n"
     ]
    }
   ],
   "source": [
    "# list comprehension\n",
    "# concise way to create lists\n",
    "# creates new lists where each element is the result of some operations \n",
    "# applied to each member of another sequence or iterable, or\n",
    "# create a subsequence of those elements that satisfy a certain condition.\n",
    "\n",
    "# newlist = [expression for item in iterable (if condition)]\n",
    "\n",
    "my_list = ['42', '65', '12']\n",
    "\n",
    "my_list_int = [int(x) for x in my_list]\n",
    "\n",
    "print(f\"my_list: {my_list}, my_list_int: {my_list_int}\")"
   ]
  },
  {
   "cell_type": "code",
   "execution_count": 2,
   "id": "31cabb55",
   "metadata": {},
   "outputs": [
    {
     "name": "stdout",
     "output_type": "stream",
     "text": [
      "[0, 1, 2, 3, 4, 5, 6, 7, 8, 9]\n"
     ]
    }
   ],
   "source": [
    "new_list = [x for x in range(10)]\n",
    "print(new_list)"
   ]
  },
  {
   "cell_type": "code",
   "execution_count": 3,
   "id": "b7ebdb9a",
   "metadata": {},
   "outputs": [
    {
     "name": "stdout",
     "output_type": "stream",
     "text": [
      "[1, 4, 9, 16, 25, 36, 49, 64, 81, 100]\n"
     ]
    }
   ],
   "source": [
    "# create a list whose elements are the squares of the numbers from 1 to 10\n",
    "#21\n",
    "new_list = [x**2 for x in range(1,11)]\n",
    "print(new_list)"
   ]
  },
  {
   "cell_type": "code",
   "execution_count": 4,
   "id": "00f365f4",
   "metadata": {},
   "outputs": [
    {
     "name": "stdout",
     "output_type": "stream",
     "text": [
      "[-8, -4, 0, 4, 8]\n"
     ]
    }
   ],
   "source": [
    "# create a new list whose values are double the elements of the given list\n",
    "#43\n",
    "vec = [-4, -2, 0, 2, 4]\n",
    "new_list = [2*x for x in vec]\n",
    "print(new_list)"
   ]
  },
  {
   "cell_type": "code",
   "execution_count": 5,
   "id": "fbf8b3fc",
   "metadata": {},
   "outputs": [
    {
     "name": "stdout",
     "output_type": "stream",
     "text": [
      "[4, 2, 0, 2, 4]\n"
     ]
    }
   ],
   "source": [
    "# create a new list whose values are the absolute values of the given list\n",
    "#46\n",
    "vec = [-4, -2, 0, 2, 4]\n",
    "new_list = [abs(x) for x in vec]\n",
    "print(new_list)"
   ]
  },
  {
   "cell_type": "code",
   "execution_count": 6,
   "id": "ebccdceb",
   "metadata": {},
   "outputs": [
    {
     "name": "stdout",
     "output_type": "stream",
     "text": [
      "[(1, 1), (2, 4), (3, 9), (4, 16), (5, 25), (6, 36), (7, 49), (8, 64), (9, 81), (10, 100)]\n"
     ]
    }
   ],
   "source": [
    "# create a list of 2-tuples like (number, square) \n",
    "# for numbers ranging from 1 to 10\n",
    "# 33\n",
    "new_list = [(x,x*x) for x in range(1,11)]\n",
    "print(new_list)"
   ]
  },
  {
   "cell_type": "code",
   "execution_count": 7,
   "id": "74725b74",
   "metadata": {},
   "outputs": [
    {
     "name": "stdout",
     "output_type": "stream",
     "text": [
      "[1, 3, 5, 7, 9]\n"
     ]
    }
   ],
   "source": [
    "# create a list by filtering out the even numbers \n",
    "# from the range 0 to 9\n",
    "\n",
    "new_list = [x for x in range(10) if x % 2]\n",
    "print(new_list)"
   ]
  },
  {
   "cell_type": "code",
   "execution_count": 8,
   "id": "f7995aec",
   "metadata": {},
   "outputs": [
    {
     "name": "stdout",
     "output_type": "stream",
     "text": [
      "[0, 2, 4]\n"
     ]
    }
   ],
   "source": [
    "# create a list by filtering out the negative numbers \n",
    "# from the given list\n",
    "# 57\n",
    "vec = [-4, -2, 0, 2, 4]\n",
    "new_list = [x for x in vec if not x < 0]\n",
    "print(new_list)"
   ]
  },
  {
   "cell_type": "code",
   "execution_count": 9,
   "id": "f2de899e",
   "metadata": {},
   "outputs": [
    {
     "name": "stdout",
     "output_type": "stream",
     "text": [
      "[4, 16, 25]\n"
     ]
    }
   ],
   "source": [
    "# create a list by squaring the positive numbers \n",
    "# from the given list\n",
    "\n",
    "vec = [-4, -2, 0, 2, 4, 5]\n",
    "new_list = [x*x for x in vec if x > 0]\n",
    "print(new_list)"
   ]
  },
  {
   "cell_type": "code",
   "execution_count": 10,
   "id": "62e55a66",
   "metadata": {},
   "outputs": [
    {
     "name": "stdout",
     "output_type": "stream",
     "text": [
      "[0, 1, 0, 9, 0, 25, 0, 49, 0, 81]\n"
     ]
    }
   ],
   "source": [
    "# create a list for numbers ranging from 1 to 10, \n",
    "# which contains square of the number if the number is odd \n",
    "# and 0 otherwise\n",
    "\n",
    "new_list = [i*i if i % 2 else 0 for i in range(10)]\n",
    "print(new_list)"
   ]
  }
 ],
 "metadata": {
  "kernelspec": {
   "display_name": "Python 3 (ipykernel)",
   "language": "python",
   "name": "python3"
  },
  "language_info": {
   "codemirror_mode": {
    "name": "ipython",
    "version": 3
   },
   "file_extension": ".py",
   "mimetype": "text/x-python",
   "name": "python",
   "nbconvert_exporter": "python",
   "pygments_lexer": "ipython3",
   "version": "3.9.7"
  }
 },
 "nbformat": 4,
 "nbformat_minor": 5
}
