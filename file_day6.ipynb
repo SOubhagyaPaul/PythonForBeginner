{
 "cells": [
  {
   "cell_type": "code",
   "execution_count": 1,
   "id": "3fe23484",
   "metadata": {},
   "outputs": [
    {
     "name": "stdout",
     "output_type": "stream",
     "text": [
      "John 55 45 56 87 21 52 89 65\n",
      "Suresh 75 55 64 90 61 58 22\n",
      "Ramesh 25 54 89 76 95 87 56 74\n",
      "Jessica 78 55 86 63 54 89 75 45\n",
      "Jennifer 58 96 78 46 96 77 83 53\n"
     ]
    }
   ],
   "source": [
    "#Write a Python script to copy a text file.\n",
    "f = open(\"cpyStudent.txt\", \"w\")\n",
    "f1=open(\"student.txt\",\"r\")\n",
    "for l in f1:\n",
    "    f.write(l)\n",
    "f = open(\"cpyStudent.txt\", \"r\")\n",
    "print(f.read())"
   ]
  },
  {
   "cell_type": "code",
   "execution_count": 12,
   "id": "cfcba8e9",
   "metadata": {},
   "outputs": [
    {
     "name": "stdout",
     "output_type": "stream",
     "text": [
      "The line number is 5 The word number is 44\n"
     ]
    }
   ],
   "source": [
    "#Write a Python script to find number of characters, words and lines in a file.\n",
    "f1=open(\"student.txt\",\"r\")\n",
    "countLine=0\n",
    "countWord=0\n",
    "for l in f1:\n",
    "    countLine+=1\n",
    "    countWord+= len(l.split())\n",
    "print(\"The line number is\",countLine,\"The word number is\",countWord)"
   ]
  },
  {
   "cell_type": "code",
   "execution_count": 9,
   "id": "a84554ef",
   "metadata": {},
   "outputs": [
    {
     "name": "stdout",
     "output_type": "stream",
     "text": [
      "Enter the word you want to findJennifer\n"
     ]
    },
    {
     "data": {
      "text/plain": [
       "5"
      ]
     },
     "execution_count": 9,
     "metadata": {},
     "output_type": "execute_result"
    }
   ],
   "source": [
    "#Write a Python script to obtain the line number in a file in which a given word is present.\n",
    "f1=open(\"student.txt\",\"r\")\n",
    "find=input(\"Enter the word you want to find\")\n",
    "\n",
    "def foo(find):\n",
    "    count=0\n",
    "    for l in f1:\n",
    "        count+=1\n",
    "        if find in l:\n",
    "            return count\n",
    "    else:\n",
    "        return(\"not found\")\n",
    "foo(find)"
   ]
  },
  {
   "cell_type": "code",
   "execution_count": null,
   "id": "8b7a8643",
   "metadata": {},
   "outputs": [],
   "source": []
  }
 ],
 "metadata": {
  "kernelspec": {
   "display_name": "Python 3 (ipykernel)",
   "language": "python",
   "name": "python3"
  },
  "language_info": {
   "codemirror_mode": {
    "name": "ipython",
    "version": 3
   },
   "file_extension": ".py",
   "mimetype": "text/x-python",
   "name": "python",
   "nbconvert_exporter": "python",
   "pygments_lexer": "ipython3",
   "version": "3.9.7"
  }
 },
 "nbformat": 4,
 "nbformat_minor": 5
}
