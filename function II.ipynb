{
 "cells": [
  {
   "cell_type": "code",
   "execution_count": 1,
   "metadata": {},
   "outputs": [
    {
     "name": "stdout",
     "output_type": "stream",
     "text": [
      "    x    y    z    t\n",
      "    5   55   66   77\n",
      "    6   55   66   77\n",
      "    7   55    8   77\n",
      "    7   55    8   77\n",
      "   10   20   30   77\n",
      "   40   50   66   77\n"
     ]
    }
   ],
   "source": [
    "# Scenario:\n",
    "# there are several optional parameters and \n",
    "# we want to provide a value for one of the later parameters\n",
    "# while not providing a value for the earlier ones\n",
    "# Solution: use keyword arguments (named arguments) in function call\n",
    "\n",
    "def fn(x, y=55, z=66, t=77):\n",
    "    print(f\"{x:>5}{y:>5}{z:>5}{t:>5}\")\n",
    "\n",
    "print(f\"{'x':>5}{'y':>5}{'z':>5}{'t':>5}\")\n",
    "\n",
    "fn(5)           # 1 positional argument\n",
    "\n",
    "fn(x=6)         # 1 keyword argument\n",
    "\n",
    "fn(x=7, z=8)    # 2 keyword arguments\n",
    "\n",
    "fn(z=8, x=7)    # 2 keyword arguments\n",
    "\n",
    "fn(10, 20, 30)    # 3 positional arguments\n",
    "\n",
    "fn(40, y=50)    # 1 positional, 1 keyword\n",
    "\n",
    "# fn()          # required argument missing\n",
    "\n",
    "# fn(x=5,6)     # non-keyword argument after a keyword argument\n",
    "\n",
    "# fn(10, x=20)  # duplicate value for the same argument\n",
    "\n",
    "# f(a=10)      # unknown keyword argument"
   ]
  },
  {
   "cell_type": "code",
   "execution_count": 2,
   "metadata": {},
   "outputs": [],
   "source": [
    "# In a function call, \n",
    "# keyword arguments must follow positional arguments\n",
    "# all keyword arguments must match one of the parameters accepted by the function\n",
    "# order is not important\n",
    "# no argument may receive a value more than once"
   ]
  },
  {
   "cell_type": "code",
   "execution_count": 3,
   "metadata": {},
   "outputs": [],
   "source": [
    "# Scenario: we want to capture an argument that \n",
    "# we might not know in advance (i.e, datatype/length)?\n",
    "\n",
    "# arbitrary argument lists - variadic parameters\n",
    "\n",
    "# when a final formal parameter of the form **name is present, \n",
    "# it receives a dictionary containing all keyword arguments \n",
    "# except for those corresponding to a formal parameter\n",
    "\n",
    "# a formal parameter of the form *name receives a tuple \n",
    "# containing the positional arguments beyond the formal parameter list\n",
    "\n",
    "# *name must occur before **name "
   ]
  },
  {
   "cell_type": "code",
   "execution_count": 4,
   "metadata": {},
   "outputs": [
    {
     "name": "stdout",
     "output_type": "stream",
     "text": [
      "x: 5\n",
      "6\n",
      "7\n",
      "8\n",
      "----------\n",
      "a: 10\n",
      "b: 20\n"
     ]
    }
   ],
   "source": [
    "def f(x, *args, **kwargs):\n",
    "    print(f\"x: {x}\")\n",
    "    \n",
    "    for arg in args:\n",
    "        print(arg)\n",
    "    print(\"-\" * 10)\n",
    "    \n",
    "    for kw in kwargs:\n",
    "        print(f\"{kw}: {kwargs[kw]}\")\n",
    "        \n",
    "f(5,6,7,8,a=10,b=20)"
   ]
  },
  {
   "cell_type": "code",
   "execution_count": 5,
   "metadata": {},
   "outputs": [
    {
     "name": "stdout",
     "output_type": "stream",
     "text": [
      "x: 5\n",
      "6\n",
      "7\n",
      "8\n"
     ]
    }
   ],
   "source": [
    "def f(x, *args):\n",
    "    print(f\"x: {x}\")\n",
    "    \n",
    "    for arg in args:\n",
    "        print(arg)\n",
    "            \n",
    "f(5,6,7,8)"
   ]
  },
  {
   "cell_type": "code",
   "execution_count": 6,
   "metadata": {},
   "outputs": [
    {
     "name": "stdout",
     "output_type": "stream",
     "text": [
      "x: 5\n",
      "a: 10\n",
      "b: 20\n",
      "c: 30\n"
     ]
    }
   ],
   "source": [
    "def f(x, **kwargs):\n",
    "    print(f\"x: {x}\")\n",
    "    \n",
    "    for kw in kwargs:\n",
    "        print(f\"{kw}: {kwargs[kw]}\")\n",
    "        \n",
    "f(5,a=10,b=20,c=30)"
   ]
  },
  {
   "cell_type": "code",
   "execution_count": 7,
   "metadata": {},
   "outputs": [
    {
     "data": {
      "text/plain": [
       "[2, 5, 8, 11, 14, 17]"
      ]
     },
     "execution_count": 7,
     "metadata": {},
     "output_type": "execute_result"
    }
   ],
   "source": [
    "# unpacking argument lists\n",
    "# Scenario: arguments are already in a list or tuple\n",
    "# but need to be unpacked for a function call \n",
    "# requiring separate positional arguments\n",
    "\n",
    "args = (2, 20, 3)\n",
    "list(range(*args))            # call with arguments unpacked from a list"
   ]
  },
  {
   "cell_type": "code",
   "execution_count": 8,
   "metadata": {},
   "outputs": [
    {
     "name": "stdout",
     "output_type": "stream",
     "text": [
      "5 Aditi 22\n"
     ]
    }
   ],
   "source": [
    "# unpacking argument lists\n",
    "# similarly, dictionaries can deliver keyword arguments with the ** operator\n",
    "\n",
    "def f(roll, name, age):\n",
    "    print(roll,name, age)\n",
    "    \n",
    "d = {'roll': 5, 'name': 'Aditi', 'age': 22}\n",
    "f(**d)"
   ]
  },
  {
   "cell_type": "code",
   "execution_count": null,
   "metadata": {},
   "outputs": [],
   "source": [
    "'''\n",
    "By default, arguments may be passed to a Python function\n",
    "either by position or explicitly by keyword. \n",
    "For readability and performance, it makes sense to restrict \n",
    "the way arguments can be passed so that a developer \n",
    "need only look at the function definition to determine \n",
    "if items are passed by position, by position or keyword, or by keyword.\n",
    "'''"
   ]
  },
  {
   "cell_type": "code",
   "execution_count": null,
   "metadata": {},
   "outputs": [],
   "source": [
    "# Special parameters\n",
    "\n",
    "def f(pos1, pos2, /, pos_or_kwd, *, kwd1, kwd2):\n",
    "      -----------    ----------     ----------\n",
    "        |             |                  |\n",
    "        |        Positional or keyword   |\n",
    "        |                                - Keyword only\n",
    "         -- Positional only\n",
    "\n",
    "# / and * are optional.\n",
    "# if / and * are not present in the function definition, \n",
    "# arguments may be passed to a function by position or by keyword.\n",
    "# Keyword parameters are also referred to as named parameters."
   ]
  },
  {
   "cell_type": "code",
   "execution_count": 9,
   "metadata": {},
   "outputs": [],
   "source": [
    "# Positional-Only Parameters\n",
    "# parameters’ order matters\n",
    "# parameters cannot be passed by keyword\n",
    "# placed before a /\n",
    "\n",
    "# Keyword-Only \n",
    "# an * in the arguments list just before the first keyword-only parameter"
   ]
  },
  {
   "cell_type": "code",
   "execution_count": 10,
   "metadata": {},
   "outputs": [
    {
     "name": "stdout",
     "output_type": "stream",
     "text": [
      "5\n",
      "6\n"
     ]
    }
   ],
   "source": [
    "def standard_arg(arg):\n",
    "    print(arg)\n",
    "    \n",
    "standard_arg(5)\n",
    "standard_arg(arg=6)"
   ]
  },
  {
   "cell_type": "code",
   "execution_count": 11,
   "metadata": {},
   "outputs": [
    {
     "name": "stdout",
     "output_type": "stream",
     "text": [
      "5\n"
     ]
    }
   ],
   "source": [
    "def pos_only_arg(arg, /):\n",
    "    print(arg)\n",
    "\n",
    "pos_only_arg(5)   \n",
    "# pos_only_arg(arg=5)   # TypeError: pos_only_arg() got some \n",
    "                        # positional-only arguments passed as \n",
    "                        # keyword arguments: 'arg'"
   ]
  },
  {
   "cell_type": "code",
   "execution_count": 12,
   "metadata": {},
   "outputs": [
    {
     "name": "stdout",
     "output_type": "stream",
     "text": [
      "5\n"
     ]
    }
   ],
   "source": [
    "def kwd_only_arg(*, arg):\n",
    "    print(arg)\n",
    "\n",
    "# kwd_only_arg(5)   # TypeError: kwd_only_arg() takes 0 positional \n",
    "                    # arguments but 1 was given\n",
    "kwd_only_arg(arg=5)"
   ]
  },
  {
   "cell_type": "code",
   "execution_count": 13,
   "metadata": {},
   "outputs": [
    {
     "name": "stdout",
     "output_type": "stream",
     "text": [
      "3 4 5\n",
      "6 7 8\n"
     ]
    }
   ],
   "source": [
    "def combined_example(pos_only, /, standard, *, kwd_only):\n",
    "    print(f\"{pos_only} {standard} {kwd_only}\")\n",
    "    \n",
    "# combined_example(1, 2, 3)     #TypeError: combined_example() \n",
    "                                # takes 2 positional arguments but 3 were given\n",
    "\n",
    "combined_example(3, 4, kwd_only=5)\n",
    "\n",
    "combined_example(6, standard=7, kwd_only=8)\n",
    "\n",
    "# combined_example(pos_only=1, standard=2, kwd_only=3) \n",
    "# TypeError: combined_example() got some positional-only arguments\n",
    "# passed as keyword arguments: 'pos_only'"
   ]
  },
  {
   "cell_type": "code",
   "execution_count": 14,
   "metadata": {},
   "outputs": [],
   "source": [
    "# potential collision between the positional argument 'name' \n",
    "# and **kwds which has 'name' as a key\n",
    "\n",
    "def f(name, **kwds):\n",
    "    return 'name' in kwds\n",
    "\n",
    "# f(1, **{'name': 2}) # TypeError: f() got multiple values for argument 'name'"
   ]
  },
  {
   "cell_type": "code",
   "execution_count": 15,
   "metadata": {},
   "outputs": [
    {
     "data": {
      "text/plain": [
       "True"
      ]
     },
     "execution_count": 15,
     "metadata": {},
     "output_type": "execute_result"
    }
   ],
   "source": [
    "# Workaround\n",
    "# using / (positional only arguments),\n",
    "# possible - it allows name as a positional argument and 'name' \n",
    "# as a key in the keyword arguments\n",
    "\n",
    "def f(name, /, **kwds):\n",
    "    return 'name' in kwds\n",
    "\n",
    "f(1, **{'name': 2})"
   ]
  },
  {
   "cell_type": "code",
   "execution_count": 16,
   "metadata": {},
   "outputs": [],
   "source": [
    "# Which to use\n",
    "\n",
    "# positional-only \n",
    "# if name of the parameters need not be available to the user. \n",
    "# (useful when parameter names have no real meaning), \n",
    "# to enforce the order of the arguments when the function is called \n",
    "# if needed to take some positional parameters and arbitrary keywords.\n",
    "\n",
    "# keyword-only \n",
    "# when names have meaning and \n",
    "# the function definition is more understandable by being explicit with names\n",
    "# prevent users from relying on the position of the argument being passed.\n",
    "\n",
    "# For an API, use positional-only to prevent breaking API changes if the \n",
    "# parameter’s name is modified in the future."
   ]
  },
  {
   "cell_type": "code",
   "execution_count": 17,
   "metadata": {},
   "outputs": [
    {
     "name": "stdout",
     "output_type": "stream",
     "text": [
      "<function <lambda> at 0x000002979C0C5E10>\n",
      "<class 'function'>\n",
      "4\n"
     ]
    }
   ],
   "source": [
    "# lambda expressions\n",
    "# anonymous functions can be created with the lambda keyword\n",
    "# lambda arguments: return value\n",
    "# lambda functions can be used wherever function objects are required\n",
    "# With a lambda function, we can execute the function immediately after\n",
    "# its creation and receive the result; \n",
    "# Immediately Invoked Function Execution (IIFE).\n",
    "\n",
    "print(lambda x: x-2)\n",
    "print(type(lambda x: x-2))\n",
    "print((lambda x: x-2)(6))\n"
   ]
  },
  {
   "cell_type": "code",
   "execution_count": 18,
   "metadata": {},
   "outputs": [
    {
     "data": {
      "text/plain": [
       "25"
      ]
     },
     "execution_count": 18,
     "metadata": {},
     "output_type": "execute_result"
    }
   ],
   "source": [
    "# Can assign a lambda function to a variable and \n",
    "# then call that variable as a normal function\n",
    "\n",
    "squared = lambda x: x**2\n",
    "squared(5)\n",
    "\n",
    "# But it is considered a bad practice according to \n",
    "# PEP 8 - Style guide for Python Code (https://peps.python.org/pep-0008/)\n",
    "# \"The use of the assignment statement eliminates the sole benefit\n",
    "# a lambda expression can offer over an \n",
    "# explicit def statement (i.e. that it can be embedded inside a larger expression)\".\n",
    "\n",
    "# PEP stands for Python Enhancement Proposal. \n",
    "# A PEP is a design document providing information to the Python community, \n",
    "# or describing a new feature for Python or its processes or environment. "
   ]
  },
  {
   "cell_type": "code",
   "execution_count": 19,
   "metadata": {},
   "outputs": [],
   "source": [
    "# So, according to PEP 8, \n",
    "\n",
    "# Correct:\n",
    "def squared(x): return x**2\n",
    "\n",
    "# Wrong:\n",
    "squared = lambda x: x**2\n",
    "\n",
    "# The first form means that the name of the resulting function object\n",
    "# is specifically ‘squared’ instead of the generic ‘<lambda>’. \n",
    "# This is more useful for tracebacks and string representations in general. "
   ]
  },
  {
   "cell_type": "code",
   "execution_count": 20,
   "metadata": {},
   "outputs": [
    {
     "name": "stdout",
     "output_type": "stream",
     "text": [
      "8\n",
      "125\n"
     ]
    }
   ],
   "source": [
    "# lambda expression to return a function\n",
    "\n",
    "def powered(n):\n",
    "    return lambda x: x ** n\n",
    "\n",
    "f = powered(3)\n",
    "\n",
    "print(f(2))\n",
    "print(f(5))"
   ]
  }
 ],
 "metadata": {
  "kernelspec": {
   "display_name": "Python 3 (ipykernel)",
   "language": "python",
   "name": "python3"
  },
  "language_info": {
   "codemirror_mode": {
    "name": "ipython",
    "version": 3
   },
   "file_extension": ".py",
   "mimetype": "text/x-python",
   "name": "python",
   "nbconvert_exporter": "python",
   "pygments_lexer": "ipython3",
   "version": "3.9.7"
  }
 },
 "nbformat": 4,
 "nbformat_minor": 4
}
